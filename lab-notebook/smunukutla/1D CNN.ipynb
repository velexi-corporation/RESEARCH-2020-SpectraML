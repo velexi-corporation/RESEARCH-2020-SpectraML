{
 "cells": [
  {
   "cell_type": "code",
   "execution_count": 12,
   "metadata": {},
   "outputs": [],
   "source": [
    "# environment set up\n",
    "import keras\n",
    "from keras.models import Sequential\n",
    "from keras.layers import Reshape, Conv1D, MaxPooling1D, Flatten, Dense, Dropout\n",
    "from keras.utils import to_categorical\n",
    "import tensorflow as tf # only use tensorflow keras\n",
    "import numpy as np\n",
    "import matplotlib.pyplot as plt\n",
    "import os\n",
    "import random\n",
    "\n",
    "# working folder\n",
    "directory = \"/Users/Srikar/Desktop/Velexi/spectra-ml/data\"\n",
    "os.chdir(directory)\n",
    "\n",
    "# print(os.getcwd())"
   ]
  },
  {
   "cell_type": "code",
   "execution_count": 13,
   "metadata": {},
   "outputs": [
    {
     "name": "stdout",
     "output_type": "stream",
     "text": [
      "33\n"
     ]
    }
   ],
   "source": [
    "dataset = str(directory + \"/dataset3\")\n",
    "num_samples = len([name for name in os.listdir(dataset) if \\\n",
    "                   os.path.isfile(os.path.join(dataset,name))])\n",
    "\n",
    "print(num_samples)"
   ]
  },
  {
   "cell_type": "code",
   "execution_count": 14,
   "metadata": {},
   "outputs": [],
   "source": [
    "spectrum_len = 480\n",
    "spectra = np.zeros((num_samples,spectrum_len))\n",
    "\n",
    "spectrum_categories = np.zeros(num_samples)\n",
    "first_record_of_mixtures_chapter = 11602\n",
    "is_a_mineral = 1                                   # these numbers match the chapter numbers given by usgs\n",
    "is_a_mixture = 2\n",
    "spectrum_names = [\"\" for x in range(num_samples)]\n",
    "\n",
    "y = np.zeros((num_samples, 1))\n",
    "\n",
    "os.chdir(dataset)\n",
    "\n",
    "i = 0\n",
    "\n",
    "for filename in os.listdir(dataset):\n",
    "    file_object  = open(filename, 'r').readlines()\n",
    "#     strip off header, add to matrix 'spectra'\n",
    "    spectra[i,:] = file_object[1:]\n",
    "\n",
    "#     label spectrum class, based on header\n",
    "#     actinolite: 0, alunite: 1, chlorite: 2\n",
    "    material_name = file_object[0]\n",
    "    \n",
    "    spectrum_names[i] = material_name\n",
    "    \n",
    "    start = 'Record='\n",
    "    end = ':'\n",
    "    record_number = int((material_name.split(start))[1].split(end)[0])\n",
    "    # print(record_number)\n",
    "    if record_number < first_record_of_mixtures_chapter:\n",
    "        spectrum_categories[i] = is_a_mineral\n",
    "    else:\n",
    "        spectrum_categories[i] = is_a_mixture\n",
    "\n",
    "#     print(material_name)\n",
    "\n",
    "    if material_name.find('Actinolite',) != -1: # if material name contains actinolite\n",
    "        y[i,0] = 0\n",
    "    elif material_name.find('Alun',)!= -1:\n",
    "        y[i,0] = 1\n",
    "    else: # chlorite\n",
    "        y[i,0] = 2\n",
    "\n",
    "#     turn missing points into 0\n",
    "    for j in range(spectrum_len):\n",
    "        if spectra[i,j] < 0:\n",
    "            spectra[i,j] = 0\n",
    "    i+=1"
   ]
  },
  {
   "cell_type": "code",
   "execution_count": 15,
   "metadata": {},
   "outputs": [
    {
     "name": "stdout",
     "output_type": "stream",
     "text": [
      "33\n",
      "18\n",
      "9\n",
      "6\n",
      "[12, 26, 27, 16, 13, 15, 10, 5, 20, 28, 2, 4, 9, 8, 1, 30, 31, 17]\n",
      "[29, 0, 19, 22, 25, 18, 7, 11, 32]\n",
      "[3, 23, 24, 6, 14, 21]\n"
     ]
    }
   ],
   "source": [
    "sample_indices = list(range(0, num_samples))\n",
    "print(num_samples)\n",
    "random.shuffle(sample_indices)\n",
    "train_set_size = 3*(num_samples//5)\n",
    "dev_set_size = (num_samples//5)\n",
    "test_set_size= num_samples-dev_set_size - train_set_size\n",
    "print(train_set_size)\n",
    "print(test_set_size)\n",
    "print(dev_set_size)\n",
    "train_set_indices = sample_indices[:train_set_size]\n",
    "dev_set_indices = sample_indices[train_set_size: train_set_size+dev_set_size]\n",
    "test_set_indices= sample_indices[train_set_size+dev_set_size: num_samples]\n",
    "print(train_set_indices)\n",
    "print(test_set_indices)\n",
    "print(dev_set_indices)\n",
    "\n",
    "train_set = spectra[train_set_indices, :]\n",
    "train_labels = y[train_set_indices, :]\n",
    "dev_set = spectra[dev_set_indices, :]\n",
    "dev_labels = y[dev_set_indices, :]\n",
    "test_set = spectra[test_set_indices, :]\n",
    "test_labels = y[test_set_indices, :]"
   ]
  },
  {
   "cell_type": "code",
   "execution_count": 16,
   "metadata": {},
   "outputs": [],
   "source": [
    "train_labels = train_labels.flatten()\n",
    "dev_labels = dev_labels.flatten()\n",
    "test_labels = test_labels.flatten()\n",
    "# type(train_labels)"
   ]
  },
  {
   "cell_type": "code",
   "execution_count": 17,
   "metadata": {},
   "outputs": [
    {
     "name": "stdout",
     "output_type": "stream",
     "text": [
      "(9, 480)\n"
     ]
    }
   ],
   "source": [
    "# len(train_set)\n",
    "# len(train_set[17])\n",
    "print(test_set.shape)"
   ]
  },
  {
   "cell_type": "code",
   "execution_count": 18,
   "metadata": {},
   "outputs": [],
   "source": [
    "# --- plot the classes\n",
    "\n",
    "# plot each class in a separate plot\n",
    "# plot spectra names in legend\n",
    "# plot minerals and mixtures w diff line widths\n",
    "\n",
    "mineral_names = [\"Actinolite\", \"Alunite\", \"Chlorite\"]\n",
    "\n",
    "# variables\n",
    "num0 = 0 #number of samples of class 0\n",
    "num1 = 0\n",
    "num2 = 0\n",
    "\n",
    "mineral_linewidth = 1         # linewidth = 1 is default\n",
    "mixture_linewidth = 3         \n",
    "\n",
    "# count the number of each class to make spectra0, spectra1, spectra2 databases\n",
    "for i in range(num_samples):\n",
    "    if y[i,0]== 0:\n",
    "        num0 += 1\n",
    "    elif y[i,0]== 1:\n",
    "        num1 += 1\n",
    "    elif y[i,0]== 2:\n",
    "        num2 += 1\n",
    "\n",
    "# make class-specific databases spectra0, ...1, ...2\n",
    "spectra0 = np.zeros((num0,spectrum_len)) \n",
    "spectra1 = np.zeros((num1,spectrum_len)) \n",
    "spectra2 = np.zeros((num2,spectrum_len)) \n",
    "\n",
    "labels0 = [\"\" for x in range(num0)]\n",
    "labels1 = [\"\" for x in range(num1)]\n",
    "labels2 = [\"\" for x in range(num2)]\n",
    "\n",
    "linewidth0 = np.zeros(num0)\n",
    "linewidth1 = np.zeros(num1)\n",
    "linewidth2 = np.zeros(num2)\n",
    "\n",
    "\n",
    "# make counters for each database to place spectra\n",
    "i0 = 0\n",
    "i1 = 0\n",
    "i2 = 0\n",
    "\n",
    "# set linewidth for the spectrum \n",
    "# populate class-specific databases spectra0, ...1, ...2\n",
    "for i in range(num_samples):\n",
    "    \n",
    "    # set linewidth\n",
    "    #testcode\n",
    "    #print(spectrum_categories)\n",
    "    #print(spectrum_categories[i])\n",
    "    \n",
    "    if spectrum_categories[i] == is_a_mineral:\n",
    "        linewidth = mineral_linewidth\n",
    "        \n",
    "        #testcode\n",
    "        #print('min')\n",
    "    else: \n",
    "        linewidth = mixture_linewidth\n",
    "        \n",
    "        #testcode\n",
    "        #print('mix')\n",
    "    \n",
    "    # populate matrices for making each class plot\n",
    "    if y[i,0]== 0:\n",
    "        spectra0[i0,:] = spectra[i,:]\n",
    "        labels0[i0] = spectrum_names[i]\n",
    "        linewidth0[i0] = linewidth\n",
    "        i0 +=1\n",
    "    elif y[i,0]== 1:\n",
    "        spectra1[i1,:] = spectra[i,:]\n",
    "        labels1[i1] = spectrum_names[i]\n",
    "        linewidth1[i1] = linewidth\n",
    "        i1 +=1\n",
    "    else:\n",
    "        spectra2[i2,:] = spectra[i,:]\n",
    "        labels2[i2] = spectrum_names[i]\n",
    "        linewidth2[i2] = linewidth\n",
    "        i2 +=1\n",
    "\n",
    "# plot each class-specific database separately\n",
    "# for i in range(i0):\n",
    "#     fig = plt.figure()\n",
    "#     plt.plot(range(1, spectrum_len+1), spectra0[i,:], label = labels0[i], linewidth = linewidth0[i]) # remove linewidth for all mixtures/minerals to be standard\n",
    "#     plt.xticks([])\n",
    "#     plt.yticks([])\n",
    "# #     plt.show()\n",
    "#     path = \"/Users/Srikar/Desktop/Velexi/spectra-ml/lab-notebook/smunukutla/plots/\" + mineral_names[0] + str(i) + \".png\"\n",
    "#     fig.savefig(path, format = \"PNG\")\n",
    "# # plt.legend(bbox_to_anchor=(1.1, 1.05))\n",
    "\n",
    "# for i in range(i1):\n",
    "#     plt.plot(range(1, spectrum_len+1), spectra1[i,:], label = labels1[i], linewidth = linewidth1[i])\n",
    "# plt.legend(bbox_to_anchor=(1.1, 1.05))\n",
    "# plt.show()\n",
    "\n",
    "# for i in range(i2):\n",
    "#     plt.plot(range(1, spectrum_len+1), spectra2[i,:], label = labels2[i], linewidth = linewidth2[i])\n",
    "# plt.legend(bbox_to_anchor=(1.1, 1.05))\n",
    "# plt.show()"
   ]
  },
  {
   "cell_type": "code",
   "execution_count": 19,
   "metadata": {},
   "outputs": [],
   "source": [
    "train_set = np.reshape(train_set, (train_set.shape[0], 480, 1))\n",
    "dev_set = np.reshape(dev_set, (dev_set.shape[0], 480, 1))\n",
    "test_set = np.reshape(test_set, (test_set.shape[0], 480, 1))\n",
    "\n",
    "train_labels = np.reshape(train_labels, (train_labels.shape[0], 1))\n",
    "dev_labels = np.reshape(dev_labels, (dev_labels.shape[0], 1))\n",
    "test_labels = np.reshape(test_labels, (test_labels.shape[0], 1))\n",
    "\n",
    "train_labels = to_categorical(train_labels)\n",
    "dev_labels = to_categorical(dev_labels)\n",
    "test_labels = to_categorical(test_labels)"
   ]
  },
  {
   "cell_type": "code",
   "execution_count": 20,
   "metadata": {},
   "outputs": [
    {
     "name": "stdout",
     "output_type": "stream",
     "text": [
      "[[0. 0. 1.]\n",
      " [1. 0. 0.]\n",
      " [0. 0. 1.]\n",
      " [0. 1. 0.]\n",
      " [1. 0. 0.]\n",
      " [0. 1. 0.]\n",
      " [1. 0. 0.]\n",
      " [1. 0. 0.]\n",
      " [0. 0. 1.]\n",
      " [0. 1. 0.]\n",
      " [0. 0. 1.]\n",
      " [0. 1. 0.]\n",
      " [0. 1. 0.]\n",
      " [0. 1. 0.]\n",
      " [1. 0. 0.]\n",
      " [0. 0. 1.]\n",
      " [0. 1. 0.]\n",
      " [0. 1. 0.]]\n"
     ]
    }
   ],
   "source": [
    "print(train_labels)"
   ]
  },
  {
   "cell_type": "code",
   "execution_count": 21,
   "metadata": {},
   "outputs": [
    {
     "name": "stdout",
     "output_type": "stream",
     "text": [
      "_________________________________________________________________\n",
      "Layer (type)                 Output Shape              Param #   \n",
      "=================================================================\n",
      "conv1d_5 (Conv1D)            (None, 456, 64)           1664      \n",
      "_________________________________________________________________\n",
      "conv1d_6 (Conv1D)            (None, 432, 64)           102464    \n",
      "_________________________________________________________________\n",
      "max_pooling1d_3 (MaxPooling1 (None, 108, 64)           0         \n",
      "_________________________________________________________________\n",
      "conv1d_7 (Conv1D)            (None, 84, 100)           160100    \n",
      "_________________________________________________________________\n",
      "conv1d_8 (Conv1D)            (None, 60, 100)           250100    \n",
      "_________________________________________________________________\n",
      "max_pooling1d_4 (MaxPooling1 (None, 15, 100)           0         \n",
      "_________________________________________________________________\n",
      "flatten_2 (Flatten)          (None, 1500)              0         \n",
      "_________________________________________________________________\n",
      "dense_2 (Dense)              (None, 3)                 4503      \n",
      "=================================================================\n",
      "Total params: 518,831\n",
      "Trainable params: 518,831\n",
      "Non-trainable params: 0\n",
      "_________________________________________________________________\n",
      "None\n"
     ]
    }
   ],
   "source": [
    "model = Sequential()\n",
    "# model.add(Reshape((TIME_PERIODS, num_sensors), input_shape=(input_shape,)))\n",
    "model.add(Conv1D(64, 25, activation='relu', input_shape=(train_set.shape[1], 1)))\n",
    "model.add(Conv1D(64, 25, activation='relu'))\n",
    "model.add(MaxPooling1D(4)) # 108 by 64 so far\n",
    "model.add(Conv1D(100, 25, activation='relu'))\n",
    "model.add(Conv1D(100, 25, activation='relu'))\n",
    "model.add(MaxPooling1D(4))\n",
    "# model.add(Dropout(0.5))\n",
    "# model.add(GlobalAveragePooling1D())\n",
    "model.add(Flatten())\n",
    "model.add(Dense(3, activation='softmax'))\n",
    "print(model.summary())"
   ]
  },
  {
   "cell_type": "code",
   "execution_count": 22,
   "metadata": {},
   "outputs": [
    {
     "name": "stdout",
     "output_type": "stream",
     "text": [
      "(18, 3)\n",
      "Train on 18 samples, validate on 6 samples\n",
      "Epoch 1/50\n",
      "18/18 [==============================] - 1s 42ms/step - loss: 1.0390 - acc: 0.2778 - val_loss: 1.3904 - val_acc: 0.3333\n",
      "Epoch 2/50\n",
      "18/18 [==============================] - 0s 14ms/step - loss: 0.9769 - acc: 0.4444 - val_loss: 1.1390 - val_acc: 0.3333\n",
      "Epoch 3/50\n",
      "18/18 [==============================] - 0s 12ms/step - loss: 0.8984 - acc: 0.4444 - val_loss: 1.0242 - val_acc: 0.3333\n",
      "Epoch 4/50\n",
      "18/18 [==============================] - 0s 13ms/step - loss: 0.9403 - acc: 0.4444 - val_loss: 1.0085 - val_acc: 0.3333\n",
      "Epoch 5/50\n",
      "18/18 [==============================] - 0s 11ms/step - loss: 0.8940 - acc: 0.4444 - val_loss: 1.0783 - val_acc: 0.3333\n",
      "Epoch 6/50\n",
      "18/18 [==============================] - 0s 13ms/step - loss: 0.8862 - acc: 0.4444 - val_loss: 1.2133 - val_acc: 0.3333\n",
      "Epoch 7/50\n",
      "18/18 [==============================] - 0s 18ms/step - loss: 0.8233 - acc: 0.4444 - val_loss: 1.0062 - val_acc: 0.3333\n",
      "Epoch 8/50\n",
      "18/18 [==============================] - 1s 29ms/step - loss: 0.7816 - acc: 0.6111 - val_loss: 0.9131 - val_acc: 0.3333\n",
      "Epoch 9/50\n",
      "18/18 [==============================] - 0s 17ms/step - loss: 0.7639 - acc: 0.6111 - val_loss: 0.8607 - val_acc: 0.5000\n",
      "Epoch 10/50\n",
      "18/18 [==============================] - 0s 13ms/step - loss: 0.7237 - acc: 0.5556 - val_loss: 0.8304 - val_acc: 0.5000\n",
      "Epoch 11/50\n",
      "18/18 [==============================] - 0s 16ms/step - loss: 0.6647 - acc: 0.6667 - val_loss: 0.6979 - val_acc: 0.5000\n",
      "Epoch 12/50\n",
      "18/18 [==============================] - 0s 15ms/step - loss: 0.6226 - acc: 0.7222 - val_loss: 0.5551 - val_acc: 0.6667\n",
      "Epoch 13/50\n",
      "18/18 [==============================] - 0s 12ms/step - loss: 0.5771 - acc: 0.6667 - val_loss: 0.5409 - val_acc: 0.6667\n",
      "Epoch 14/50\n",
      "18/18 [==============================] - 0s 14ms/step - loss: 0.5986 - acc: 0.6111 - val_loss: 0.4260 - val_acc: 1.0000\n",
      "Epoch 15/50\n",
      "18/18 [==============================] - 0s 12ms/step - loss: 0.6184 - acc: 0.6111 - val_loss: 0.4890 - val_acc: 0.6667\n",
      "Epoch 16/50\n",
      "18/18 [==============================] - 0s 14ms/step - loss: 0.5554 - acc: 0.6111 - val_loss: 0.4969 - val_acc: 0.6667\n",
      "Epoch 17/50\n",
      "18/18 [==============================] - 0s 25ms/step - loss: 0.5042 - acc: 0.6111 - val_loss: 0.5310 - val_acc: 0.6667\n",
      "Epoch 18/50\n",
      "18/18 [==============================] - 0s 17ms/step - loss: 0.5012 - acc: 0.7778 - val_loss: 0.4202 - val_acc: 0.6667\n",
      "Epoch 19/50\n",
      "18/18 [==============================] - 0s 25ms/step - loss: 0.4888 - acc: 0.7222 - val_loss: 0.3521 - val_acc: 1.0000\n",
      "Epoch 20/50\n",
      "18/18 [==============================] - 0s 18ms/step - loss: 0.4519 - acc: 0.8333 - val_loss: 0.3623 - val_acc: 0.8333\n",
      "Epoch 21/50\n",
      "18/18 [==============================] - 0s 26ms/step - loss: 0.4014 - acc: 0.8889 - val_loss: 0.4206 - val_acc: 0.8333\n",
      "Epoch 22/50\n",
      "18/18 [==============================] - 0s 27ms/step - loss: 0.3717 - acc: 0.8333 - val_loss: 0.2714 - val_acc: 1.0000\n",
      "Epoch 23/50\n",
      "18/18 [==============================] - 0s 18ms/step - loss: 0.3461 - acc: 0.9444 - val_loss: 0.1839 - val_acc: 1.0000\n",
      "Epoch 24/50\n",
      "18/18 [==============================] - 0s 13ms/step - loss: 0.6732 - acc: 0.7222 - val_loss: 0.3106 - val_acc: 0.8333\n",
      "Epoch 25/50\n",
      "18/18 [==============================] - 0s 12ms/step - loss: 0.4336 - acc: 0.8889 - val_loss: 1.1641 - val_acc: 0.6667\n",
      "Epoch 26/50\n",
      "18/18 [==============================] - 0s 13ms/step - loss: 0.5149 - acc: 0.7222 - val_loss: 0.4790 - val_acc: 0.8333\n",
      "Epoch 27/50\n",
      "18/18 [==============================] - 1s 29ms/step - loss: 0.2881 - acc: 0.9444 - val_loss: 0.9333 - val_acc: 0.5000\n",
      "Epoch 28/50\n",
      "18/18 [==============================] - 0s 12ms/step - loss: 0.3730 - acc: 0.7222 - val_loss: 0.8385 - val_acc: 0.6667\n",
      "Epoch 29/50\n",
      "18/18 [==============================] - 0s 12ms/step - loss: 0.3870 - acc: 0.7778 - val_loss: 0.4833 - val_acc: 0.6667\n",
      "Epoch 30/50\n",
      "18/18 [==============================] - 0s 18ms/step - loss: 0.3280 - acc: 0.8333 - val_loss: 0.2234 - val_acc: 1.0000\n",
      "Epoch 31/50\n",
      "18/18 [==============================] - 0s 28ms/step - loss: 0.2864 - acc: 0.8889 - val_loss: 0.1632 - val_acc: 1.0000\n",
      "Epoch 32/50\n",
      "18/18 [==============================] - 0s 22ms/step - loss: 0.2715 - acc: 0.8889 - val_loss: 0.1552 - val_acc: 1.0000\n",
      "Epoch 33/50\n",
      "18/18 [==============================] - 0s 16ms/step - loss: 0.2518 - acc: 0.9444 - val_loss: 0.1191 - val_acc: 1.0000\n",
      "Epoch 34/50\n",
      "18/18 [==============================] - 0s 23ms/step - loss: 0.2294 - acc: 1.0000 - val_loss: 0.1018 - val_acc: 1.0000\n",
      "Epoch 35/50\n",
      "18/18 [==============================] - 0s 20ms/step - loss: 0.2092 - acc: 1.0000 - val_loss: 0.0824 - val_acc: 1.0000\n",
      "Epoch 36/50\n",
      "18/18 [==============================] - 0s 13ms/step - loss: 0.1646 - acc: 1.0000 - val_loss: 0.0579 - val_acc: 1.0000\n",
      "Epoch 37/50\n",
      "18/18 [==============================] - 1s 31ms/step - loss: 0.1322 - acc: 1.0000 - val_loss: 0.0500 - val_acc: 1.0000\n",
      "Epoch 38/50\n",
      "18/18 [==============================] - 0s 16ms/step - loss: 0.1133 - acc: 0.9444 - val_loss: 0.0283 - val_acc: 1.0000\n",
      "Epoch 39/50\n",
      "18/18 [==============================] - 0s 23ms/step - loss: 0.1037 - acc: 1.0000 - val_loss: 0.0157 - val_acc: 1.0000\n",
      "Epoch 40/50\n",
      "18/18 [==============================] - 0s 21ms/step - loss: 0.0750 - acc: 1.0000 - val_loss: 0.0163 - val_acc: 1.0000\n",
      "Epoch 41/50\n",
      "18/18 [==============================] - 0s 18ms/step - loss: 0.0638 - acc: 1.0000 - val_loss: 0.0128 - val_acc: 1.0000\n",
      "Epoch 42/50\n",
      "18/18 [==============================] - 0s 17ms/step - loss: 0.0620 - acc: 1.0000 - val_loss: 0.0221 - val_acc: 1.0000\n",
      "Epoch 43/50\n",
      "18/18 [==============================] - 0s 24ms/step - loss: 0.0441 - acc: 1.0000 - val_loss: 0.0268 - val_acc: 1.0000\n",
      "Epoch 44/50\n",
      "18/18 [==============================] - 0s 15ms/step - loss: 0.0289 - acc: 1.0000 - val_loss: 0.0090 - val_acc: 1.0000\n",
      "Epoch 45/50\n",
      "18/18 [==============================] - 0s 25ms/step - loss: 0.0235 - acc: 1.0000 - val_loss: 0.0024 - val_acc: 1.0000\n",
      "Epoch 46/50\n",
      "18/18 [==============================] - 0s 23ms/step - loss: 0.0310 - acc: 1.0000 - val_loss: 0.0023 - val_acc: 1.0000\n",
      "Epoch 47/50\n",
      "18/18 [==============================] - 0s 19ms/step - loss: 0.0198 - acc: 1.0000 - val_loss: 0.0066 - val_acc: 1.0000\n",
      "Epoch 48/50\n",
      "18/18 [==============================] - 0s 12ms/step - loss: 0.0132 - acc: 1.0000 - val_loss: 0.0841 - val_acc: 1.0000\n",
      "Epoch 49/50\n",
      "18/18 [==============================] - 0s 24ms/step - loss: 0.0147 - acc: 1.0000 - val_loss: 0.1021 - val_acc: 1.0000\n",
      "Epoch 50/50\n",
      "18/18 [==============================] - 0s 20ms/step - loss: 0.0130 - acc: 1.0000 - val_loss: 0.0127 - val_acc: 1.0000\n"
     ]
    },
    {
     "data": {
      "text/plain": [
       "<keras.callbacks.History at 0xb313686d8>"
      ]
     },
     "execution_count": 22,
     "metadata": {},
     "output_type": "execute_result"
    }
   ],
   "source": [
    "model.compile(loss='categorical_crossentropy', optimizer='adam', metrics=['accuracy'])\n",
    "\n",
    "BATCH_SIZE = 12\n",
    "EPOCHS = 50\n",
    "\n",
    "print(train_labels.shape)\n",
    "model.fit(train_set, train_labels, batch_size=BATCH_SIZE, epochs=EPOCHS, verbose=1, validation_data=(dev_set, dev_labels)) "
   ]
  },
  {
   "cell_type": "code",
   "execution_count": 24,
   "metadata": {},
   "outputs": [
    {
     "data": {
      "text/plain": [
       "array([[2.40771621e-01, 6.79636014e-10, 7.59228349e-01],\n",
       "       [2.83774823e-01, 7.00521231e-01, 1.57039016e-02],\n",
       "       [3.08332019e-05, 7.28542039e-20, 9.99969125e-01],\n",
       "       [1.75225928e-01, 1.64554513e-03, 8.23128521e-01],\n",
       "       [9.89131868e-01, 9.28157134e-11, 1.08681405e-02],\n",
       "       [0.00000000e+00, 1.00000000e+00, 8.98523842e-38],\n",
       "       [1.75665635e-29, 1.00000000e+00, 1.47989155e-28],\n",
       "       [2.00924389e-36, 1.00000000e+00, 2.15823477e-38],\n",
       "       [3.38778638e-30, 1.00000000e+00, 3.24230259e-32]], dtype=float32)"
      ]
     },
     "execution_count": 24,
     "metadata": {},
     "output_type": "execute_result"
    }
   ],
   "source": [
    "y_pred = model.predict(test_set)\n",
    "y_pred"
   ]
  },
  {
   "cell_type": "code",
   "execution_count": 25,
   "metadata": {},
   "outputs": [
    {
     "data": {
      "text/plain": [
       "array([[0., 0., 1.],\n",
       "       [0., 0., 1.],\n",
       "       [0., 0., 1.],\n",
       "       [0., 0., 1.],\n",
       "       [1., 0., 0.],\n",
       "       [0., 1., 0.],\n",
       "       [0., 1., 0.],\n",
       "       [0., 1., 0.],\n",
       "       [0., 1., 0.]], dtype=float32)"
      ]
     },
     "execution_count": 25,
     "metadata": {},
     "output_type": "execute_result"
    }
   ],
   "source": [
    "test_labels"
   ]
  },
  {
   "cell_type": "code",
   "execution_count": null,
   "metadata": {},
   "outputs": [],
   "source": []
  }
 ],
 "metadata": {
  "kernelspec": {
   "display_name": "Python 3",
   "language": "python",
   "name": "python3"
  },
  "language_info": {
   "codemirror_mode": {
    "name": "ipython",
    "version": 3
   },
   "file_extension": ".py",
   "mimetype": "text/x-python",
   "name": "python",
   "nbconvert_exporter": "python",
   "pygments_lexer": "ipython3",
   "version": "3.7.3"
  }
 },
 "nbformat": 4,
 "nbformat_minor": 2
}
