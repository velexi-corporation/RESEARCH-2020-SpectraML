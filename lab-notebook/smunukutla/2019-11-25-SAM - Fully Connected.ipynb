{
 "cells": [
  {
   "cell_type": "code",
   "execution_count": 34,
   "metadata": {},
   "outputs": [],
   "source": [
    "# environment set up\n",
    "import tensorflow as tf\n",
    "import tensorflow.keras\n",
    "from tensorflow.keras.models import Sequential\n",
    "from tensorflow.keras.layers import Dense\n",
    "from tensorflow.keras.utils import to_categorical\n",
    "import numpy as np\n",
    "import matplotlib.pyplot as plt\n",
    "import os\n",
    "import random\n",
    "import pandas as pd\n",
    "import time\n",
    "import ast\n",
    "from scipy import stats as st\n",
    "\n",
    "# working folder\n",
    "directory = os.environ['DATA_DIR']"
   ]
  },
  {
   "cell_type": "code",
   "execution_count": 17,
   "metadata": {},
   "outputs": [],
   "source": [
    "spectrum_len = 500 # automate this\n",
    "parent_dir = os.environ['PWD']\n",
    "stddata_path = os.path.join(directory, \"StdData-\" + str(spectrum_len))\n",
    "os.chdir(os.path.join(parent_dir, \"lab-notebook\", \"smunukutla\"))"
   ]
  },
  {
   "cell_type": "code",
   "execution_count": 18,
   "metadata": {},
   "outputs": [],
   "source": [
    "data = pd.read_csv(\"data.csv\", sep=\",\")\n",
    "record_nums = data.iloc[0, :].tolist()\n",
    "spectrum_names = data.iloc[1, :].tolist()\n",
    "y = data.iloc[2, :].astype(int).tolist()\n",
    "y = np.reshape(y, (len(y), 1))\n",
    "num_samples = len(y)"
   ]
  },
  {
   "cell_type": "code",
   "execution_count": 19,
   "metadata": {},
   "outputs": [],
   "source": [
    "spectra = np.zeros((num_samples,spectrum_len))"
   ]
  },
  {
   "cell_type": "code",
   "execution_count": 20,
   "metadata": {},
   "outputs": [],
   "source": [
    "for i in range(len(record_nums)):\n",
    "    data = pd.read_csv(os.path.join(stddata_path,\"{}.csv\".format(record_nums[i])))\n",
    "#     if i == 0:\n",
    "#         wavelengths[i,:] = data.iloc[:, 0].to_numpy()\n",
    "    spectra[i,:] = data.iloc[:, 1].to_numpy()"
   ]
  },
  {
   "cell_type": "code",
   "execution_count": 26,
   "metadata": {},
   "outputs": [
    {
     "data": {
      "text/plain": [
       "(166, 500)"
      ]
     },
     "execution_count": 26,
     "metadata": {},
     "output_type": "execute_result"
    }
   ],
   "source": [
    "spectra.shape"
   ]
  },
  {
   "cell_type": "code",
   "execution_count": 21,
   "metadata": {},
   "outputs": [],
   "source": [
    "y_cat = to_categorical(y)"
   ]
  },
  {
   "cell_type": "code",
   "execution_count": 35,
   "metadata": {},
   "outputs": [
    {
     "name": "stdout",
     "output_type": "stream",
     "text": [
      "Fully Connected ANN Results: DescribeResult(nobs=20, minmax=(0.44117647, 0.7647059), mean=0.62647057, variance=0.006201056, skewness=-0.5996153354644775, kurtosis=0.13958413460101404)\n",
      "75.08602714538574\n"
     ]
    }
   ],
   "source": [
    "fi = open(\"indices.txt\", \"r\")\n",
    "num_runs = int(fi.readline())\n",
    "num_minerals = int(fi.readline())\n",
    "\n",
    "stats = []\n",
    "\n",
    "init_time = time.time()\n",
    "\n",
    "for i in range(num_runs):\n",
    "    train_set_indices = ast.literal_eval(fi.readline())\n",
    "    test_set_indices = ast.literal_eval(fi.readline())\n",
    "    dev_set_indices = ast.literal_eval(fi.readline())\n",
    "    \n",
    "    for j in train_set_indices:\n",
    "        j = int(j)\n",
    "    for k in test_set_indices:\n",
    "        k = int(k)\n",
    "    for m in dev_set_indices:\n",
    "        m = int(m)\n",
    "    \n",
    "    train_set = spectra[train_set_indices, :]\n",
    "    train_labels = y_cat[train_set_indices, :]\n",
    "    dev_set = spectra[dev_set_indices, :]\n",
    "    dev_labels = y_cat[dev_set_indices, :]\n",
    "    test_set = spectra[test_set_indices, :]\n",
    "    test_labels = y_cat[test_set_indices, :]\n",
    "\n",
    "#     train_set = np.reshape(train_set, (train_set.shape[0], spectrum_len, 1))\n",
    "#     dev_set = np.reshape(dev_set, (dev_set.shape[0], spectrum_len, 1))\n",
    "#     test_set = np.reshape(test_set, (test_set.shape[0], spectrum_len, 1))\n",
    "    \n",
    "#     print(train_set.shape)\n",
    "#     print(train_labels.shape)\n",
    "    \n",
    "    model = Sequential() # tf upgrading to 2.0, after that we need to specify the dtype/construct all layers at once\n",
    "    model.add(Dense(num_minerals*10, input_dim=train_set.shape[1], activation='relu'))\n",
    "    model.add(Dense(num_minerals*3, activation='relu'))\n",
    "    model.add(Dense(num_minerals, activation='softmax'))\n",
    "    \n",
    "    model.compile(loss='categorical_crossentropy', optimizer='adam', metrics=['accuracy'])\n",
    "\n",
    "    BATCH_SIZE = 32\n",
    "    EPOCHS = 80\n",
    "    \n",
    "#     checkpointer = ModelCheckpoint(filepath=\"model.h5\",\n",
    "#                                verbose=0,\n",
    "#                                save_best_only=True)\n",
    "#     tensorboard = TensorBoard(log_dir='./logs',\n",
    "#                           histogram_freq=0,\n",
    "#                           write_graph=True,\n",
    "#                           write_images=True)\n",
    "\n",
    "#     history = model.fit(train_set, train_labels, batch_size=BATCH_SIZE, epochs=EPOCHS, verbose=0, validation_data=(dev_set, dev_labels), callbacks=[checkpointer, tensorboard]).history\n",
    "    model.fit(train_set, train_labels, batch_size=BATCH_SIZE, epochs=EPOCHS, verbose=0, validation_data=(dev_set, dev_labels))\n",
    "    \n",
    "    predictions = model.evaluate(test_set, test_labels, verbose=0)\n",
    "    \n",
    "    stats.append(predictions[1])\n",
    "\n",
    "print(\"Fully Connected ANN Results:\", st.describe(stats))\n",
    "total_seconds = time.time() - init_time\n",
    "print(total_seconds)"
   ]
  },
  {
   "cell_type": "code",
   "execution_count": null,
   "metadata": {},
   "outputs": [],
   "source": []
  }
 ],
 "metadata": {
  "kernelspec": {
   "display_name": "Python 3",
   "language": "python",
   "name": "python3"
  },
  "language_info": {
   "codemirror_mode": {
    "name": "ipython",
    "version": 3
   },
   "file_extension": ".py",
   "mimetype": "text/x-python",
   "name": "python",
   "nbconvert_exporter": "python",
   "pygments_lexer": "ipython3",
   "version": "3.7.3"
  }
 },
 "nbformat": 4,
 "nbformat_minor": 2
}
