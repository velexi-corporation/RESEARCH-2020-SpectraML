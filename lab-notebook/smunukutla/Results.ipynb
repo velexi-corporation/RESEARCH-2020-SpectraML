{
 "cells": [
  {
   "cell_type": "markdown",
   "metadata": {},
   "source": [
    "2D CNN Results: DescribeResult(nobs=20, minmax=(0.61764705, 0.9117647), mean=0.80882347, variance=0.007421234, skewness=-0.6640346646308899, kurtosis=-0.6421787948529669)\n",
    "175.59881496429443\n",
    "\n",
    "1D CNN Results: DescribeResult(nobs=20, minmax=(0.5, 0.7647059), mean=0.6014706, variance=0.004778274, skewness=0.3888928294181824, kurtosis=-0.02869078516654877)\n",
    "123.57975792884827\n",
    "\n",
    "Random Forest Results: DescribeResult(nobs=20, minmax=(0.6176470588235294, 0.8823529411764706), mean=0.786764705882353, variance=0.004905754871608083, skewness=-0.7272137568240163, kurtosis=-0.03250413165303323)\n",
    "5.735104084014893\n",
    "\n",
    "2D CNN Results: DescribeResult(nobs=20, minmax=(0.64705884, 0.9117647), mean=0.8073529, variance=0.004778273, skewness=-0.5594719052314758, kurtosis=-0.329387229030631)\n",
    "2D CNN + RF Results: DescribeResult(nobs=20, minmax=(0.7058823529411765, 0.9411764705882353), mean=0.8147058823529412, variance=0.004744126752868325, skewness=-0.08274438139518366, kurtosis=-1.007018099697539)\n",
    "231.00545716285706\n",
    "\n",
    "1D CNN Results: DescribeResult(nobs=20, minmax=(0.44117647, 0.7058824), mean=0.5897059, variance=0.005779913, skewness=-0.48788294196128845, kurtosis=-0.8254267041213263)\n",
    "1D CNN + RF Results: DescribeResult(nobs=20, minmax=(0.6176470588235294, 0.9411764705882353), mean=0.7808823529411765, variance=0.009240120196685478, skewness=-0.014222735970944922, kurtosis=-0.9416469236922418)\n",
    "130.11345314979553\n",
    "\n",
    "Fully Connected ANN Results: DescribeResult(nobs=20, minmax=(0.44117647, 0.7647059), mean=0.62647057, variance=0.006201056, skewness=-0.5996153354644775, kurtosis=0.13958413460101404)\n",
    "75.08602714538574"
   ]
  },
  {
   "cell_type": "code",
   "execution_count": null,
   "metadata": {},
   "outputs": [],
   "source": []
  }
 ],
 "metadata": {
  "kernelspec": {
   "display_name": "Python 3",
   "language": "python",
   "name": "python3"
  },
  "language_info": {
   "codemirror_mode": {
    "name": "ipython",
    "version": 3
   },
   "file_extension": ".py",
   "mimetype": "text/x-python",
   "name": "python",
   "nbconvert_exporter": "python",
   "pygments_lexer": "ipython3",
   "version": "3.7.3"
  }
 },
 "nbformat": 4,
 "nbformat_minor": 2
}
