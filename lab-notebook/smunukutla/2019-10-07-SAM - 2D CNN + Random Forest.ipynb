{
 "cells": [
  {
   "cell_type": "code",
   "execution_count": 1,
   "metadata": {},
   "outputs": [],
   "source": [
    "# import libraries\n",
    "import numpy as np\n",
    "import matplotlib.pyplot as plt\n",
    "import matplotlib.image as mpimg\n",
    "import pandas as pd\n",
    "import os\n",
    "import random\n",
    "import ast\n",
    "import tensorflow as tf\n",
    "import tensorflow.keras\n",
    "from tensorflow.keras.models import Sequential, load_model, Model\n",
    "from tensorflow.keras.layers import Conv2D, MaxPooling2D, Flatten, Dense, Dropout, GlobalAveragePooling2D\n",
    "from tensorflow.keras.callbacks import ModelCheckpoint, TensorBoard\n",
    "from tensorflow.keras.utils import to_categorical\n",
    "from tensorflow.keras import regularizers\n",
    "from scipy import stats as st\n",
    "from sklearn.ensemble import RandomForestClassifier\n",
    "from sklearn.metrics import accuracy_score\n",
    "from tensorflow.keras.callbacks import EarlyStopping\n",
    "import time"
   ]
  },
  {
   "cell_type": "code",
   "execution_count": 12,
   "metadata": {},
   "outputs": [],
   "source": [
    "spectrum_len = 500 # automate this\n",
    "data_dir = os.environ['DATA_DIR']\n",
    "parent_dir = os.environ['PWD']\n",
    "stddata_path = os.path.join(data_dir, \"StdData-\" + str(spectrum_len))\n",
    "plots_dir = os.path.join(data_dir, \"plots-\" + str(spectrum_len))\n",
    "os.chdir(os.path.join(parent_dir, \"lab-notebook\", \"smunukutla\"))"
   ]
  },
  {
   "cell_type": "code",
   "execution_count": 13,
   "metadata": {},
   "outputs": [],
   "source": [
    "img = mpimg.imread(os.path.join(plots_dir, os.listdir(plots_dir)[0]))\n",
    "spectrum_height = img.shape[0]\n",
    "spectrum_width = img.shape[1]"
   ]
  },
  {
   "cell_type": "code",
   "execution_count": 14,
   "metadata": {},
   "outputs": [],
   "source": [
    "def convertimg(img):\n",
    "    newimg = np.empty([img.shape[0], img.shape[1]])\n",
    "    for i in range(img.shape[0]):\n",
    "        for j in range(img.shape[1]):\n",
    "            row = img[i][j]\n",
    "            newimg[i][j] = (row[0] + row[1] + row[2])/3\n",
    "    return newimg"
   ]
  },
  {
   "cell_type": "code",
   "execution_count": 15,
   "metadata": {},
   "outputs": [],
   "source": [
    "data = pd.read_csv(\"data.csv\", sep=\",\")\n",
    "record_nums = data.iloc[0, :].tolist()\n",
    "spectrum_names = data.iloc[1, :].tolist()\n",
    "y = data.iloc[2, :].astype(int).tolist()\n",
    "y = np.reshape(y, (len(y), 1))\n",
    "num_samples = len(y)"
   ]
  },
  {
   "cell_type": "code",
   "execution_count": 16,
   "metadata": {},
   "outputs": [
    {
     "name": "stdout",
     "output_type": "stream",
     "text": [
      "52.240920066833496\n"
     ]
    }
   ],
   "source": [
    "start_time = time.time()\n",
    "spectra = np.zeros((num_samples, spectrum_height, spectrum_width))\n",
    "i = 0\n",
    "for num in record_nums:\n",
    "    img = plt.imread(os.path.join(plots_dir, num + \"-\" + spectrum_names[i] + \".png\")) # look into timeit, pickle file\n",
    "    spectra[i] = convertimg(img)\n",
    "    i += 1\n",
    "\n",
    "end_time = time.time()\n",
    "print(end_time - start_time)"
   ]
  },
  {
   "cell_type": "code",
   "execution_count": 17,
   "metadata": {},
   "outputs": [
    {
     "data": {
      "text/plain": [
       "(166, 216, 324, 1)"
      ]
     },
     "execution_count": 17,
     "metadata": {},
     "output_type": "execute_result"
    }
   ],
   "source": [
    "spectra = spectra.reshape(spectra.shape[0], spectra.shape[1], spectra.shape[2], 1)\n",
    "spectra.shape"
   ]
  },
  {
   "cell_type": "code",
   "execution_count": 18,
   "metadata": {},
   "outputs": [],
   "source": [
    "y_cat = to_categorical(y)"
   ]
  },
  {
   "cell_type": "code",
   "execution_count": 19,
   "metadata": {},
   "outputs": [
    {
     "data": {
      "text/plain": [
       "(2, 216, 324, 1)"
      ]
     },
     "execution_count": 19,
     "metadata": {},
     "output_type": "execute_result"
    }
   ],
   "source": [
    "spectra[[0, 1], :].shape"
   ]
  },
  {
   "cell_type": "code",
   "execution_count": 20,
   "metadata": {},
   "outputs": [],
   "source": [
    "# fi = open(\"indices.txt\", \"r\")\n",
    "# num_runs = int(fi.readline())\n",
    "# num_minerals = int(fi.readline())\n",
    "\n",
    "# stats = []\n",
    "\n",
    "# for i in range(num_runs):\n",
    "#     train_set_indices = ast.literal_eval(fi.readline())\n",
    "#     test_set_indices = ast.literal_eval(fi.readline())\n",
    "#     dev_set_indices = ast.literal_eval(fi.readline())\n",
    "\n",
    "#     for j in train_set_indices:\n",
    "#         j = int(j)\n",
    "#     for k in test_set_indices:\n",
    "#         k = int(k)\n",
    "#     for m in dev_set_indices:\n",
    "#         m = int(m)\n",
    "    \n",
    "#     train_set = spectra[train_set_indices, :]\n",
    "#     dev_set = spectra[dev_set_indices, :]\n",
    "#     test_set = spectra[test_set_indices, :]\n",
    "    \n",
    "#     train_labels = y_cat[train_set_indices, :]\n",
    "#     dev_labels = y_cat[dev_set_indices, :]\n",
    "#     test_labels = y_cat[test_set_indices, :]\n",
    "    \n",
    "#     model = Sequential()\n",
    "#     #add model layers\n",
    "#     model.add(Conv2D(32, kernel_size=10, strides=(6,6), activation='relu', input_shape=(spectra.shape[1],spectra.shape[2], 1))) # finer features at the first layer\n",
    "#     model.add(Conv2D(32, kernel_size=3, activation='relu')) # larger features at later layer\n",
    "#     model.add(Flatten())\n",
    "    \n",
    "#     from tensorflow.keras import backend as K\n",
    "\n",
    "#     # with a Sequential model\n",
    "#     get_3rd_layer_output = K.function([model.layers[0].input],\n",
    "#                                       [model.layers[3].output])\n",
    "#     layer_output = get_3rd_layer_output(dev_set)\n",
    "    \n",
    "#     clf = RandomForestClassifier(n_estimators=100, bootstrap=True, criterion='entropy')\n",
    "    \n",
    "#     # clf.fit(train_set, train_labels)\n",
    "#     clf.fit(train_set, train_labels)\n",
    "    \n",
    "#     # preds = clf.predict(test_set)\n",
    "#     # print(\"Accuracy:\", accuracy_score(test_labels, preds))\n",
    "#     preds = clf.predict(test_set)\n",
    "# #     print(\"Accuracy:\", accuracy_score(y_test, preds))\n",
    "#     stats.append(accuracy_score(test_labels, preds))\n",
    "\n",
    "# print(\"2D CNN + Random Forest Results:\", st.describe(stats))"
   ]
  },
  {
   "cell_type": "code",
   "execution_count": 22,
   "metadata": {},
   "outputs": [
    {
     "name": "stdout",
     "output_type": "stream",
     "text": [
      "Train on 99 samples, validate on 33 samples\n",
      "Epoch 1/20\n",
      "99/99 - 3s - loss: 2.7504 - acc: 0.1010 - val_loss: 2.2703 - val_acc: 0.0909\n",
      "Epoch 2/20\n",
      "99/99 - 2s - loss: 2.1860 - acc: 0.2020 - val_loss: 2.0650 - val_acc: 0.3636\n",
      "Epoch 3/20\n",
      "99/99 - 1s - loss: 1.9372 - acc: 0.4545 - val_loss: 2.2642 - val_acc: 0.2121\n",
      "Epoch 4/20\n",
      "99/99 - 1s - loss: 1.8641 - acc: 0.3636 - val_loss: 1.5826 - val_acc: 0.6061\n",
      "Epoch 5/20\n",
      "99/99 - 1s - loss: 1.3048 - acc: 0.6869 - val_loss: 1.2161 - val_acc: 0.6061\n",
      "Epoch 6/20\n",
      "99/99 - 1s - loss: 1.0126 - acc: 0.7778 - val_loss: 0.9230 - val_acc: 0.7879\n",
      "Epoch 7/20\n",
      "99/99 - 1s - loss: 0.6127 - acc: 0.9394 - val_loss: 1.1154 - val_acc: 0.6364\n",
      "Epoch 8/20\n",
      "99/99 - 1s - loss: 0.4732 - acc: 0.8687 - val_loss: 0.4733 - val_acc: 0.8788\n",
      "Epoch 9/20\n",
      "99/99 - 1s - loss: 0.2451 - acc: 0.9697 - val_loss: 0.3949 - val_acc: 0.9091\n",
      "Epoch 10/20\n",
      "99/99 - 1s - loss: 0.1708 - acc: 0.9899 - val_loss: 0.2952 - val_acc: 0.9091\n",
      "Epoch 11/20\n",
      "99/99 - 1s - loss: 0.1639 - acc: 0.9495 - val_loss: 0.3249 - val_acc: 0.9091\n",
      "Epoch 12/20\n",
      "99/99 - 1s - loss: 0.1157 - acc: 0.9798 - val_loss: 0.3113 - val_acc: 0.9394\n",
      "Epoch 13/20\n",
      "99/99 - 1s - loss: 0.0850 - acc: 0.9899 - val_loss: 0.2880 - val_acc: 0.9091\n",
      "Epoch 14/20\n",
      "99/99 - 1s - loss: 0.0492 - acc: 1.0000 - val_loss: 0.2938 - val_acc: 0.9091\n",
      "Epoch 15/20\n",
      "99/99 - 1s - loss: 0.0236 - acc: 1.0000 - val_loss: 0.2522 - val_acc: 0.9091\n",
      "Epoch 16/20\n",
      "99/99 - 1s - loss: 0.0139 - acc: 1.0000 - val_loss: 0.3094 - val_acc: 0.9091\n",
      "Epoch 17/20\n",
      "99/99 - 1s - loss: 0.0180 - acc: 1.0000 - val_loss: 0.2929 - val_acc: 0.9091\n",
      "Epoch 18/20\n",
      "99/99 - 1s - loss: 0.0162 - acc: 1.0000 - val_loss: 0.2444 - val_acc: 0.8788\n",
      "Epoch 19/20\n",
      "99/99 - 1s - loss: 0.0103 - acc: 1.0000 - val_loss: 0.2097 - val_acc: 0.8788\n",
      "Epoch 20/20\n",
      "99/99 - 1s - loss: 0.0060 - acc: 1.0000 - val_loss: 0.2031 - val_acc: 0.9697\n"
     ]
    },
    {
     "name": "stderr",
     "output_type": "stream",
     "text": [
      "/Users/Srikar/Desktop/Programs/Virtual Environments/spectra-ml-env/lib/python3.7/site-packages/ipykernel_launcher.py:104: DataConversionWarning: A column-vector y was passed when a 1d array was expected. Please change the shape of y to (n_samples,), for example using ravel().\n"
     ]
    },
    {
     "name": "stdout",
     "output_type": "stream",
     "text": [
      "Train on 99 samples, validate on 33 samples\n",
      "Epoch 1/20\n",
      "99/99 - 1s - loss: 2.4022 - acc: 0.1212 - val_loss: 2.2298 - val_acc: 0.4242\n",
      "Epoch 2/20\n",
      "99/99 - 1s - loss: 2.2040 - acc: 0.2929 - val_loss: 2.0825 - val_acc: 0.5152\n",
      "Epoch 3/20\n",
      "99/99 - 1s - loss: 2.0446 - acc: 0.5152 - val_loss: 1.9854 - val_acc: 0.4242\n",
      "Epoch 4/20\n",
      "99/99 - 1s - loss: 1.8768 - acc: 0.4040 - val_loss: 1.7534 - val_acc: 0.3939\n",
      "Epoch 5/20\n",
      "99/99 - 1s - loss: 1.5668 - acc: 0.4949 - val_loss: 1.2869 - val_acc: 0.7273\n",
      "Epoch 6/20\n",
      "99/99 - 1s - loss: 0.9949 - acc: 0.8990 - val_loss: 0.8796 - val_acc: 0.8182\n",
      "Epoch 7/20\n",
      "99/99 - 1s - loss: 0.5623 - acc: 0.9293 - val_loss: 0.5579 - val_acc: 0.8485\n",
      "Epoch 8/20\n",
      "99/99 - 1s - loss: 0.3278 - acc: 0.9192 - val_loss: 0.4929 - val_acc: 0.8485\n",
      "Epoch 9/20\n",
      "99/99 - 1s - loss: 0.2136 - acc: 0.9394 - val_loss: 0.4312 - val_acc: 0.8485\n",
      "Epoch 10/20\n",
      "99/99 - 1s - loss: 0.1111 - acc: 0.9899 - val_loss: 0.3434 - val_acc: 0.8788\n",
      "Epoch 11/20\n",
      "99/99 - 1s - loss: 0.0920 - acc: 0.9697 - val_loss: 0.3418 - val_acc: 0.8788\n",
      "Epoch 12/20\n",
      "99/99 - 1s - loss: 0.0595 - acc: 0.9899 - val_loss: 0.4713 - val_acc: 0.8485\n",
      "Epoch 13/20\n",
      "99/99 - 1s - loss: 0.0445 - acc: 0.9798 - val_loss: 0.3101 - val_acc: 0.8485\n",
      "Epoch 14/20\n",
      "99/99 - 1s - loss: 0.0245 - acc: 1.0000 - val_loss: 0.2872 - val_acc: 0.8788\n",
      "Epoch 15/20\n",
      "99/99 - 1s - loss: 0.0181 - acc: 1.0000 - val_loss: 0.2688 - val_acc: 0.8788\n",
      "Epoch 16/20\n",
      "99/99 - 1s - loss: 0.0160 - acc: 1.0000 - val_loss: 0.2767 - val_acc: 0.9091\n",
      "Epoch 17/20\n",
      "99/99 - 1s - loss: 0.0156 - acc: 1.0000 - val_loss: 0.2752 - val_acc: 0.8788\n",
      "Epoch 18/20\n",
      "99/99 - 1s - loss: 0.0110 - acc: 1.0000 - val_loss: 0.2799 - val_acc: 0.9091\n",
      "Epoch 19/20\n",
      "99/99 - 1s - loss: 0.0086 - acc: 1.0000 - val_loss: 0.2913 - val_acc: 0.9091\n",
      "Epoch 20/20\n",
      "99/99 - 1s - loss: 0.0092 - acc: 1.0000 - val_loss: 0.2929 - val_acc: 0.9091\n"
     ]
    },
    {
     "name": "stderr",
     "output_type": "stream",
     "text": [
      "/Users/Srikar/Desktop/Programs/Virtual Environments/spectra-ml-env/lib/python3.7/site-packages/ipykernel_launcher.py:104: DataConversionWarning: A column-vector y was passed when a 1d array was expected. Please change the shape of y to (n_samples,), for example using ravel().\n"
     ]
    },
    {
     "name": "stdout",
     "output_type": "stream",
     "text": [
      "Train on 99 samples, validate on 33 samples\n",
      "Epoch 1/20\n",
      "99/99 - 1s - loss: 3.2820 - acc: 0.1818 - val_loss: 2.3236 - val_acc: 0.3030\n",
      "Epoch 2/20\n",
      "99/99 - 1s - loss: 2.2739 - acc: 0.2222 - val_loss: 2.1552 - val_acc: 0.4242\n",
      "Epoch 3/20\n",
      "99/99 - 1s - loss: 2.0859 - acc: 0.3333 - val_loss: 1.9911 - val_acc: 0.4242\n",
      "Epoch 4/20\n",
      "99/99 - 1s - loss: 1.8770 - acc: 0.5354 - val_loss: 1.7791 - val_acc: 0.4545\n",
      "Epoch 5/20\n",
      "99/99 - 1s - loss: 1.4709 - acc: 0.6667 - val_loss: 1.4192 - val_acc: 0.6667\n",
      "Epoch 6/20\n",
      "99/99 - 1s - loss: 1.0888 - acc: 0.8182 - val_loss: 1.0579 - val_acc: 0.7273\n",
      "Epoch 7/20\n",
      "99/99 - 1s - loss: 0.6201 - acc: 0.9192 - val_loss: 0.8362 - val_acc: 0.6970\n",
      "Epoch 8/20\n",
      "99/99 - 1s - loss: 0.3548 - acc: 0.9091 - val_loss: 0.7881 - val_acc: 0.6667\n",
      "Epoch 9/20\n",
      "99/99 - 1s - loss: 0.2650 - acc: 0.9293 - val_loss: 0.5865 - val_acc: 0.7879\n",
      "Epoch 10/20\n",
      "99/99 - 1s - loss: 0.1773 - acc: 0.9697 - val_loss: 0.5234 - val_acc: 0.7879\n",
      "Epoch 11/20\n",
      "99/99 - 1s - loss: 0.1171 - acc: 0.9495 - val_loss: 0.5318 - val_acc: 0.8182\n",
      "Epoch 12/20\n",
      "99/99 - 1s - loss: 0.0614 - acc: 0.9899 - val_loss: 0.5764 - val_acc: 0.7576\n",
      "Epoch 13/20\n",
      "99/99 - 1s - loss: 0.1464 - acc: 0.9596 - val_loss: 0.4943 - val_acc: 0.7273\n",
      "Epoch 14/20\n",
      "99/99 - 1s - loss: 0.0620 - acc: 0.9798 - val_loss: 0.4867 - val_acc: 0.7879\n",
      "Epoch 15/20\n",
      "99/99 - 1s - loss: 0.0500 - acc: 1.0000 - val_loss: 0.5242 - val_acc: 0.8182\n",
      "Epoch 16/20\n",
      "99/99 - 1s - loss: 0.0476 - acc: 0.9798 - val_loss: 0.4098 - val_acc: 0.8182\n",
      "Epoch 17/20\n",
      "99/99 - 1s - loss: 0.0382 - acc: 0.9798 - val_loss: 0.3656 - val_acc: 0.8182\n",
      "Epoch 18/20\n",
      "99/99 - 1s - loss: 0.0477 - acc: 0.9798 - val_loss: 0.4067 - val_acc: 0.7879\n",
      "Epoch 19/20\n",
      "99/99 - 1s - loss: 0.0283 - acc: 0.9899 - val_loss: 0.4494 - val_acc: 0.7879\n",
      "Epoch 20/20\n",
      "99/99 - 1s - loss: 0.0227 - acc: 1.0000 - val_loss: 0.4555 - val_acc: 0.7879\n"
     ]
    },
    {
     "name": "stderr",
     "output_type": "stream",
     "text": [
      "/Users/Srikar/Desktop/Programs/Virtual Environments/spectra-ml-env/lib/python3.7/site-packages/ipykernel_launcher.py:104: DataConversionWarning: A column-vector y was passed when a 1d array was expected. Please change the shape of y to (n_samples,), for example using ravel().\n"
     ]
    },
    {
     "name": "stdout",
     "output_type": "stream",
     "text": [
      "Train on 99 samples, validate on 33 samples\n",
      "Epoch 1/20\n",
      "99/99 - 1s - loss: 2.6017 - acc: 0.1212 - val_loss: 2.2355 - val_acc: 0.0909\n",
      "Epoch 2/20\n",
      "99/99 - 1s - loss: 2.1083 - acc: 0.2525 - val_loss: 2.4850 - val_acc: 0.1515\n",
      "Epoch 3/20\n",
      "99/99 - 1s - loss: 2.1360 - acc: 0.2222 - val_loss: 1.7834 - val_acc: 0.3939\n",
      "Epoch 4/20\n",
      "99/99 - 1s - loss: 1.6039 - acc: 0.4949 - val_loss: 1.4095 - val_acc: 0.7273\n",
      "Epoch 5/20\n",
      "99/99 - 1s - loss: 1.0397 - acc: 0.8182 - val_loss: 1.0070 - val_acc: 0.8485\n",
      "Epoch 6/20\n",
      "99/99 - 1s - loss: 0.5996 - acc: 0.9192 - val_loss: 0.9796 - val_acc: 0.6061\n",
      "Epoch 7/20\n",
      "99/99 - 1s - loss: 0.4089 - acc: 0.8990 - val_loss: 0.5476 - val_acc: 0.8485\n",
      "Epoch 8/20\n",
      "99/99 - 1s - loss: 0.2092 - acc: 0.9394 - val_loss: 0.5504 - val_acc: 0.8182\n",
      "Epoch 9/20\n",
      "99/99 - 1s - loss: 0.1292 - acc: 0.9697 - val_loss: 0.4892 - val_acc: 0.8485\n",
      "Epoch 10/20\n",
      "99/99 - 1s - loss: 0.0888 - acc: 0.9798 - val_loss: 0.4873 - val_acc: 0.8485\n",
      "Epoch 11/20\n",
      "99/99 - 1s - loss: 0.0631 - acc: 0.9899 - val_loss: 0.5126 - val_acc: 0.8485\n",
      "Epoch 12/20\n",
      "99/99 - 1s - loss: 0.0421 - acc: 0.9899 - val_loss: 0.5878 - val_acc: 0.8182\n",
      "Epoch 13/20\n",
      "99/99 - 1s - loss: 0.0479 - acc: 0.9798 - val_loss: 0.6348 - val_acc: 0.8485\n",
      "Epoch 14/20\n",
      "99/99 - 1s - loss: 0.0431 - acc: 0.9899 - val_loss: 0.6661 - val_acc: 0.8788\n",
      "Epoch 15/20\n",
      "99/99 - 1s - loss: 0.0209 - acc: 0.9899 - val_loss: 0.6509 - val_acc: 0.8788\n",
      "Epoch 16/20\n",
      "99/99 - 1s - loss: 0.0285 - acc: 0.9899 - val_loss: 0.5829 - val_acc: 0.8788\n",
      "Epoch 17/20\n",
      "99/99 - 1s - loss: 0.0134 - acc: 1.0000 - val_loss: 0.5692 - val_acc: 0.8485\n",
      "Epoch 18/20\n",
      "99/99 - 1s - loss: 0.0099 - acc: 1.0000 - val_loss: 0.5821 - val_acc: 0.8485\n",
      "Epoch 19/20\n",
      "99/99 - 1s - loss: 0.0093 - acc: 1.0000 - val_loss: 0.7217 - val_acc: 0.8788\n",
      "Epoch 20/20\n",
      "99/99 - 1s - loss: 0.0074 - acc: 1.0000 - val_loss: 0.6361 - val_acc: 0.8485\n"
     ]
    },
    {
     "name": "stderr",
     "output_type": "stream",
     "text": [
      "/Users/Srikar/Desktop/Programs/Virtual Environments/spectra-ml-env/lib/python3.7/site-packages/ipykernel_launcher.py:104: DataConversionWarning: A column-vector y was passed when a 1d array was expected. Please change the shape of y to (n_samples,), for example using ravel().\n"
     ]
    },
    {
     "name": "stdout",
     "output_type": "stream",
     "text": [
      "Train on 99 samples, validate on 33 samples\n",
      "Epoch 1/20\n",
      "99/99 - 1s - loss: 2.8502 - acc: 0.1313 - val_loss: 2.4564 - val_acc: 0.1212\n",
      "Epoch 2/20\n",
      "99/99 - 1s - loss: 2.3217 - acc: 0.1515 - val_loss: 3.3224 - val_acc: 0.1818\n",
      "Epoch 3/20\n",
      "99/99 - 1s - loss: 2.7517 - acc: 0.2525 - val_loss: 2.1549 - val_acc: 0.3636\n",
      "Epoch 4/20\n",
      "99/99 - 1s - loss: 2.1361 - acc: 0.3535 - val_loss: 2.0110 - val_acc: 0.2424\n",
      "Epoch 5/20\n",
      "99/99 - 1s - loss: 1.9034 - acc: 0.3232 - val_loss: 1.8946 - val_acc: 0.4848\n",
      "Epoch 6/20\n",
      "99/99 - 1s - loss: 1.7114 - acc: 0.4848 - val_loss: 1.6611 - val_acc: 0.4848\n",
      "Epoch 7/20\n",
      "99/99 - 1s - loss: 1.3600 - acc: 0.6566 - val_loss: 1.6224 - val_acc: 0.4242\n",
      "Epoch 8/20\n",
      "99/99 - 1s - loss: 1.0090 - acc: 0.6465 - val_loss: 1.1074 - val_acc: 0.6364\n",
      "Epoch 9/20\n",
      "99/99 - 1s - loss: 0.6785 - acc: 0.8384 - val_loss: 0.8514 - val_acc: 0.7576\n",
      "Epoch 10/20\n",
      "99/99 - 1s - loss: 0.4437 - acc: 0.9293 - val_loss: 0.6354 - val_acc: 0.8485\n",
      "Epoch 11/20\n",
      "99/99 - 1s - loss: 0.2623 - acc: 0.9596 - val_loss: 0.5437 - val_acc: 0.8182\n",
      "Epoch 12/20\n",
      "99/99 - 1s - loss: 0.2208 - acc: 0.9394 - val_loss: 0.5589 - val_acc: 0.8182\n",
      "Epoch 13/20\n",
      "99/99 - 1s - loss: 0.1303 - acc: 0.9697 - val_loss: 0.6266 - val_acc: 0.8182\n",
      "Epoch 14/20\n",
      "99/99 - 1s - loss: 0.0776 - acc: 0.9697 - val_loss: 0.6423 - val_acc: 0.8485\n",
      "Epoch 15/20\n",
      "99/99 - 1s - loss: 0.0719 - acc: 0.9798 - val_loss: 0.6395 - val_acc: 0.8182\n",
      "Epoch 16/20\n",
      "99/99 - 1s - loss: 0.0588 - acc: 0.9697 - val_loss: 0.6467 - val_acc: 0.8485\n",
      "Epoch 17/20\n",
      "99/99 - 1s - loss: 0.0387 - acc: 0.9798 - val_loss: 0.6201 - val_acc: 0.8485\n",
      "Epoch 18/20\n",
      "99/99 - 1s - loss: 0.0340 - acc: 0.9899 - val_loss: 0.6351 - val_acc: 0.8485\n",
      "Epoch 19/20\n",
      "99/99 - 1s - loss: 0.0272 - acc: 1.0000 - val_loss: 0.7021 - val_acc: 0.8485\n",
      "Epoch 20/20\n",
      "99/99 - 1s - loss: 0.0211 - acc: 1.0000 - val_loss: 0.6958 - val_acc: 0.8485\n"
     ]
    },
    {
     "name": "stderr",
     "output_type": "stream",
     "text": [
      "/Users/Srikar/Desktop/Programs/Virtual Environments/spectra-ml-env/lib/python3.7/site-packages/ipykernel_launcher.py:104: DataConversionWarning: A column-vector y was passed when a 1d array was expected. Please change the shape of y to (n_samples,), for example using ravel().\n"
     ]
    },
    {
     "name": "stdout",
     "output_type": "stream",
     "text": [
      "Train on 99 samples, validate on 33 samples\n",
      "Epoch 1/20\n",
      "99/99 - 2s - loss: 2.8345 - acc: 0.0707 - val_loss: 2.2419 - val_acc: 0.1818\n",
      "Epoch 2/20\n",
      "99/99 - 1s - loss: 2.1690 - acc: 0.3434 - val_loss: 2.0985 - val_acc: 0.3939\n",
      "Epoch 3/20\n",
      "99/99 - 1s - loss: 2.0033 - acc: 0.3232 - val_loss: 1.8448 - val_acc: 0.6970\n",
      "Epoch 4/20\n",
      "99/99 - 1s - loss: 1.7559 - acc: 0.5859 - val_loss: 1.6656 - val_acc: 0.6061\n",
      "Epoch 5/20\n",
      "99/99 - 1s - loss: 1.4192 - acc: 0.8081 - val_loss: 1.2793 - val_acc: 0.7273\n",
      "Epoch 6/20\n",
      "99/99 - 1s - loss: 1.1033 - acc: 0.7273 - val_loss: 0.9974 - val_acc: 0.8182\n",
      "Epoch 7/20\n",
      "99/99 - 1s - loss: 0.6528 - acc: 0.9091 - val_loss: 0.9790 - val_acc: 0.6970\n",
      "Epoch 8/20\n",
      "99/99 - 1s - loss: 0.4574 - acc: 0.9091 - val_loss: 0.7252 - val_acc: 0.7879\n",
      "Epoch 9/20\n",
      "99/99 - 1s - loss: 0.3162 - acc: 0.9394 - val_loss: 0.5699 - val_acc: 0.8788\n",
      "Epoch 10/20\n",
      "99/99 - 1s - loss: 0.2016 - acc: 1.0000 - val_loss: 0.6279 - val_acc: 0.7879\n",
      "Epoch 11/20\n",
      "99/99 - 1s - loss: 0.1874 - acc: 0.9394 - val_loss: 0.5316 - val_acc: 0.7879\n",
      "Epoch 12/20\n",
      "99/99 - 1s - loss: 0.1114 - acc: 0.9495 - val_loss: 0.4607 - val_acc: 0.8485\n",
      "Epoch 13/20\n",
      "99/99 - 1s - loss: 0.0560 - acc: 0.9899 - val_loss: 0.4605 - val_acc: 0.8485\n",
      "Epoch 14/20\n",
      "99/99 - 1s - loss: 0.0332 - acc: 1.0000 - val_loss: 0.4602 - val_acc: 0.8485\n",
      "Epoch 15/20\n",
      "99/99 - 1s - loss: 0.0206 - acc: 1.0000 - val_loss: 0.4722 - val_acc: 0.8485\n",
      "Epoch 16/20\n",
      "99/99 - 1s - loss: 0.0145 - acc: 1.0000 - val_loss: 0.4492 - val_acc: 0.8485\n",
      "Epoch 17/20\n",
      "99/99 - 1s - loss: 0.0164 - acc: 1.0000 - val_loss: 0.4586 - val_acc: 0.8485\n",
      "Epoch 18/20\n",
      "99/99 - 1s - loss: 0.0143 - acc: 1.0000 - val_loss: 0.5028 - val_acc: 0.8485\n",
      "Epoch 19/20\n",
      "99/99 - 1s - loss: 0.0103 - acc: 1.0000 - val_loss: 0.5364 - val_acc: 0.8485\n",
      "Epoch 20/20\n",
      "99/99 - 1s - loss: 0.0055 - acc: 1.0000 - val_loss: 0.5858 - val_acc: 0.8182\n"
     ]
    },
    {
     "name": "stderr",
     "output_type": "stream",
     "text": [
      "/Users/Srikar/Desktop/Programs/Virtual Environments/spectra-ml-env/lib/python3.7/site-packages/ipykernel_launcher.py:104: DataConversionWarning: A column-vector y was passed when a 1d array was expected. Please change the shape of y to (n_samples,), for example using ravel().\n"
     ]
    },
    {
     "name": "stdout",
     "output_type": "stream",
     "text": [
      "Train on 99 samples, validate on 33 samples\n",
      "Epoch 1/20\n",
      "99/99 - 2s - loss: 2.5181 - acc: 0.0808 - val_loss: 2.2415 - val_acc: 0.3030\n",
      "Epoch 2/20\n",
      "99/99 - 1s - loss: 2.1946 - acc: 0.2727 - val_loss: 2.4960 - val_acc: 0.1212\n",
      "Epoch 3/20\n",
      "99/99 - 1s - loss: 2.1887 - acc: 0.3737 - val_loss: 2.1454 - val_acc: 0.3030\n",
      "Epoch 4/20\n",
      "99/99 - 1s - loss: 2.1111 - acc: 0.3434 - val_loss: 2.0333 - val_acc: 0.3030\n",
      "Epoch 5/20\n",
      "99/99 - 1s - loss: 1.8643 - acc: 0.4848 - val_loss: 1.9272 - val_acc: 0.4848\n",
      "Epoch 6/20\n",
      "99/99 - 1s - loss: 1.6275 - acc: 0.5455 - val_loss: 1.5896 - val_acc: 0.5455\n",
      "Epoch 7/20\n",
      "99/99 - 1s - loss: 1.1571 - acc: 0.8182 - val_loss: 1.4051 - val_acc: 0.6970\n",
      "Epoch 8/20\n",
      "99/99 - 1s - loss: 0.7788 - acc: 0.9596 - val_loss: 1.9475 - val_acc: 0.4242\n",
      "Epoch 9/20\n",
      "99/99 - 1s - loss: 0.8401 - acc: 0.7172 - val_loss: 1.1472 - val_acc: 0.7273\n",
      "Epoch 10/20\n",
      "99/99 - 1s - loss: 0.4728 - acc: 0.9293 - val_loss: 1.0397 - val_acc: 0.6667\n",
      "Epoch 11/20\n",
      "99/99 - 1s - loss: 0.3982 - acc: 0.9899 - val_loss: 0.9553 - val_acc: 0.6667\n",
      "Epoch 12/20\n",
      "99/99 - 1s - loss: 0.2317 - acc: 0.9495 - val_loss: 0.8747 - val_acc: 0.7273\n",
      "Epoch 13/20\n",
      "99/99 - 1s - loss: 0.1136 - acc: 0.9899 - val_loss: 0.8542 - val_acc: 0.6970\n",
      "Epoch 14/20\n",
      "99/99 - 1s - loss: 0.0809 - acc: 1.0000 - val_loss: 0.8638 - val_acc: 0.6970\n",
      "Epoch 15/20\n",
      "99/99 - 1s - loss: 0.0619 - acc: 0.9899 - val_loss: 0.8715 - val_acc: 0.6667\n",
      "Epoch 16/20\n",
      "99/99 - 1s - loss: 0.0400 - acc: 0.9899 - val_loss: 0.8568 - val_acc: 0.6970\n",
      "Epoch 17/20\n",
      "99/99 - 1s - loss: 0.0294 - acc: 0.9899 - val_loss: 0.8921 - val_acc: 0.6667\n",
      "Epoch 18/20\n",
      "99/99 - 1s - loss: 0.0221 - acc: 1.0000 - val_loss: 0.9248 - val_acc: 0.7273\n",
      "Epoch 19/20\n",
      "99/99 - 1s - loss: 0.0216 - acc: 0.9899 - val_loss: 0.9441 - val_acc: 0.6970\n",
      "Epoch 20/20\n",
      "99/99 - 1s - loss: 0.0163 - acc: 1.0000 - val_loss: 0.9675 - val_acc: 0.6970\n"
     ]
    },
    {
     "name": "stderr",
     "output_type": "stream",
     "text": [
      "/Users/Srikar/Desktop/Programs/Virtual Environments/spectra-ml-env/lib/python3.7/site-packages/ipykernel_launcher.py:104: DataConversionWarning: A column-vector y was passed when a 1d array was expected. Please change the shape of y to (n_samples,), for example using ravel().\n"
     ]
    },
    {
     "name": "stdout",
     "output_type": "stream",
     "text": [
      "Train on 99 samples, validate on 33 samples\n",
      "Epoch 1/20\n",
      "99/99 - 2s - loss: 3.7607 - acc: 0.1010 - val_loss: 2.4127 - val_acc: 0.1212\n",
      "Epoch 2/20\n",
      "99/99 - 1s - loss: 2.3173 - acc: 0.1717 - val_loss: 2.1701 - val_acc: 0.3939\n",
      "Epoch 3/20\n",
      "99/99 - 1s - loss: 2.1052 - acc: 0.4444 - val_loss: 2.0446 - val_acc: 0.4242\n",
      "Epoch 4/20\n",
      "99/99 - 1s - loss: 1.9615 - acc: 0.5960 - val_loss: 1.9080 - val_acc: 0.4242\n",
      "Epoch 5/20\n",
      "99/99 - 1s - loss: 1.7887 - acc: 0.3939 - val_loss: 1.6662 - val_acc: 0.5152\n",
      "Epoch 6/20\n",
      "99/99 - 1s - loss: 1.3377 - acc: 0.7475 - val_loss: 1.3460 - val_acc: 0.6970\n",
      "Epoch 7/20\n",
      "99/99 - 1s - loss: 0.9318 - acc: 0.8384 - val_loss: 1.1472 - val_acc: 0.7576\n",
      "Epoch 8/20\n",
      "99/99 - 1s - loss: 0.5594 - acc: 0.9192 - val_loss: 1.1543 - val_acc: 0.6364\n",
      "Epoch 9/20\n",
      "99/99 - 1s - loss: 0.4071 - acc: 0.8485 - val_loss: 0.8855 - val_acc: 0.6970\n",
      "Epoch 10/20\n",
      "99/99 - 1s - loss: 0.2267 - acc: 0.9495 - val_loss: 0.7614 - val_acc: 0.7273\n",
      "Epoch 11/20\n",
      "99/99 - 1s - loss: 0.1287 - acc: 0.9697 - val_loss: 0.8319 - val_acc: 0.7273\n",
      "Epoch 12/20\n",
      "99/99 - 1s - loss: 0.1055 - acc: 0.9596 - val_loss: 0.8999 - val_acc: 0.6970\n",
      "Epoch 13/20\n",
      "99/99 - 1s - loss: 0.1214 - acc: 0.9495 - val_loss: 0.8794 - val_acc: 0.7576\n",
      "Epoch 14/20\n",
      "99/99 - 1s - loss: 0.0616 - acc: 0.9798 - val_loss: 0.8832 - val_acc: 0.7879\n",
      "Epoch 15/20\n",
      "99/99 - 1s - loss: 0.0358 - acc: 0.9899 - val_loss: 0.8744 - val_acc: 0.8182\n",
      "Epoch 16/20\n",
      "99/99 - 1s - loss: 0.0365 - acc: 0.9899 - val_loss: 0.8817 - val_acc: 0.7879\n",
      "Epoch 17/20\n",
      "99/99 - 1s - loss: 0.0227 - acc: 0.9899 - val_loss: 0.9017 - val_acc: 0.8182\n",
      "Epoch 18/20\n",
      "99/99 - 1s - loss: 0.0166 - acc: 1.0000 - val_loss: 0.9448 - val_acc: 0.8182\n",
      "Epoch 19/20\n",
      "99/99 - 1s - loss: 0.0134 - acc: 1.0000 - val_loss: 0.9662 - val_acc: 0.8182\n",
      "Epoch 20/20\n",
      "99/99 - 1s - loss: 0.0174 - acc: 0.9899 - val_loss: 0.9799 - val_acc: 0.7879\n"
     ]
    },
    {
     "name": "stderr",
     "output_type": "stream",
     "text": [
      "/Users/Srikar/Desktop/Programs/Virtual Environments/spectra-ml-env/lib/python3.7/site-packages/ipykernel_launcher.py:104: DataConversionWarning: A column-vector y was passed when a 1d array was expected. Please change the shape of y to (n_samples,), for example using ravel().\n"
     ]
    },
    {
     "name": "stdout",
     "output_type": "stream",
     "text": [
      "Train on 99 samples, validate on 33 samples\n",
      "Epoch 1/20\n",
      "99/99 - 2s - loss: 2.8848 - acc: 0.1111 - val_loss: 2.2759 - val_acc: 0.0909\n",
      "Epoch 2/20\n",
      "99/99 - 1s - loss: 2.1882 - acc: 0.2525 - val_loss: 2.1173 - val_acc: 0.2727\n",
      "Epoch 3/20\n",
      "99/99 - 1s - loss: 1.9480 - acc: 0.3838 - val_loss: 1.8149 - val_acc: 0.3939\n",
      "Epoch 4/20\n",
      "99/99 - 1s - loss: 1.5919 - acc: 0.5354 - val_loss: 1.3261 - val_acc: 0.6364\n",
      "Epoch 5/20\n",
      "99/99 - 1s - loss: 1.1640 - acc: 0.7071 - val_loss: 1.0110 - val_acc: 0.8788\n",
      "Epoch 6/20\n",
      "99/99 - 1s - loss: 0.7474 - acc: 0.8990 - val_loss: 0.8188 - val_acc: 0.8182\n",
      "Epoch 7/20\n",
      "99/99 - 1s - loss: 0.5017 - acc: 0.9192 - val_loss: 0.6876 - val_acc: 0.7576\n",
      "Epoch 8/20\n",
      "99/99 - 1s - loss: 0.4450 - acc: 0.8182 - val_loss: 0.4580 - val_acc: 0.8485\n",
      "Epoch 9/20\n",
      "99/99 - 1s - loss: 0.1938 - acc: 0.9293 - val_loss: 0.3745 - val_acc: 0.8485\n",
      "Epoch 10/20\n",
      "99/99 - 1s - loss: 0.1129 - acc: 0.9899 - val_loss: 0.3870 - val_acc: 0.9091\n",
      "Epoch 11/20\n",
      "99/99 - 1s - loss: 0.1030 - acc: 0.9697 - val_loss: 0.3486 - val_acc: 0.8788\n",
      "Epoch 12/20\n",
      "99/99 - 1s - loss: 0.0605 - acc: 0.9798 - val_loss: 0.3341 - val_acc: 0.9091\n",
      "Epoch 13/20\n",
      "99/99 - 1s - loss: 0.0541 - acc: 0.9899 - val_loss: 0.3092 - val_acc: 0.9091\n",
      "Epoch 14/20\n",
      "99/99 - 1s - loss: 0.0441 - acc: 0.9899 - val_loss: 0.2868 - val_acc: 0.8182\n",
      "Epoch 15/20\n",
      "99/99 - 1s - loss: 0.0276 - acc: 0.9899 - val_loss: 0.2901 - val_acc: 0.8485\n",
      "Epoch 16/20\n",
      "99/99 - 1s - loss: 0.0269 - acc: 0.9899 - val_loss: 0.3694 - val_acc: 0.8788\n",
      "Epoch 17/20\n",
      "99/99 - 1s - loss: 0.0207 - acc: 0.9899 - val_loss: 0.2690 - val_acc: 0.8788\n",
      "Epoch 18/20\n",
      "99/99 - 1s - loss: 0.0193 - acc: 0.9899 - val_loss: 0.2901 - val_acc: 0.8485\n",
      "Epoch 19/20\n",
      "99/99 - 1s - loss: 0.0234 - acc: 0.9899 - val_loss: 0.2637 - val_acc: 0.8788\n",
      "Epoch 20/20\n",
      "99/99 - 1s - loss: 0.0147 - acc: 1.0000 - val_loss: 0.2468 - val_acc: 0.8788\n"
     ]
    },
    {
     "name": "stderr",
     "output_type": "stream",
     "text": [
      "/Users/Srikar/Desktop/Programs/Virtual Environments/spectra-ml-env/lib/python3.7/site-packages/ipykernel_launcher.py:104: DataConversionWarning: A column-vector y was passed when a 1d array was expected. Please change the shape of y to (n_samples,), for example using ravel().\n"
     ]
    },
    {
     "name": "stdout",
     "output_type": "stream",
     "text": [
      "Train on 99 samples, validate on 33 samples\n",
      "Epoch 1/20\n",
      "99/99 - 2s - loss: 2.7823 - acc: 0.0606 - val_loss: 2.2639 - val_acc: 0.2121\n",
      "Epoch 2/20\n",
      "99/99 - 1s - loss: 2.2168 - acc: 0.2727 - val_loss: 2.1409 - val_acc: 0.3030\n",
      "Epoch 3/20\n",
      "99/99 - 1s - loss: 2.0515 - acc: 0.3838 - val_loss: 1.9492 - val_acc: 0.4545\n",
      "Epoch 4/20\n",
      "99/99 - 1s - loss: 1.8106 - acc: 0.5960 - val_loss: 1.7747 - val_acc: 0.4848\n",
      "Epoch 5/20\n",
      "99/99 - 1s - loss: 1.5202 - acc: 0.6263 - val_loss: 1.4137 - val_acc: 0.6364\n",
      "Epoch 6/20\n",
      "99/99 - 1s - loss: 1.1779 - acc: 0.7374 - val_loss: 1.1576 - val_acc: 0.7273\n",
      "Epoch 7/20\n",
      "99/99 - 1s - loss: 0.7624 - acc: 0.8586 - val_loss: 0.9780 - val_acc: 0.6667\n",
      "Epoch 8/20\n",
      "99/99 - 1s - loss: 0.4893 - acc: 0.9091 - val_loss: 0.6014 - val_acc: 0.8788\n",
      "Epoch 9/20\n",
      "99/99 - 1s - loss: 0.2788 - acc: 0.9798 - val_loss: 0.5139 - val_acc: 0.8485\n",
      "Epoch 10/20\n",
      "99/99 - 1s - loss: 0.1601 - acc: 0.9798 - val_loss: 0.4397 - val_acc: 0.9091\n",
      "Epoch 11/20\n",
      "99/99 - 1s - loss: 0.1742 - acc: 0.9697 - val_loss: 0.4694 - val_acc: 0.8788\n",
      "Epoch 12/20\n",
      "99/99 - 1s - loss: 0.0989 - acc: 0.9697 - val_loss: 0.4783 - val_acc: 0.8788\n",
      "Epoch 13/20\n",
      "99/99 - 1s - loss: 0.0892 - acc: 0.9697 - val_loss: 0.4989 - val_acc: 0.8788\n",
      "Epoch 14/20\n",
      "99/99 - 1s - loss: 0.0623 - acc: 0.9899 - val_loss: 0.5285 - val_acc: 0.8788\n",
      "Epoch 15/20\n",
      "99/99 - 1s - loss: 0.0555 - acc: 0.9899 - val_loss: 0.5328 - val_acc: 0.8788\n",
      "Epoch 16/20\n",
      "99/99 - 1s - loss: 0.0426 - acc: 0.9798 - val_loss: 0.5471 - val_acc: 0.8788\n",
      "Epoch 17/20\n",
      "99/99 - 1s - loss: 0.0551 - acc: 0.9798 - val_loss: 0.5318 - val_acc: 0.8788\n",
      "Epoch 18/20\n",
      "99/99 - 1s - loss: 0.0411 - acc: 0.9798 - val_loss: 0.5133 - val_acc: 0.8788\n",
      "Epoch 19/20\n",
      "99/99 - 1s - loss: 0.0447 - acc: 0.9798 - val_loss: 0.5203 - val_acc: 0.8788\n",
      "Epoch 20/20\n",
      "99/99 - 1s - loss: 0.0303 - acc: 0.9899 - val_loss: 0.5520 - val_acc: 0.8788\n"
     ]
    },
    {
     "name": "stderr",
     "output_type": "stream",
     "text": [
      "/Users/Srikar/Desktop/Programs/Virtual Environments/spectra-ml-env/lib/python3.7/site-packages/ipykernel_launcher.py:104: DataConversionWarning: A column-vector y was passed when a 1d array was expected. Please change the shape of y to (n_samples,), for example using ravel().\n"
     ]
    },
    {
     "name": "stdout",
     "output_type": "stream",
     "text": [
      "2D CNN Results: DescribeResult(nobs=10, minmax=(0.7058824, 0.9117647), mean=0.7852942, variance=0.0053921547, skewness=0.3142770826816559, kurtosis=-1.19288632853498)\n",
      "2D CNN + RF Results: DescribeResult(nobs=10, minmax=(0.7352941176470589, 0.8823529411764706), mean=0.7941176470588236, variance=0.0026912725874663574, skewness=0.5122408325718789, kurtosis=-1.1122448979591875)\n",
      "210.88430213928223\n"
     ]
    }
   ],
   "source": [
    "fi = open(\"indices.txt\", \"r\")\n",
    "num_runs = int(fi.readline())\n",
    "num_minerals = int(fi.readline())\n",
    "\n",
    "combo_stats = []\n",
    "cnn_stats = []\n",
    "\n",
    "init_time = time.time()\n",
    "\n",
    "for i in range(10):\n",
    "    train_set_indices = ast.literal_eval(fi.readline())\n",
    "    test_set_indices = ast.literal_eval(fi.readline())\n",
    "    dev_set_indices = ast.literal_eval(fi.readline())\n",
    "\n",
    "    for j in train_set_indices:\n",
    "        j = int(j)\n",
    "    for k in test_set_indices:\n",
    "        k = int(k)\n",
    "    for m in dev_set_indices:\n",
    "        m = int(m)\n",
    "        \n",
    "#     print(train_set_indices)\n",
    "#     print(test_set_indices)\n",
    "#     print(dev_set_indices)\n",
    "    \n",
    "    train_set = spectra[train_set_indices, :]\n",
    "    train_labels = y_cat[train_set_indices, :]\n",
    "    dev_set = spectra[dev_set_indices, :]\n",
    "    dev_labels = y_cat[dev_set_indices, :]\n",
    "    test_set = spectra[test_set_indices, :]\n",
    "    test_labels = y_cat[test_set_indices, :]\n",
    "    \n",
    "    model = Sequential()\n",
    "    #add model layers\n",
    "    model.add(Conv2D(64, kernel_size=7, strides=(5,5), activation='relu', input_shape=(spectra.shape[1],spectra.shape[2], 1))) # finer features at the first layer\n",
    "#     model.add(MaxPooling2D(pool_size=(2, 2)))\n",
    "    model.add(Conv2D(32, kernel_size=3, activation='relu')) # larger features at later layer\n",
    "#     model.add(Conv2D(32, kernel_size=3, activation='relu'))\n",
    "#     model.add(Flatten())\n",
    "    model.add(Dropout(0.5))\n",
    "#     model.add(Dense(num_minerals*5, activation='softmax', kernel_regularizer=regularizers.l2(0.0001)))\n",
    "    model.add(Flatten())\n",
    "#     model.add(Dense(num_minerals*5, activation='relu'))\n",
    "    \n",
    "    model.add(Dense(num_minerals, activation='softmax'))\n",
    "#     model.summary()\n",
    "    \n",
    "    flatten_ind = 3\n",
    "    \n",
    "    model.compile(optimizer='adam', loss='categorical_crossentropy', metrics=['accuracy'])\n",
    "    \n",
    "    BATCH_SIZE = 32\n",
    "    EPOCHS = 20\n",
    "    \n",
    "#     checkpointer = ModelCheckpoint(filepath=\"model.h5\",\n",
    "#                                verbose=0,\n",
    "#                                save_best_only=True)\n",
    "#     tensorboard = TensorBoard(log_dir='./logs',\n",
    "#                           histogram_freq=0,\n",
    "#                           write_graph=True,\n",
    "#                           write_images=True)\n",
    "    \n",
    "#     history = model.fit(train_set, train_labels, batch_size=BATCH_SIZE, epochs=EPOCHS, verbose=2, validation_data=(dev_set, dev_labels), callbacks=[checkpointer, tensorboard, EarlyStopping(monitor='val_acc', patience=5)]).history\n",
    "    model.fit(train_set, train_labels, batch_size=BATCH_SIZE, epochs=EPOCHS, verbose=2, validation_data=(dev_set, dev_labels))\n",
    "    \n",
    "    FC_layer_model = Model(inputs=model.input, outputs=model.get_layer(index=flatten_ind).output)\n",
    "#     FC_layer_model.summary()\n",
    "#     print(model.input.shape)\n",
    "#     print(model.get_layer(index=flatten_ind).output.shape)\n",
    "    \n",
    "    features = np.zeros(shape = (train_set.shape[0], model.layers[flatten_ind].output.shape[1]))\n",
    "#     print(features.shape)\n",
    "    for p in range(train_set.shape[0]):\n",
    "        spectra_in = train_set[p]\n",
    "        spectra_in = np.expand_dims(spectra_in, axis=0)\n",
    "        FC_output = FC_layer_model.predict(spectra_in)\n",
    "#         print(FC_output.shape)\n",
    "        features[p] = FC_output\n",
    "    \n",
    "#     np.save('features', features)\n",
    "    \n",
    "    feature_col = []\n",
    "    for p in range(model.layers[flatten_ind].output.shape[1]):\n",
    "        feature_col.append(\"f_\" + str(p))\n",
    "    \n",
    "    train_features = pd.DataFrame(data = features, columns = feature_col)\n",
    "    feature_col = np.array(feature_col)\n",
    "    \n",
    "    train_label_ids = y[train_set_indices, :]\n",
    "    train_class = list(np.unique(train_label_ids))\n",
    "#     print('Training Features Shape:', train_features.shape)\n",
    "#     print('Training Labels Shape:', train_label_ids.shape)\n",
    "    \n",
    "#     my_list = model.evaluate(test_set, test_labels, verbose=0)\n",
    "    \n",
    "#     stats.append(my_list[1])\n",
    "    \n",
    "#     print(model.layers[2].input)\n",
    "#     print(model.layers[2].output.shape[1])\n",
    "\n",
    "    clf = RandomForestClassifier(n_estimators=100, bootstrap=True, criterion='entropy')\n",
    "    \n",
    "#     # clf.fit(train_set, train_labels)\n",
    "    clf.fit(train_features, train_label_ids)\n",
    "    \n",
    "    features_test = np.zeros(shape = (test_set.shape[0], model.layers[flatten_ind].output.shape[1]))\n",
    "    for p in range(test_set.shape[0]):\n",
    "        spectra_in = test_set[p]\n",
    "        spectra_in = np.expand_dims(spectra_in, axis=0)\n",
    "        FC_output = FC_layer_model.predict(spectra_in)\n",
    "        features_test[p] = FC_output\n",
    "    \n",
    "    test_features = pd.DataFrame(data = features_test, columns = feature_col)\n",
    "    feature_col = np.array(feature_col)\n",
    "    \n",
    "    test_label_ids = y[test_set_indices, :]\n",
    "    test_class = list(np.unique(test_label_ids))\n",
    "#     print('Test Features Shape:', test_features.shape)\n",
    "#     print('Test Labels Shape:', test_label_ids.shape)\n",
    "    \n",
    "    cnn_preds = model.evaluate(test_set, test_labels, verbose=0)\n",
    "    combo_predictions = clf.predict(test_features)\n",
    "    \n",
    "#     accuracy=accuracy_score(predictions , test_label_ids)\n",
    "#     print('Accuracy:', accuracy*100, '%.')\n",
    "#     # preds = clf.predict(test_set)\n",
    "#     # print(\"Accuracy:\", accuracy_score(test_labels, preds))\n",
    "#     preds = clf.predict(test_set)\n",
    "# #     print(\"Accuracy:\", accuracy_score(y_test, preds))\n",
    "    cnn_stats.append(cnn_preds[1])\n",
    "    combo_stats.append(accuracy_score(combo_predictions, test_label_ids))\n",
    "\n",
    "print(\"2D CNN Results:\", st.describe(cnn_stats))\n",
    "print(\"2D CNN + RF Results:\", st.describe(combo_stats))\n",
    "total_seconds = time.time() - init_time\n",
    "print(total_seconds)"
   ]
  },
  {
   "cell_type": "code",
   "execution_count": 14,
   "metadata": {},
   "outputs": [
    {
     "data": {
      "text/plain": [
       "[0.6267298722968382, 0.7647059]"
      ]
     },
     "execution_count": 14,
     "metadata": {},
     "output_type": "execute_result"
    }
   ],
   "source": [
    "# 2D CNN by itself\n",
    "model.evaluate(test_set, test_labels, verbose=0)"
   ]
  },
  {
   "cell_type": "code",
   "execution_count": 15,
   "metadata": {},
   "outputs": [],
   "source": [
    "# rf = RandomForestClassifier(n_estimators=100, bootstrap=True, criterion='entropy')\n",
    "\n",
    "# rf.fit(train_set, train_labels)\n",
    "\n",
    "# preds = clf.predict(test_set)"
   ]
  },
  {
   "cell_type": "code",
   "execution_count": 16,
   "metadata": {},
   "outputs": [
    {
     "data": {
      "text/plain": [
       "<matplotlib.legend.Legend at 0x13fdae828>"
      ]
     },
     "execution_count": 16,
     "metadata": {},
     "output_type": "execute_result"
    },
    {
     "data": {
      "image/png": "[encoded data removed]",
      "text/plain": [
       "<Figure size 432x288 with 1 Axes>"
      ]
     },
     "metadata": {
      "needs_background": "light"
     },
     "output_type": "display_data"
    }
   ],
   "source": [
    "plt.plot(history['loss'])\n",
    "plt.plot(history['val_loss'])\n",
    "plt.title('2D CNN loss')\n",
    "plt.ylabel('loss')\n",
    "plt.xlabel('epoch')\n",
    "plt.legend(['train', 'validation'], loc='upper right')"
   ]
  },
  {
   "cell_type": "code",
   "execution_count": null,
   "metadata": {},
   "outputs": [],
   "source": []
  }
 ],
 "metadata": {
  "kernelspec": {
   "display_name": "Python 3",
   "language": "python",
   "name": "python3"
  },
  "language_info": {
   "codemirror_mode": {
    "name": "ipython",
    "version": 3
   },
   "file_extension": ".py",
   "mimetype": "text/x-python",
   "name": "python",
   "nbconvert_exporter": "python",
   "pygments_lexer": "ipython3",
   "version": "3.7.3"
  }
 },
 "nbformat": 4,
 "nbformat_minor": 2
}
