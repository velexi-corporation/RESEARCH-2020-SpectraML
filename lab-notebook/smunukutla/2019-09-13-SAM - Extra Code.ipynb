{
 "cells": [
  {
   "cell_type": "code",
   "execution_count": null,
   "metadata": {},
   "outputs": [],
   "source": [
    "# splitting the dataset\n",
    "\n",
    "# num_samples = len(os.listdir(os.getcwd()))\n",
    "\n",
    "# sample_indices = list(range(0, num_samples))\n",
    "# print(num_samples)\n",
    "# random.shuffle(sample_indices)\n",
    "# train_set_size = 3*(num_samples//5)\n",
    "# dev_set_size = (num_samples//5)\n",
    "# test_set_size= num_samples-dev_set_size - train_set_size\n",
    "# print(train_set_size)\n",
    "# print(test_set_size)\n",
    "# print(dev_set_size)\n",
    "# train_set_indices = sample_indices[:train_set_size]\n",
    "# dev_set_indices = sample_indices[train_set_size: train_set_size+dev_set_size]\n",
    "# test_set_indices= sample_indices[train_set_size+dev_set_size: num_samples]\n",
    "# print(train_set_indices)\n",
    "# print(test_set_indices)\n",
    "# print(dev_set_indices)\n",
    "\n",
    "# train_set = spectra[train_set_indices, :]\n",
    "# train_labels = y[train_set_indices, :]\n",
    "# dev_set = spectra[dev_set_indices, :]\n",
    "# dev_labels = y[dev_set_indices, :]\n",
    "# test_set = spectra[test_set_indices, :]\n",
    "# test_labels = y[test_set_indices, :]"
   ]
  }
 ],
 "metadata": {
  "kernelspec": {
   "display_name": "Python 3",
   "language": "python",
   "name": "python3"
  },
  "language_info": {
   "codemirror_mode": {
    "name": "ipython",
    "version": 3
   },
   "file_extension": ".py",
   "mimetype": "text/x-python",
   "name": "python",
   "nbconvert_exporter": "python",
   "pygments_lexer": "ipython3",
   "version": "3.7.3"
  }
 },
 "nbformat": 4,
 "nbformat_minor": 2
}
