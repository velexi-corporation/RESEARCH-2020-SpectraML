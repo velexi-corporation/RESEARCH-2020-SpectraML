{
 "cells": [
  {
   "cell_type": "code",
   "execution_count": 21,
   "metadata": {},
   "outputs": [],
   "source": [
    "# environment set up\n",
    "import tensorflow as tf\n",
    "import numpy as np\n",
    "import matplotlib.pyplot as plt\n",
    "import os\n",
    "import random\n",
    "import pandas as pd\n",
    "from spectra_ml.io_ import load_spectra_metadata"
   ]
  },
  {
   "cell_type": "code",
   "execution_count": 22,
   "metadata": {},
   "outputs": [],
   "source": [
    "# working folder\n",
    "spectrum_len = 500\n",
    "\n",
    "parent_dir = os.environ['PWD']\n",
    "data_dir = os.environ['DATA_DIR']\n",
    "stddata_path = os.path.join(data_dir, \"StdData-\" + str(spectrum_len))"
   ]
  },
  {
   "cell_type": "code",
   "execution_count": 23,
   "metadata": {},
   "outputs": [],
   "source": [
    "metadata = load_spectra_metadata(os.path.join(stddata_path,\"spectra-metadata.csv\"))\n",
    "\n",
    "metadata = metadata[metadata['value_type'] == \"reflectance\"]\n",
    "metadata = metadata[~metadata['spectrometer_purity_code'].str.contains(\"NIC4\")]\n",
    "metadata = metadata[metadata['raw_data_path'].str.contains(\"ChapterM\")]"
   ]
  },
  {
   "cell_type": "code",
   "execution_count": 24,
   "metadata": {},
   "outputs": [],
   "source": [
    "os.chdir(os.path.join(parent_dir, \"lab-notebook\", \"smunukutla\"))\n",
    "data = pd.read_csv(\"data.csv\", sep=\",\", dtype=str)\n",
    "record_nums = data.iloc[0, :].tolist()\n",
    "spectrum_names = data.iloc[1, :].tolist()\n",
    "y = data.iloc[2, :].astype(int).tolist()\n",
    "y = np.reshape(y, (len(y), 1))\n",
    "num_samples = len(y)"
   ]
  },
  {
   "cell_type": "code",
   "execution_count": 25,
   "metadata": {},
   "outputs": [],
   "source": [
    "spectra = np.zeros((num_samples,spectrum_len))\n",
    "wavelengths = np.zeros((1,spectrum_len))"
   ]
  },
  {
   "cell_type": "code",
   "execution_count": 26,
   "metadata": {},
   "outputs": [],
   "source": [
    "for i in range(num_samples):\n",
    "    data = pd.read_csv(os.path.join(stddata_path,\"{}.csv\".format(record_nums[i])))\n",
    "    if i == 0:\n",
    "        wavelengths[i,:] = data.iloc[:, 0].to_numpy()\n",
    "    spectra[i,:] = data.iloc[:, 1].to_numpy()"
   ]
  },
  {
   "cell_type": "code",
   "execution_count": 27,
   "metadata": {},
   "outputs": [
    {
     "data": {
      "text/plain": [
       "166"
      ]
     },
     "execution_count": 27,
     "metadata": {},
     "output_type": "execute_result"
    }
   ],
   "source": [
    "num_samples"
   ]
  },
  {
   "cell_type": "code",
   "execution_count": 31,
   "metadata": {},
   "outputs": [],
   "source": [
    "# height = 1.5\n",
    "# width = 1.5*height\n",
    "linewidth = 4\n",
    "# figsize=(width, height), dpi=100\n",
    "for i in range(num_samples):\n",
    "    fig = plt.figure()\n",
    "    plt.plot(wavelengths[0,:], spectra[i,:], linewidth = linewidth, color='k')\n",
    "    plt.xticks([])\n",
    "    plt.yticks([])\n",
    "    ax = fig.axes\n",
    "    ax[0].axis('off')\n",
    "    path = os.path.join(data_dir, \"plots\", record_nums[i] + \"-\" + spectrum_names[i] + \".png\")\n",
    "    fig.savefig(path, format = \"PNG\")\n",
    "    plt.close(fig)"
   ]
  },
  {
   "cell_type": "code",
   "execution_count": null,
   "metadata": {},
   "outputs": [],
   "source": []
  }
 ],
 "metadata": {
  "kernelspec": {
   "display_name": "Python 3",
   "language": "python",
   "name": "python3"
  },
  "language_info": {
   "codemirror_mode": {
    "name": "ipython",
    "version": 3
   },
   "file_extension": ".py",
   "mimetype": "text/x-python",
   "name": "python",
   "nbconvert_exporter": "python",
   "pygments_lexer": "ipython3",
   "version": "3.7.3"
  }
 },
 "nbformat": 4,
 "nbformat_minor": 2
}
