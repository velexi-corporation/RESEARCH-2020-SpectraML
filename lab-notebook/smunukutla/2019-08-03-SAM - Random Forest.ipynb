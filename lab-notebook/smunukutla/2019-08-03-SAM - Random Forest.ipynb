{
 "cells": [
  {
   "cell_type": "code",
   "execution_count": 1,
   "metadata": {},
   "outputs": [],
   "source": [
    "import numpy as np\n",
    "import matplotlib.pyplot as plt\n",
    "import matplotlib.image as mpimg\n",
    "import pandas as pd\n",
    "import os\n",
    "import random\n",
    "\n",
    "# directory = \"/Users/Srikar/Desktop/Velexi/spectra-ml/data/plots\"\n",
    "directory = os.environ['DATA_DIR']\n",
    "directory = os.path.join(directory, \"plots\")\n",
    "os.chdir(directory)"
   ]
  },
  {
   "cell_type": "code",
   "execution_count": 2,
   "metadata": {},
   "outputs": [],
   "source": [
    "num_samples = len(os.listdir(os.getcwd()))\n",
    "img = mpimg.imread(os.path.join(directory,os.listdir(os.getcwd())[0]))\n",
    "spectrum_height = img.shape[0]\n",
    "spectrum_width = img.shape[1]"
   ]
  },
  {
   "cell_type": "code",
   "execution_count": 3,
   "metadata": {},
   "outputs": [],
   "source": [
    "def convertimg(img):\n",
    "    newimg = np.empty([img.shape[0], img.shape[1]])\n",
    "    for i in range(img.shape[0]):\n",
    "        for j in range(img.shape[1]):\n",
    "            row = img[i][j]\n",
    "            newimg[i][j] = (row[0] + row[1] + row[2])/3\n",
    "    return newimg"
   ]
  },
  {
   "cell_type": "code",
   "execution_count": 4,
   "metadata": {},
   "outputs": [],
   "source": [
    "spectra = np.zeros((num_samples, spectrum_height, spectrum_width))\n",
    "y = []\n",
    "i = 0\n",
    "for name in os.listdir():\n",
    "    if name.find(\"Actinolite\") != -1:\n",
    "        y.append(int(0))\n",
    "    elif name.find(\"Alunite\") != -1:\n",
    "        y.append(int(1))\n",
    "    else:\n",
    "        y.append(int(2))\n",
    "    img = mpimg.imread(os.path.join(directory,name)) # os.path.join here, look into timeit, pickle file\n",
    "    spectra[i] = convertimg(img)\n",
    "    i += 1"
   ]
  },
  {
   "cell_type": "code",
   "execution_count": 5,
   "metadata": {},
   "outputs": [],
   "source": [
    "spectra = spectra.reshape(spectra.shape[0], spectra.shape[1]*spectra.shape[2])"
   ]
  },
  {
   "cell_type": "code",
   "execution_count": 6,
   "metadata": {},
   "outputs": [
    {
     "data": {
      "text/plain": [
       "(76, 124416)"
      ]
     },
     "execution_count": 6,
     "metadata": {},
     "output_type": "execute_result"
    }
   ],
   "source": [
    "spectra.shape"
   ]
  },
  {
   "cell_type": "code",
   "execution_count": 7,
   "metadata": {},
   "outputs": [
    {
     "data": {
      "text/plain": [
       "(76, 1)"
      ]
     },
     "execution_count": 7,
     "metadata": {},
     "output_type": "execute_result"
    }
   ],
   "source": [
    "y = np.reshape(y, (len(y), 1))\n",
    "y.shape"
   ]
  },
  {
   "cell_type": "code",
   "execution_count": 8,
   "metadata": {},
   "outputs": [],
   "source": [
    "random.seed(0)"
   ]
  },
  {
   "cell_type": "code",
   "execution_count": 9,
   "metadata": {},
   "outputs": [
    {
     "name": "stdout",
     "output_type": "stream",
     "text": [
      "76\n",
      "45\n",
      "16\n",
      "15\n",
      "[73, 52, 29, 11, 47, 63, 37, 1, 70, 67, 55, 40, 32, 74, 14, 42, 36, 24, 7, 10, 15, 50, 31, 58, 54, 25, 41, 12, 26, 23, 2, 0, 3, 56, 72, 28, 44, 60, 13, 20, 71, 22, 75, 35, 30]\n",
      "[48, 8, 18, 17, 64, 27, 45, 61, 38, 51, 62, 65, 33, 5, 53, 49]\n",
      "[21, 43, 4, 46, 59, 19, 9, 68, 57, 66, 34, 16, 69, 39, 6]\n"
     ]
    }
   ],
   "source": [
    "sample_indices = list(range(0, num_samples))\n",
    "print(num_samples)\n",
    "random.shuffle(sample_indices)\n",
    "train_set_size = 3*(num_samples//5)\n",
    "dev_set_size = (num_samples//5)\n",
    "test_set_size= num_samples-dev_set_size - train_set_size\n",
    "print(train_set_size)\n",
    "print(test_set_size)\n",
    "print(dev_set_size)\n",
    "train_set_indices = sample_indices[:train_set_size]\n",
    "dev_set_indices = sample_indices[train_set_size: train_set_size+dev_set_size]\n",
    "test_set_indices= sample_indices[train_set_size+dev_set_size: num_samples]\n",
    "print(train_set_indices)\n",
    "print(test_set_indices)\n",
    "print(dev_set_indices)\n",
    "\n",
    "train_set = spectra[train_set_indices, :]\n",
    "train_labels = y[train_set_indices, :]\n",
    "dev_set = spectra[dev_set_indices, :]\n",
    "dev_labels = y[dev_set_indices, :]\n",
    "test_set = spectra[test_set_indices, :]\n",
    "test_labels = y[test_set_indices, :]"
   ]
  },
  {
   "cell_type": "code",
   "execution_count": 10,
   "metadata": {},
   "outputs": [],
   "source": [
    "train_labels = train_labels.flatten()\n",
    "dev_labels = dev_labels.flatten()\n",
    "test_labels = test_labels.flatten()"
   ]
  },
  {
   "cell_type": "code",
   "execution_count": 11,
   "metadata": {},
   "outputs": [],
   "source": [
    "from sklearn.ensemble import RandomForestClassifier\n",
    "clf = RandomForestClassifier(bootstrap=True, criterion='entropy')"
   ]
  },
  {
   "cell_type": "code",
   "execution_count": 12,
   "metadata": {},
   "outputs": [
    {
     "name": "stderr",
     "output_type": "stream",
     "text": [
      "/Users/Srikar/Desktop/Programs/Virtual Environments/spectra-ml-env/lib/python3.7/site-packages/sklearn/ensemble/forest.py:245: FutureWarning: The default value of n_estimators will change from 10 in version 0.20 to 100 in 0.22.\n",
      "  \"10 in version 0.20 to 100 in 0.22.\", FutureWarning)\n"
     ]
    },
    {
     "data": {
      "text/plain": [
       "RandomForestClassifier(bootstrap=True, class_weight=None, criterion='entropy',\n",
       "                       max_depth=None, max_features='auto', max_leaf_nodes=None,\n",
       "                       min_impurity_decrease=0.0, min_impurity_split=None,\n",
       "                       min_samples_leaf=1, min_samples_split=2,\n",
       "                       min_weight_fraction_leaf=0.0, n_estimators=10,\n",
       "                       n_jobs=None, oob_score=False, random_state=None,\n",
       "                       verbose=0, warm_start=False)"
      ]
     },
     "execution_count": 12,
     "metadata": {},
     "output_type": "execute_result"
    }
   ],
   "source": [
    "from sklearn.model_selection import train_test_split\n",
    "\n",
    "y = np.reshape(y, (len(y), ))\n",
    "X_train, X_test, y_train, y_test = train_test_split(spectra, y, test_size=0.2, random_state=42)\n",
    "# clf.fit(train_set, train_labels)\n",
    "clf.fit(X_train, y_train)"
   ]
  },
  {
   "cell_type": "code",
   "execution_count": 13,
   "metadata": {},
   "outputs": [
    {
     "name": "stdout",
     "output_type": "stream",
     "text": [
      "Accuracy: 0.6875\n"
     ]
    }
   ],
   "source": [
    "from sklearn.metrics import accuracy_score\n",
    "# preds = clf.predict(test_set)\n",
    "# print(\"Accuracy:\", accuracy_score(test_labels, preds))\n",
    "preds = clf.predict(X_test)\n",
    "print(\"Accuracy:\", accuracy_score(y_test, preds))"
   ]
  },
  {
   "cell_type": "code",
   "execution_count": null,
   "metadata": {},
   "outputs": [],
   "source": []
  }
 ],
 "metadata": {
  "kernelspec": {
   "display_name": "Python 3",
   "language": "python",
   "name": "python3"
  },
  "language_info": {
   "codemirror_mode": {
    "name": "ipython",
    "version": 3
   },
   "file_extension": ".py",
   "mimetype": "text/x-python",
   "name": "python",
   "nbconvert_exporter": "python",
   "pygments_lexer": "ipython3",
   "version": "3.7.3"
  }
 },
 "nbformat": 4,
 "nbformat_minor": 2
}
