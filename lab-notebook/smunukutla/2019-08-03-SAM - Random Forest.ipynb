{
 "cells": [
  {
   "cell_type": "code",
   "execution_count": 1,
   "metadata": {},
   "outputs": [],
   "source": [
    "import numpy as np\n",
    "import matplotlib.pyplot as plt\n",
    "import matplotlib.image as mpimg\n",
    "import pandas as pd\n",
    "import os\n",
    "import random\n",
    "import ast\n",
    "from sklearn.ensemble import RandomForestClassifier\n",
    "from sklearn.model_selection import train_test_split\n",
    "from sklearn.metrics import accuracy_score\n",
    "from scipy import stats as st\n",
    "\n",
    "# directory = \"/Users/Srikar/Desktop/Velexi/spectra-ml/data/plots\"\n",
    "data_dir = os.environ['DATA_DIR']\n",
    "data_dir = os.path.join(data_dir, \"plots\")\n",
    "os.chdir(data_dir)"
   ]
  },
  {
   "cell_type": "code",
   "execution_count": 2,
   "metadata": {},
   "outputs": [],
   "source": [
    "num_samples = len(os.listdir(os.getcwd()))\n",
    "img = mpimg.imread(os.path.join(data_dir,os.listdir(os.getcwd())[0]))\n",
    "spectrum_height = img.shape[0]\n",
    "spectrum_width = img.shape[1]"
   ]
  },
  {
   "cell_type": "code",
   "execution_count": 3,
   "metadata": {},
   "outputs": [],
   "source": [
    "def convertimg(img):\n",
    "    newimg = np.empty([img.shape[0], img.shape[1]])\n",
    "    for i in range(img.shape[0]):\n",
    "        for j in range(img.shape[1]):\n",
    "            row = img[i][j]\n",
    "            newimg[i][j] = (row[0] + row[1] + row[2])/3\n",
    "    return newimg"
   ]
  },
  {
   "cell_type": "code",
   "execution_count": 4,
   "metadata": {},
   "outputs": [],
   "source": [
    "data = pd.read_csv(\"/Users/Srikar/Desktop/Velexi/spectra-ml/lab-notebook/smunukutla/data.csv\", sep=\",\")\n",
    "record_nums = data.iloc[0, :].tolist()\n",
    "spectrum_names = data.iloc[1, :].tolist()\n",
    "y = data.iloc[2, :].astype(int).tolist()\n",
    "y = np.reshape(y, (len(y), 1))\n",
    "num_samples = len(y)"
   ]
  },
  {
   "cell_type": "code",
   "execution_count": 5,
   "metadata": {},
   "outputs": [],
   "source": [
    "spectra = np.zeros((num_samples, spectrum_height, spectrum_width))\n",
    "i = 0\n",
    "for num in record_nums:\n",
    "    img = plt.imread(os.path.join(data_dir,num+\"-\"+spectrum_names[i]+\".png\")) # os.path.join here, look into timeit, pickle file\n",
    "    spectra[i] = convertimg(img)\n",
    "    i += 1"
   ]
  },
  {
   "cell_type": "code",
   "execution_count": 6,
   "metadata": {},
   "outputs": [],
   "source": [
    "spectra = spectra.reshape(spectra.shape[0], spectra.shape[1]*spectra.shape[2])"
   ]
  },
  {
   "cell_type": "code",
   "execution_count": 7,
   "metadata": {
    "scrolled": false
   },
   "outputs": [
    {
     "name": "stdout",
     "output_type": "stream",
     "text": [
      "Random Forest: [0.9444444444444444, 1.0, 0.9444444444444444, 0.9444444444444444, 0.8888888888888888, 1.0, 0.9444444444444444, 0.9444444444444444, 0.9444444444444444, 0.9444444444444444, 0.8888888888888888, 1.0, 0.7777777777777778, 1.0, 0.8333333333333334, 0.8888888888888888, 0.9444444444444444, 0.9444444444444444, 0.8888888888888888, 0.8333333333333334]\n"
     ]
    }
   ],
   "source": [
    "os.chdir(\"/Users/Srikar/Desktop/Velexi/spectra-ml/lab-notebook/smunukutla\")\n",
    "fi = open(\"indices.txt\", \"r\")\n",
    "\n",
    "stats = []\n",
    "\n",
    "for i in range(20):\n",
    "    train_set_indices = ast.literal_eval(fi.readline())\n",
    "    test_set_indices = ast.literal_eval(fi.readline())\n",
    "    dev_set_indices = ast.literal_eval(fi.readline())\n",
    "    \n",
    "    for j in train_set_indices:\n",
    "        j = int(j)\n",
    "    for k in test_set_indices:\n",
    "        k = int(k)\n",
    "    for m in dev_set_indices:\n",
    "        m = int(m)\n",
    "        \n",
    "#     print(train_set_indices)\n",
    "#     print(test_set_indices)\n",
    "#     print(dev_set_indices)\n",
    "    \n",
    "    train_set = spectra[train_set_indices, :]\n",
    "    train_labels = y[train_set_indices, :]\n",
    "    dev_set = spectra[dev_set_indices, :]\n",
    "    dev_labels = y[dev_set_indices, :]\n",
    "    test_set = spectra[test_set_indices, :]\n",
    "    test_labels = y[test_set_indices, :]\n",
    "\n",
    "    train_labels = train_labels.flatten()\n",
    "    dev_labels = dev_labels.flatten()\n",
    "    test_labels = test_labels.flatten()\n",
    "    \n",
    "    clf = RandomForestClassifier(n_estimators=100, bootstrap=True, criterion='entropy')\n",
    "    \n",
    "    # clf.fit(train_set, train_labels)\n",
    "    clf.fit(train_set, train_labels)\n",
    "    \n",
    "    # preds = clf.predict(test_set)\n",
    "    # print(\"Accuracy:\", accuracy_score(test_labels, preds))\n",
    "    preds = clf.predict(test_set)\n",
    "#     print(\"Accuracy:\", accuracy_score(y_test, preds))\n",
    "    stats.append(accuracy_score(test_labels, preds))\n",
    "\n",
    "print(\"Random Forest:\", stats) # add averages of the accuracy"
   ]
  },
  {
   "cell_type": "code",
   "execution_count": 8,
   "metadata": {},
   "outputs": [
    {
     "data": {
      "text/plain": [
       "[0.9444444444444444,\n",
       " 1.0,\n",
       " 0.9444444444444444,\n",
       " 0.9444444444444444,\n",
       " 0.8888888888888888,\n",
       " 1.0,\n",
       " 0.9444444444444444,\n",
       " 0.9444444444444444,\n",
       " 0.9444444444444444,\n",
       " 0.9444444444444444,\n",
       " 0.8888888888888888,\n",
       " 1.0,\n",
       " 0.7777777777777778,\n",
       " 1.0,\n",
       " 0.8333333333333334,\n",
       " 0.8888888888888888,\n",
       " 0.9444444444444444,\n",
       " 0.9444444444444444,\n",
       " 0.8888888888888888,\n",
       " 0.8333333333333334]"
      ]
     },
     "execution_count": 8,
     "metadata": {},
     "output_type": "execute_result"
    }
   ],
   "source": [
    "stats"
   ]
  },
  {
   "cell_type": "code",
   "execution_count": 10,
   "metadata": {},
   "outputs": [
    {
     "name": "stdout",
     "output_type": "stream",
     "text": [
      "Random Forest Results: DescribeResult(nobs=20, minmax=(0.7777777777777778, 1.0), mean=0.9249999999999998, variance=0.0036630929174788817, skewness=-0.7711599926040729, kurtosis=0.07863284841273188)\n"
     ]
    }
   ],
   "source": [
    "print(\"Random Forest Results:\", st.describe(stats))"
   ]
  },
  {
   "cell_type": "code",
   "execution_count": null,
   "metadata": {},
   "outputs": [],
   "source": []
  }
 ],
 "metadata": {
  "kernelspec": {
   "display_name": "Python 3",
   "language": "python",
   "name": "python3"
  },
  "language_info": {
   "codemirror_mode": {
    "name": "ipython",
    "version": 3
   },
   "file_extension": ".py",
   "mimetype": "text/x-python",
   "name": "python",
   "nbconvert_exporter": "python",
   "pygments_lexer": "ipython3",
   "version": "3.7.3"
  }
 },
 "nbformat": 4,
 "nbformat_minor": 2
}
