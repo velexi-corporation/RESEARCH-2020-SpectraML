{
 "cells": [
  {
   "cell_type": "code",
   "execution_count": 1,
   "metadata": {},
   "outputs": [],
   "source": [
    "import numpy as np\n",
    "import matplotlib.pyplot as plt\n",
    "import matplotlib.image as mpimg\n",
    "import pandas as pd\n",
    "import os\n",
    "import random\n",
    "import ast\n",
    "from sklearn.ensemble import RandomForestClassifier\n",
    "from sklearn.model_selection import train_test_split\n",
    "from sklearn.metrics import accuracy_score\n",
    "from scipy import stats as st\n",
    "import time"
   ]
  },
  {
   "cell_type": "code",
   "execution_count": 2,
   "metadata": {},
   "outputs": [],
   "source": [
    "# directory = \"/Users/Srikar/Desktop/Velexi/spectra-ml/data/plots\"\n",
    "spectrum_len = 500\n",
    "data_dir = os.environ['DATA_DIR']\n",
    "parent_dir = os.environ['PWD']\n",
    "plots_dir = os.path.join(data_dir, \"plots-\" + str(spectrum_len))\n",
    "stddata_path = os.path.join(data_dir, \"StdData-\" + str(spectrum_len))\n",
    "os.chdir(os.path.join(parent_dir, \"lab-notebook\", \"smunukutla\"))"
   ]
  },
  {
   "cell_type": "code",
   "execution_count": 3,
   "metadata": {},
   "outputs": [],
   "source": [
    "img = mpimg.imread(os.path.join(plots_dir, os.listdir(plots_dir)[0]))\n",
    "spectrum_height = img.shape[0]\n",
    "spectrum_width = img.shape[1]"
   ]
  },
  {
   "cell_type": "code",
   "execution_count": 4,
   "metadata": {},
   "outputs": [],
   "source": [
    "def convertimg(img):\n",
    "    newimg = np.empty([img.shape[0], img.shape[1]])\n",
    "    for i in range(img.shape[0]):\n",
    "        for j in range(img.shape[1]):\n",
    "            row = img[i][j]\n",
    "            newimg[i][j] = (row[0] + row[1] + row[2])/3\n",
    "    return newimg"
   ]
  },
  {
   "cell_type": "code",
   "execution_count": 5,
   "metadata": {},
   "outputs": [],
   "source": [
    "data = pd.read_csv(\"data.csv\", sep=\",\")\n",
    "record_nums = data.iloc[0, :].tolist()\n",
    "spectrum_names = data.iloc[1, :].tolist()\n",
    "y = data.iloc[2, :].astype(int).tolist()\n",
    "y = np.reshape(y, (len(y), 1))\n",
    "num_samples = len(y)"
   ]
  },
  {
   "cell_type": "code",
   "execution_count": 6,
   "metadata": {},
   "outputs": [
    {
     "name": "stdout",
     "output_type": "stream",
     "text": [
      "35.885303258895874\n"
     ]
    }
   ],
   "source": [
    "start_time = time.time()\n",
    "spectra = np.zeros((num_samples, spectrum_height, spectrum_width))\n",
    "i = 0\n",
    "for num in record_nums:\n",
    "    img = plt.imread(os.path.join(plots_dir, num + \"-\" + spectrum_names[i] + \".png\")) # os.path.join here, look into timeit, pickle file\n",
    "    spectra[i] = convertimg(img)\n",
    "    i += 1\n",
    "\n",
    "end_time = time.time()\n",
    "print(end_time - start_time)"
   ]
  },
  {
   "cell_type": "code",
   "execution_count": 7,
   "metadata": {},
   "outputs": [],
   "source": [
    "spectra = spectra.reshape(spectra.shape[0], spectra.shape[1]*spectra.shape[2])"
   ]
  },
  {
   "cell_type": "code",
   "execution_count": 11,
   "metadata": {
    "scrolled": false
   },
   "outputs": [
    {
     "name": "stdout",
     "output_type": "stream",
     "text": [
      "Random Forest Results: DescribeResult(nobs=20, minmax=(0.6176470588235294, 0.8823529411764706), mean=0.786764705882353, variance=0.004905754871608083, skewness=-0.7272137568240163, kurtosis=-0.03250413165303323)\n",
      "5.735104084014893\n"
     ]
    }
   ],
   "source": [
    "fi = open(\"indices.txt\", \"r\")\n",
    "num_runs = int(fi.readline())\n",
    "num_minerals = int(fi.readline())\n",
    "\n",
    "stats = []\n",
    "\n",
    "init_time = time.time()\n",
    "\n",
    "for i in range(num_runs):\n",
    "    train_set_indices = ast.literal_eval(fi.readline())\n",
    "    test_set_indices = ast.literal_eval(fi.readline())\n",
    "    dev_set_indices = ast.literal_eval(fi.readline())\n",
    "    \n",
    "    for j in train_set_indices:\n",
    "        j = int(j)\n",
    "    for k in test_set_indices:\n",
    "        k = int(k)\n",
    "    for m in dev_set_indices:\n",
    "        m = int(m)\n",
    "        \n",
    "#     print(train_set_indices)\n",
    "#     print(test_set_indices)\n",
    "#     print(dev_set_indices)\n",
    "    \n",
    "    train_set = spectra[train_set_indices, :]\n",
    "    train_labels = y[train_set_indices, :]\n",
    "    dev_set = spectra[dev_set_indices, :]\n",
    "    dev_labels = y[dev_set_indices, :]\n",
    "    test_set = spectra[test_set_indices, :]\n",
    "    test_labels = y[test_set_indices, :]\n",
    "    \n",
    "#     train_plus_dev_set = spectra[train_set_indices+dev_set_indices, :]\n",
    "\n",
    "    train_labels = train_labels.flatten()\n",
    "    dev_labels = dev_labels.flatten()\n",
    "    test_labels = test_labels.flatten()\n",
    "    \n",
    "#     train_plus_dev_labels = y[train_set_indices+dev_set_indices, :]\n",
    "    \n",
    "#     train_plus_dev_labels = train_plus_dev_labels.reshape(train_plus_dev_labels.shape[0],)\n",
    "#     print(train_plus_dev_labels.shape)\n",
    "    \n",
    "    iters = []\n",
    "    for(j in )\n",
    "    clf = RandomForestClassifier(n_estimators=100, max_depth=100, bootstrap=True, criterion='entropy')\n",
    "    # tune max_depth argument\n",
    "    \n",
    "    clf.fit(train_set, train_labels)\n",
    "#     clf.fit(train_plus_dev_set, train_plus_dev_labels)\n",
    "    \n",
    "    # preds = clf.predict(test_set)\n",
    "    # print(\"Accuracy:\", accuracy_score(test_labels, preds))\n",
    "    preds = clf.predict(test_set)\n",
    "#     print(\"Accuracy:\", accuracy_score(y_test, preds))\n",
    "    stats.append(accuracy_score(test_labels, preds))\n",
    "\n",
    "print(\"Random Forest Results:\", st.describe(stats))\n",
    "total_seconds = time.time() - init_time\n",
    "print(total_seconds)"
   ]
  },
  {
   "cell_type": "code",
   "execution_count": null,
   "metadata": {},
   "outputs": [],
   "source": []
  }
 ],
 "metadata": {
  "kernelspec": {
   "display_name": "Python 3",
   "language": "python",
   "name": "python3"
  },
  "language_info": {
   "codemirror_mode": {
    "name": "ipython",
    "version": 3
   },
   "file_extension": ".py",
   "mimetype": "text/x-python",
   "name": "python",
   "nbconvert_exporter": "python",
   "pygments_lexer": "ipython3",
   "version": "3.7.3"
  }
 },
 "nbformat": 4,
 "nbformat_minor": 2
}
