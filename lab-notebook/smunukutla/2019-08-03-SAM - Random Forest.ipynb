{
 "cells": [
  {
   "cell_type": "code",
   "execution_count": 56,
   "metadata": {},
   "outputs": [],
   "source": [
    "import numpy as np\n",
    "import matplotlib.pyplot as plt\n",
    "import matplotlib.image as mpimg\n",
    "import pandas as pd\n",
    "import os\n",
    "import random\n",
    "import ast\n",
    "\n",
    "# directory = \"/Users/Srikar/Desktop/Velexi/spectra-ml/data/plots\"\n",
    "directory = os.environ['DATA_DIR']\n",
    "directory = os.path.join(directory, \"plots\")\n",
    "os.chdir(directory)"
   ]
  },
  {
   "cell_type": "code",
   "execution_count": 57,
   "metadata": {},
   "outputs": [],
   "source": [
    "num_samples = len(os.listdir(os.getcwd()))\n",
    "img = mpimg.imread(os.path.join(directory,os.listdir(os.getcwd())[0]))\n",
    "spectrum_height = img.shape[0]\n",
    "spectrum_width = img.shape[1]"
   ]
  },
  {
   "cell_type": "code",
   "execution_count": 58,
   "metadata": {},
   "outputs": [],
   "source": [
    "def convertimg(img):\n",
    "    newimg = np.empty([img.shape[0], img.shape[1]])\n",
    "    for i in range(img.shape[0]):\n",
    "        for j in range(img.shape[1]):\n",
    "            row = img[i][j]\n",
    "            newimg[i][j] = (row[0] + row[1] + row[2])/3\n",
    "    return newimg"
   ]
  },
  {
   "cell_type": "code",
   "execution_count": 59,
   "metadata": {},
   "outputs": [],
   "source": [
    "data = pd.read_csv(\"/Users/Srikar/Desktop/Velexi/spectra-ml/lab-notebook/smunukutla/data.csv\", sep=\",\")\n",
    "record_nums = data.iloc[0, :].astype(int).tolist()\n",
    "spectrum_names = data.iloc[1, :].tolist()\n",
    "y = data.iloc[2, :].astype(int).tolist()\n",
    "y = np.reshape(y, (len(y), 1))\n",
    "num_samples = len(y)"
   ]
  },
  {
   "cell_type": "code",
   "execution_count": 67,
   "metadata": {},
   "outputs": [
    {
     "name": "stdout",
     "output_type": "stream",
     "text": [
      "['Actinolite108.png', 'Actinolite114.png', 'Actinolite120.png', 'Actinolite124.png', 'Actinolite130.png', 'Actinolite142.png', 'Actinolite148.png', 'Actinolite154.png', 'Actinolite158.png', 'Actinolite177.png', 'Actinolite189.png', 'Actinolite195.png', 'Actinolite201.png', 'Actinolite205.png', 'Actinolite229.png', 'Actinolite236.png', 'Alunite662.png', 'Alunite670.png', 'Alunite702.png', 'Alunite736.png', 'Alunite821.png', 'Alunite827.png', 'Alunite833.png', 'Alunite837.png', 'Alunite843.png', 'Alunite868.png', 'Alunite874.png', 'Alunite932.png', 'Alunite992.png', 'Chlorite2614.png', 'Chlorite2620.png', 'Chlorite2626.png', 'Chlorite2645.png', 'Chlorite2651.png', 'Chlorite2660.png', 'Chlorite2680.png', 'Chlorite2710.png', 'Chlorite2714.png', 'Chlorite2731.png', 'Chlorite2748.png']\n"
     ]
    }
   ],
   "source": [
    "os.listdir().sort()\n",
    "print(sorted(os.listdir()))"
   ]
  },
  {
   "cell_type": "code",
   "execution_count": 69,
   "metadata": {},
   "outputs": [
    {
     "name": "stdout",
     "output_type": "stream",
     "text": [
      "Alunite992.png\n",
      "Actinolite189.png\n",
      "Actinolite201.png\n",
      "Actinolite229.png\n",
      "Actinolite177.png\n",
      "Chlorite2680.png\n",
      "Alunite833.png\n",
      "Alunite827.png\n",
      "Actinolite148.png\n",
      "Actinolite158.png\n",
      "Alunite837.png\n",
      "Chlorite2651.png\n",
      "Chlorite2645.png\n",
      "Chlorite2731.png\n",
      "Actinolite205.png\n",
      "Alunite821.png\n",
      "Alunite932.png\n",
      "Actinolite114.png\n",
      "Alunite702.png\n",
      "Chlorite2620.png\n",
      "Alunite662.png\n",
      "Alunite868.png\n",
      "Chlorite2626.png\n",
      "Alunite843.png\n",
      "Alunite670.png\n",
      "Actinolite108.png\n",
      "Actinolite120.png\n",
      "Chlorite2748.png\n",
      "Chlorite2614.png\n",
      "Alunite736.png\n",
      "Alunite874.png\n",
      "Actinolite130.png\n",
      "Actinolite124.png\n",
      "Chlorite2714.png\n",
      "Chlorite2660.png\n",
      "Actinolite142.png\n",
      "Actinolite195.png\n",
      "Actinolite154.png\n",
      "Actinolite236.png\n",
      "Chlorite2710.png\n"
     ]
    }
   ],
   "source": [
    "spectra = np.zeros((num_samples, spectrum_height, spectrum_width))\n",
    "y = []\n",
    "i = 0\n",
    "for name in os.listdir():\n",
    "    print(name)\n",
    "    if name.find(\"Actinolite\") != -1:\n",
    "        y.append(int(0))\n",
    "    elif name.find(\"Alunite\") != -1:\n",
    "        y.append(int(1))\n",
    "    else:\n",
    "        y.append(int(2))\n",
    "    img = plt.imread(os.path.join(directory,name)) # os.path.join here, look into timeit, pickle file\n",
    "    spectra[i] = convertimg(img)\n",
    "    i += 1"
   ]
  },
  {
   "cell_type": "code",
   "execution_count": 32,
   "metadata": {},
   "outputs": [],
   "source": [
    "spectra = spectra.reshape(spectra.shape[0], spectra.shape[1]*spectra.shape[2])"
   ]
  },
  {
   "cell_type": "code",
   "execution_count": 33,
   "metadata": {},
   "outputs": [
    {
     "data": {
      "text/plain": [
       "(40, 124416)"
      ]
     },
     "execution_count": 33,
     "metadata": {},
     "output_type": "execute_result"
    }
   ],
   "source": [
    "spectra.shape"
   ]
  },
  {
   "cell_type": "code",
   "execution_count": 34,
   "metadata": {},
   "outputs": [
    {
     "data": {
      "text/plain": [
       "(40, 1)"
      ]
     },
     "execution_count": 34,
     "metadata": {},
     "output_type": "execute_result"
    }
   ],
   "source": [
    "y = np.reshape(y, (len(y), 1))\n",
    "y.shape"
   ]
  },
  {
   "cell_type": "code",
   "execution_count": 42,
   "metadata": {},
   "outputs": [
    {
     "name": "stdout",
     "output_type": "stream",
     "text": [
      "[1, 15, 30, 26, 24, 31, 8, 3, 5, 37, 23, 39, 18, 16, 25, 32, 27, 12, 33, 20, 19, 34, 14, 22]\n",
      "[35, 29, 4, 13, 36, 17, 7, 6]\n",
      "[9, 38, 2, 28, 11, 0, 21, 10]\n",
      "Accuracy: 1.0\n",
      "[11, 4, 38, 12, 20, 34, 36, 31, 14, 10, 15, 28, 9, 27, 16, 17, 19, 6, 33, 37, 25, 21, 35, 5]\n",
      "[29, 32, 18, 2, 24, 8, 7, 13]\n",
      "[23, 26, 22, 39, 3, 1, 30, 0]\n",
      "Accuracy: 0.75\n",
      "[33, 23, 11, 14, 4, 29, 36, 38, 6, 21, 15, 37, 39, 7, 10, 31, 22, 1, 17, 28, 27, 32, 35, 16]\n",
      "[12, 2, 34, 18, 9, 19, 5, 25]\n",
      "[30, 13, 24, 26, 8, 3, 0, 20]\n",
      "Accuracy: 0.875\n",
      "[19, 22, 20, 25, 18, 8, 13, 31, 35, 26, 6, 30, 33, 32, 24, 4, 10, 1, 7, 5, 15, 14, 0, 11]\n",
      "[12, 38, 36, 23, 29, 9, 28, 27]\n",
      "[3, 34, 39, 37, 17, 21, 2, 16]\n",
      "Accuracy: 0.75\n",
      "[35, 33, 31, 4, 8, 19, 6, 17, 20, 30, 10, 11, 7, 38, 12, 32, 37, 23, 27, 9, 3, 0, 18, 26]\n",
      "[39, 22, 36, 28, 16, 25, 14, 15]\n",
      "[34, 13, 2, 5, 29, 1, 24, 21]\n",
      "Accuracy: 1.0\n",
      "[13, 16, 39, 9, 37, 29, 38, 12, 8, 15, 5, 36, 10, 19, 33, 32, 18, 21, 27, 30, 11, 22, 2, 26]\n",
      "[1, 31, 4, 35, 23, 17, 25, 24]\n",
      "[34, 6, 3, 14, 20, 28, 7, 0]\n",
      "Accuracy: 0.75\n",
      "[28, 29, 10, 11, 13, 12, 0, 17, 34, 6, 5, 30, 35, 8, 31, 36, 37, 3, 18, 26, 22, 24, 7, 9]\n",
      "[32, 33, 15, 27, 23, 2, 21, 20]\n",
      "[25, 19, 16, 4, 1, 39, 38, 14]\n",
      "Accuracy: 1.0\n",
      "[6, 5, 31, 11, 37, 32, 2, 27, 30, 26, 38, 22, 9, 33, 12, 15, 14, 16, 8, 29, 28, 13, 39, 3]\n",
      "[7, 20, 1, 34, 23, 18, 10, 25]\n",
      "[0, 4, 17, 19, 21, 35, 24, 36]\n",
      "Accuracy: 1.0\n",
      "[1, 4, 22, 35, 5, 3, 38, 26, 27, 31, 28, 8, 32, 33, 17, 13, 6, 14, 23, 15, 10, 18, 36, 34]\n",
      "[0, 37, 20, 9, 16, 19, 12, 25]\n",
      "[11, 29, 24, 30, 7, 2, 39, 21]\n",
      "Accuracy: 1.0\n",
      "[21, 38, 9, 1, 22, 18, 3, 35, 28, 34, 30, 8, 15, 33, 16, 7, 25, 17, 14, 13, 32, 0, 6, 24]\n",
      "[26, 12, 31, 23, 10, 37, 36, 5]\n",
      "[2, 39, 27, 19, 11, 20, 29, 4]\n",
      "Accuracy: 1.0\n"
     ]
    }
   ],
   "source": [
    "os.chdir(\"/Users/Srikar/Desktop/Velexi/spectra-ml/lab-notebook/smunukutla\")\n",
    "fi = open(\"indices.txt\", \"r\")\n",
    "\n",
    "for i in range(10):\n",
    "    train_set_indices = ast.literal_eval(fi.readline())\n",
    "    test_set_indices = ast.literal_eval(fi.readline())\n",
    "    dev_set_indices = ast.literal_eval(fi.readline())\n",
    "    \n",
    "    for j in train_set_indices:\n",
    "        j = int(j)\n",
    "    for k in test_set_indices:\n",
    "        k = int(k)\n",
    "    for m in dev_set_indices:\n",
    "        m = int(m)\n",
    "        \n",
    "    print(train_set_indices)\n",
    "    print(test_set_indices)\n",
    "    print(dev_set_indices)\n",
    "    \n",
    "    train_set = spectra[train_set_indices, :]\n",
    "    train_labels = y[train_set_indices, :]\n",
    "    dev_set = spectra[dev_set_indices, :]\n",
    "    dev_labels = y[dev_set_indices, :]\n",
    "    test_set = spectra[test_set_indices, :]\n",
    "    test_labels = y[test_set_indices, :]\n",
    "\n",
    "    train_labels = train_labels.flatten()\n",
    "    dev_labels = dev_labels.flatten()\n",
    "    test_labels = test_labels.flatten()\n",
    "\n",
    "    from sklearn.ensemble import RandomForestClassifier\n",
    "    clf = RandomForestClassifier(n_estimators=100, bootstrap=True, criterion='entropy')\n",
    "\n",
    "    from sklearn.model_selection import train_test_split\n",
    "\n",
    "    y_new = np.copy(y)\n",
    "    y_new = np.reshape(y_new, (len(y_new), ))\n",
    "    X_train, X_test, y_train, y_test = train_test_split(spectra, y_new, test_size=0.2, stratify=y_new)\n",
    "    # clf.fit(train_set, train_labels)\n",
    "    clf.fit(X_train, y_train)\n",
    "\n",
    "    from sklearn.metrics import accuracy_score\n",
    "    # preds = clf.predict(test_set)\n",
    "    # print(\"Accuracy:\", accuracy_score(test_labels, preds))\n",
    "    preds = clf.predict(X_test)\n",
    "    print(\"Accuracy:\", accuracy_score(y_test, preds))"
   ]
  },
  {
   "cell_type": "code",
   "execution_count": 24,
   "metadata": {},
   "outputs": [],
   "source": [
    "# train_labels = train_labels.flatten()\n",
    "# dev_labels = dev_labels.flatten()\n",
    "# test_labels = test_labels.flatten()"
   ]
  },
  {
   "cell_type": "code",
   "execution_count": 25,
   "metadata": {},
   "outputs": [],
   "source": [
    "# from sklearn.ensemble import RandomForestClassifier\n",
    "# clf = RandomForestClassifier(bootstrap=True, criterion='entropy')"
   ]
  },
  {
   "cell_type": "code",
   "execution_count": 26,
   "metadata": {},
   "outputs": [],
   "source": [
    "# from sklearn.model_selection import train_test_split\n",
    "\n",
    "# y = np.reshape(y, (len(y), ))\n",
    "# X_train, X_test, y_train, y_test = train_test_split(spectra, y, test_size=0.2, random_state=42)\n",
    "# # clf.fit(train_set, train_labels)\n",
    "# clf.fit(X_train, y_train)"
   ]
  },
  {
   "cell_type": "code",
   "execution_count": 27,
   "metadata": {},
   "outputs": [],
   "source": [
    "# from sklearn.metrics import accuracy_score\n",
    "# # preds = clf.predict(test_set)\n",
    "# # print(\"Accuracy:\", accuracy_score(test_labels, preds))\n",
    "# preds = clf.predict(X_test)\n",
    "# print(\"Accuracy:\", accuracy_score(y_test, preds))"
   ]
  },
  {
   "cell_type": "code",
   "execution_count": null,
   "metadata": {},
   "outputs": [],
   "source": []
  }
 ],
 "metadata": {
  "kernelspec": {
   "display_name": "Python 3",
   "language": "python",
   "name": "python3"
  },
  "language_info": {
   "codemirror_mode": {
    "name": "ipython",
    "version": 3
   },
   "file_extension": ".py",
   "mimetype": "text/x-python",
   "name": "python",
   "nbconvert_exporter": "python",
   "pygments_lexer": "ipython3",
   "version": "3.7.3"
  }
 },
 "nbformat": 4,
 "nbformat_minor": 2
}
