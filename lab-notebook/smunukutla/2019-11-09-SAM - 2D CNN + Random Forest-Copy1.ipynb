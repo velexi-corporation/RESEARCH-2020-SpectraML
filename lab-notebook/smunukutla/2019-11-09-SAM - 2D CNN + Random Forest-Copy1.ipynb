{
 "cells": [
  {
   "cell_type": "code",
   "execution_count": 12,
   "metadata": {},
   "outputs": [],
   "source": [
    "# import libraries\n",
    "import numpy as np\n",
    "import matplotlib.pyplot as plt\n",
    "import matplotlib.image as mpimg\n",
    "import pandas as pd\n",
    "import os\n",
    "import random\n",
    "import ast\n",
    "import tensorflow as tf\n",
    "import tensorflow.keras\n",
    "from tensorflow.keras.models import Sequential, load_model, Model\n",
    "from tensorflow.keras.layers import Conv2D, MaxPooling2D, Flatten, Dense, Dropout, GlobalAveragePooling2D, ZeroPadding2D\n",
    "from tensorflow.keras.callbacks import ModelCheckpoint, TensorBoard\n",
    "from tensorflow.keras.utils import to_categorical\n",
    "from scipy import stats as st\n",
    "from sklearn.ensemble import RandomForestClassifier\n",
    "from sklearn.metrics import accuracy_score\n",
    "import time"
   ]
  },
  {
   "cell_type": "code",
   "execution_count": 2,
   "metadata": {},
   "outputs": [],
   "source": [
    "spectrum_len = 500 # automate this\n",
    "data_dir = os.environ['DATA_DIR']\n",
    "parent_dir = os.environ['PWD']\n",
    "stddata_path = os.path.join(data_dir, \"StdData-\" + str(spectrum_len))\n",
    "plots_dir = os.path.join(data_dir, \"plots\")\n",
    "os.chdir(os.path.join(parent_dir, \"lab-notebook\", \"smunukutla\"))"
   ]
  },
  {
   "cell_type": "code",
   "execution_count": 3,
   "metadata": {},
   "outputs": [],
   "source": [
    "img = mpimg.imread(os.path.join(plots_dir, os.listdir(plots_dir)[0]))\n",
    "spectrum_height = img.shape[0]\n",
    "spectrum_width = img.shape[1]"
   ]
  },
  {
   "cell_type": "code",
   "execution_count": 4,
   "metadata": {},
   "outputs": [],
   "source": [
    "def convertimg(img):\n",
    "    newimg = np.empty([img.shape[0], img.shape[1]])\n",
    "    for i in range(img.shape[0]):\n",
    "        for j in range(img.shape[1]):\n",
    "            row = img[i][j]\n",
    "            newimg[i][j] = (row[0] + row[1] + row[2])/3\n",
    "    return newimg"
   ]
  },
  {
   "cell_type": "code",
   "execution_count": 5,
   "metadata": {},
   "outputs": [],
   "source": [
    "data = pd.read_csv(\"data.csv\", sep=\",\")\n",
    "record_nums = data.iloc[0, :].tolist()\n",
    "spectrum_names = data.iloc[1, :].tolist()\n",
    "y = data.iloc[2, :].astype(int).tolist()\n",
    "y = np.reshape(y, (len(y), 1))\n",
    "num_samples = len(y)"
   ]
  },
  {
   "cell_type": "code",
   "execution_count": 6,
   "metadata": {},
   "outputs": [
    {
     "name": "stdout",
     "output_type": "stream",
     "text": [
      "92.1822738647461\n"
     ]
    }
   ],
   "source": [
    "start_time = time.time()\n",
    "spectra = np.zeros((num_samples, spectrum_height, spectrum_width))\n",
    "i = 0\n",
    "for num in record_nums:\n",
    "    img = plt.imread(os.path.join(plots_dir, num + \"-\" + spectrum_names[i] + \".png\")) # look into timeit, pickle file\n",
    "    spectra[i] = convertimg(img)\n",
    "    i += 1\n",
    "\n",
    "end_time = time.time()\n",
    "print(end_time - start_time)"
   ]
  },
  {
   "cell_type": "code",
   "execution_count": 7,
   "metadata": {},
   "outputs": [
    {
     "data": {
      "text/plain": [
       "(166, 288, 432, 1)"
      ]
     },
     "execution_count": 7,
     "metadata": {},
     "output_type": "execute_result"
    }
   ],
   "source": [
    "spectra = spectra.reshape(spectra.shape[0], spectra.shape[1], spectra.shape[2], 1)\n",
    "spectra.shape"
   ]
  },
  {
   "cell_type": "code",
   "execution_count": 8,
   "metadata": {},
   "outputs": [],
   "source": [
    "y_cat = to_categorical(y)"
   ]
  },
  {
   "cell_type": "code",
   "execution_count": 9,
   "metadata": {},
   "outputs": [
    {
     "data": {
      "text/plain": [
       "(2, 288, 432, 1)"
      ]
     },
     "execution_count": 9,
     "metadata": {},
     "output_type": "execute_result"
    }
   ],
   "source": [
    "spectra[[0, 1], :].shape"
   ]
  },
  {
   "cell_type": "code",
   "execution_count": 10,
   "metadata": {},
   "outputs": [],
   "source": [
    "# fi = open(\"indices.txt\", \"r\")\n",
    "# num_runs = int(fi.readline())\n",
    "# num_minerals = int(fi.readline())\n",
    "\n",
    "# stats = []\n",
    "\n",
    "# for i in range(num_runs):\n",
    "#     train_set_indices = ast.literal_eval(fi.readline())\n",
    "#     test_set_indices = ast.literal_eval(fi.readline())\n",
    "#     dev_set_indices = ast.literal_eval(fi.readline())\n",
    "\n",
    "#     for j in train_set_indices:\n",
    "#         j = int(j)\n",
    "#     for k in test_set_indices:\n",
    "#         k = int(k)\n",
    "#     for m in dev_set_indices:\n",
    "#         m = int(m)\n",
    "    \n",
    "#     train_set = spectra[train_set_indices, :]\n",
    "#     dev_set = spectra[dev_set_indices, :]\n",
    "#     test_set = spectra[test_set_indices, :]\n",
    "    \n",
    "#     train_labels = y_cat[train_set_indices, :]\n",
    "#     dev_labels = y_cat[dev_set_indices, :]\n",
    "#     test_labels = y_cat[test_set_indices, :]\n",
    "    \n",
    "#     model = Sequential()\n",
    "#     #add model layers\n",
    "#     model.add(Conv2D(32, kernel_size=10, strides=(6,6), activation='relu', input_shape=(spectra.shape[1],spectra.shape[2], 1))) # finer features at the first layer\n",
    "#     model.add(Conv2D(32, kernel_size=3, activation='relu')) # larger features at later layer\n",
    "#     model.add(Flatten())\n",
    "    \n",
    "#     from tensorflow.keras import backend as K\n",
    "\n",
    "#     # with a Sequential model\n",
    "#     get_3rd_layer_output = K.function([model.layers[0].input],\n",
    "#                                       [model.layers[3].output])\n",
    "#     layer_output = get_3rd_layer_output(dev_set)\n",
    "    \n",
    "#     clf = RandomForestClassifier(n_estimators=100, bootstrap=True, criterion='entropy')\n",
    "    \n",
    "#     # clf.fit(train_set, train_labels)\n",
    "#     clf.fit(train_set, train_labels)\n",
    "    \n",
    "#     # preds = clf.predict(test_set)\n",
    "#     # print(\"Accuracy:\", accuracy_score(test_labels, preds))\n",
    "#     preds = clf.predict(test_set)\n",
    "# #     print(\"Accuracy:\", accuracy_score(y_test, preds))\n",
    "#     stats.append(accuracy_score(test_labels, preds))\n",
    "\n",
    "# print(\"2D CNN + Random Forest Results:\", st.describe(stats))"
   ]
  },
  {
   "cell_type": "code",
   "execution_count": 14,
   "metadata": {},
   "outputs": [
    {
     "name": "stdout",
     "output_type": "stream",
     "text": [
      "Model: \"sequential_2\"\n",
      "_________________________________________________________________\n",
      "Layer (type)                 Output Shape              Param #   \n",
      "=================================================================\n",
      "conv2d_4 (Conv2D)            (None, 139, 211, 96)      11712     \n",
      "_________________________________________________________________\n",
      "max_pooling2d_4 (MaxPooling2 (None, 69, 105, 96)       0         \n",
      "_________________________________________________________________\n",
      "conv2d_5 (Conv2D)            (None, 65, 101, 128)      307328    \n",
      "_________________________________________________________________\n",
      "max_pooling2d_5 (MaxPooling2 (None, 32, 50, 128)       0         \n",
      "_________________________________________________________________\n",
      "conv2d_6 (Conv2D)            (None, 30, 48, 384)       442752    \n",
      "_________________________________________________________________\n",
      "conv2d_7 (Conv2D)            (None, 28, 46, 192)       663744    \n",
      "_________________________________________________________________\n",
      "conv2d_8 (Conv2D)            (None, 26, 44, 128)       221312    \n",
      "_________________________________________________________________\n",
      "max_pooling2d_6 (MaxPooling2 (None, 13, 22, 128)       0         \n",
      "_________________________________________________________________\n",
      "global_average_pooling2d (Gl (None, 128)               0         \n",
      "_________________________________________________________________\n",
      "dense (Dense)                (None, 5000)              645000    \n",
      "_________________________________________________________________\n",
      "dropout (Dropout)            (None, 5000)              0         \n",
      "_________________________________________________________________\n",
      "dense_1 (Dense)              (None, 5000)              25005000  \n",
      "_________________________________________________________________\n",
      "dropout_1 (Dropout)          (None, 5000)              0         \n",
      "_________________________________________________________________\n",
      "dense_2 (Dense)              (None, 10)                50010     \n",
      "=================================================================\n",
      "Total params: 27,346,858\n",
      "Trainable params: 27,346,858\n",
      "Non-trainable params: 0\n",
      "_________________________________________________________________\n",
      "Train on 99 samples, validate on 33 samples\n",
      "Epoch 1/25\n",
      "99/99 - 35s - loss: 2.3308 - acc: 0.1010 - val_loss: 2.2931 - val_acc: 0.1515\n",
      "Epoch 2/25\n",
      "99/99 - 27s - loss: 2.2853 - acc: 0.1515 - val_loss: 2.3348 - val_acc: 0.1515\n",
      "Epoch 3/25\n",
      "99/99 - 29s - loss: 2.3183 - acc: 0.1515 - val_loss: 2.2769 - val_acc: 0.1515\n",
      "Epoch 4/25\n"
     ]
    },
    {
     "ename": "KeyboardInterrupt",
     "evalue": "",
     "output_type": "error",
     "traceback": [
      "\u001b[0;31m---------------------------------------------------------------------------\u001b[0m",
      "\u001b[0;31mKeyboardInterrupt\u001b[0m                         Traceback (most recent call last)",
      "\u001b[0;32m<ipython-input-14-4fab19ff5233>\u001b[0m in \u001b[0;36m<module>\u001b[0;34m\u001b[0m\n\u001b[1;32m     79\u001b[0m                           write_images=True)\n\u001b[1;32m     80\u001b[0m \u001b[0;34m\u001b[0m\u001b[0m\n\u001b[0;32m---> 81\u001b[0;31m     \u001b[0mhistory\u001b[0m \u001b[0;34m=\u001b[0m \u001b[0mmodel\u001b[0m\u001b[0;34m.\u001b[0m\u001b[0mfit\u001b[0m\u001b[0;34m(\u001b[0m\u001b[0mtrain_set\u001b[0m\u001b[0;34m,\u001b[0m \u001b[0mtrain_labels\u001b[0m\u001b[0;34m,\u001b[0m \u001b[0mbatch_size\u001b[0m\u001b[0;34m=\u001b[0m\u001b[0mBATCH_SIZE\u001b[0m\u001b[0;34m,\u001b[0m \u001b[0mepochs\u001b[0m\u001b[0;34m=\u001b[0m\u001b[0mEPOCHS\u001b[0m\u001b[0;34m,\u001b[0m \u001b[0mverbose\u001b[0m\u001b[0;34m=\u001b[0m\u001b[0;36m2\u001b[0m\u001b[0;34m,\u001b[0m \u001b[0mvalidation_data\u001b[0m\u001b[0;34m=\u001b[0m\u001b[0;34m(\u001b[0m\u001b[0mdev_set\u001b[0m\u001b[0;34m,\u001b[0m \u001b[0mdev_labels\u001b[0m\u001b[0;34m)\u001b[0m\u001b[0;34m,\u001b[0m \u001b[0mcallbacks\u001b[0m\u001b[0;34m=\u001b[0m\u001b[0;34m[\u001b[0m\u001b[0mcheckpointer\u001b[0m\u001b[0;34m,\u001b[0m \u001b[0mtensorboard\u001b[0m\u001b[0;34m]\u001b[0m\u001b[0;34m)\u001b[0m\u001b[0;34m.\u001b[0m\u001b[0mhistory\u001b[0m\u001b[0;34m\u001b[0m\u001b[0;34m\u001b[0m\u001b[0m\n\u001b[0m\u001b[1;32m     82\u001b[0m \u001b[0;34m\u001b[0m\u001b[0m\n\u001b[1;32m     83\u001b[0m     \u001b[0mFC_layer_model\u001b[0m \u001b[0;34m=\u001b[0m \u001b[0mModel\u001b[0m\u001b[0;34m(\u001b[0m\u001b[0minputs\u001b[0m\u001b[0;34m=\u001b[0m\u001b[0mmodel\u001b[0m\u001b[0;34m.\u001b[0m\u001b[0minput\u001b[0m\u001b[0;34m,\u001b[0m \u001b[0moutputs\u001b[0m\u001b[0;34m=\u001b[0m\u001b[0mmodel\u001b[0m\u001b[0;34m.\u001b[0m\u001b[0mget_layer\u001b[0m\u001b[0;34m(\u001b[0m\u001b[0mindex\u001b[0m\u001b[0;34m=\u001b[0m\u001b[0mflatten_ind\u001b[0m\u001b[0;34m)\u001b[0m\u001b[0;34m.\u001b[0m\u001b[0moutput\u001b[0m\u001b[0;34m)\u001b[0m\u001b[0;34m\u001b[0m\u001b[0;34m\u001b[0m\u001b[0m\n",
      "\u001b[0;32m~/Desktop/Programs/Virtual Environments/spectra-ml-env/lib/python3.7/site-packages/tensorflow/python/keras/engine/training.py\u001b[0m in \u001b[0;36mfit\u001b[0;34m(self, x, y, batch_size, epochs, verbose, callbacks, validation_split, validation_data, shuffle, class_weight, sample_weight, initial_epoch, steps_per_epoch, validation_steps, validation_freq, max_queue_size, workers, use_multiprocessing, **kwargs)\u001b[0m\n\u001b[1;32m    778\u001b[0m           \u001b[0mvalidation_steps\u001b[0m\u001b[0;34m=\u001b[0m\u001b[0mvalidation_steps\u001b[0m\u001b[0;34m,\u001b[0m\u001b[0;34m\u001b[0m\u001b[0;34m\u001b[0m\u001b[0m\n\u001b[1;32m    779\u001b[0m           \u001b[0mvalidation_freq\u001b[0m\u001b[0;34m=\u001b[0m\u001b[0mvalidation_freq\u001b[0m\u001b[0;34m,\u001b[0m\u001b[0;34m\u001b[0m\u001b[0;34m\u001b[0m\u001b[0m\n\u001b[0;32m--> 780\u001b[0;31m           steps_name='steps_per_epoch')\n\u001b[0m\u001b[1;32m    781\u001b[0m \u001b[0;34m\u001b[0m\u001b[0m\n\u001b[1;32m    782\u001b[0m   def evaluate(self,\n",
      "\u001b[0;32m~/Desktop/Programs/Virtual Environments/spectra-ml-env/lib/python3.7/site-packages/tensorflow/python/keras/engine/training_arrays.py\u001b[0m in \u001b[0;36mmodel_iteration\u001b[0;34m(model, inputs, targets, sample_weights, batch_size, epochs, verbose, callbacks, val_inputs, val_targets, val_sample_weights, shuffle, initial_epoch, steps_per_epoch, validation_steps, validation_freq, mode, validation_in_fit, prepared_feed_values_from_dataset, steps_name, **kwargs)\u001b[0m\n\u001b[1;32m    361\u001b[0m \u001b[0;34m\u001b[0m\u001b[0m\n\u001b[1;32m    362\u001b[0m         \u001b[0;31m# Get outputs.\u001b[0m\u001b[0;34m\u001b[0m\u001b[0;34m\u001b[0m\u001b[0;34m\u001b[0m\u001b[0m\n\u001b[0;32m--> 363\u001b[0;31m         \u001b[0mbatch_outs\u001b[0m \u001b[0;34m=\u001b[0m \u001b[0mf\u001b[0m\u001b[0;34m(\u001b[0m\u001b[0mins_batch\u001b[0m\u001b[0;34m)\u001b[0m\u001b[0;34m\u001b[0m\u001b[0;34m\u001b[0m\u001b[0m\n\u001b[0m\u001b[1;32m    364\u001b[0m         \u001b[0;32mif\u001b[0m \u001b[0;32mnot\u001b[0m \u001b[0misinstance\u001b[0m\u001b[0;34m(\u001b[0m\u001b[0mbatch_outs\u001b[0m\u001b[0;34m,\u001b[0m \u001b[0mlist\u001b[0m\u001b[0;34m)\u001b[0m\u001b[0;34m:\u001b[0m\u001b[0;34m\u001b[0m\u001b[0;34m\u001b[0m\u001b[0m\n\u001b[1;32m    365\u001b[0m           \u001b[0mbatch_outs\u001b[0m \u001b[0;34m=\u001b[0m \u001b[0;34m[\u001b[0m\u001b[0mbatch_outs\u001b[0m\u001b[0;34m]\u001b[0m\u001b[0;34m\u001b[0m\u001b[0;34m\u001b[0m\u001b[0m\n",
      "\u001b[0;32m~/Desktop/Programs/Virtual Environments/spectra-ml-env/lib/python3.7/site-packages/tensorflow/python/keras/backend.py\u001b[0m in \u001b[0;36m__call__\u001b[0;34m(self, inputs)\u001b[0m\n\u001b[1;32m   3290\u001b[0m \u001b[0;34m\u001b[0m\u001b[0m\n\u001b[1;32m   3291\u001b[0m     fetched = self._callable_fn(*array_vals,\n\u001b[0;32m-> 3292\u001b[0;31m                                 run_metadata=self.run_metadata)\n\u001b[0m\u001b[1;32m   3293\u001b[0m     \u001b[0mself\u001b[0m\u001b[0;34m.\u001b[0m\u001b[0m_call_fetch_callbacks\u001b[0m\u001b[0;34m(\u001b[0m\u001b[0mfetched\u001b[0m\u001b[0;34m[\u001b[0m\u001b[0;34m-\u001b[0m\u001b[0mlen\u001b[0m\u001b[0;34m(\u001b[0m\u001b[0mself\u001b[0m\u001b[0;34m.\u001b[0m\u001b[0m_fetches\u001b[0m\u001b[0;34m)\u001b[0m\u001b[0;34m:\u001b[0m\u001b[0;34m]\u001b[0m\u001b[0;34m)\u001b[0m\u001b[0;34m\u001b[0m\u001b[0;34m\u001b[0m\u001b[0m\n\u001b[1;32m   3294\u001b[0m     output_structure = nest.pack_sequence_as(\n",
      "\u001b[0;32m~/Desktop/Programs/Virtual Environments/spectra-ml-env/lib/python3.7/site-packages/tensorflow/python/client/session.py\u001b[0m in \u001b[0;36m__call__\u001b[0;34m(self, *args, **kwargs)\u001b[0m\n\u001b[1;32m   1456\u001b[0m         ret = tf_session.TF_SessionRunCallable(self._session._session,\n\u001b[1;32m   1457\u001b[0m                                                \u001b[0mself\u001b[0m\u001b[0;34m.\u001b[0m\u001b[0m_handle\u001b[0m\u001b[0;34m,\u001b[0m \u001b[0margs\u001b[0m\u001b[0;34m,\u001b[0m\u001b[0;34m\u001b[0m\u001b[0;34m\u001b[0m\u001b[0m\n\u001b[0;32m-> 1458\u001b[0;31m                                                run_metadata_ptr)\n\u001b[0m\u001b[1;32m   1459\u001b[0m         \u001b[0;32mif\u001b[0m \u001b[0mrun_metadata\u001b[0m\u001b[0;34m:\u001b[0m\u001b[0;34m\u001b[0m\u001b[0;34m\u001b[0m\u001b[0m\n\u001b[1;32m   1460\u001b[0m           \u001b[0mproto_data\u001b[0m \u001b[0;34m=\u001b[0m \u001b[0mtf_session\u001b[0m\u001b[0;34m.\u001b[0m\u001b[0mTF_GetBuffer\u001b[0m\u001b[0;34m(\u001b[0m\u001b[0mrun_metadata_ptr\u001b[0m\u001b[0;34m)\u001b[0m\u001b[0;34m\u001b[0m\u001b[0;34m\u001b[0m\u001b[0m\n",
      "\u001b[0;31mKeyboardInterrupt\u001b[0m: "
     ]
    }
   ],
   "source": [
    "fi = open(\"indices.txt\", \"r\")\n",
    "num_runs = int(fi.readline())\n",
    "num_minerals = int(fi.readline())\n",
    "\n",
    "stats = []\n",
    "\n",
    "init_time = time.time()\n",
    "\n",
    "for i in range(1):\n",
    "    train_set_indices = ast.literal_eval(fi.readline())\n",
    "    test_set_indices = ast.literal_eval(fi.readline())\n",
    "    dev_set_indices = ast.literal_eval(fi.readline())\n",
    "\n",
    "    for j in train_set_indices:\n",
    "        j = int(j)\n",
    "    for k in test_set_indices:\n",
    "        k = int(k)\n",
    "    for m in dev_set_indices:\n",
    "        m = int(m)\n",
    "        \n",
    "#     print(train_set_indices)\n",
    "#     print(test_set_indices)\n",
    "#     print(dev_set_indices)\n",
    "    \n",
    "    train_set = spectra[train_set_indices, :]\n",
    "#     train_labels = y[train_set_indices, :]\n",
    "    dev_set = spectra[dev_set_indices, :]\n",
    "#     dev_labels = y[dev_set_indices, :]\n",
    "    test_set = spectra[test_set_indices, :]\n",
    "#     test_labels = y[test_set_indices, :]\n",
    "\n",
    "#     train_labels = to_categorical(train_labels)\n",
    "#     dev_labels = to_categorical(dev_labels)\n",
    "#     test_labels = to_categorical(test_labels) # take apart the input and the output\n",
    "    \n",
    "    train_labels = y_cat[train_set_indices, :]\n",
    "    dev_labels = y_cat[dev_set_indices, :]\n",
    "    test_labels = y_cat[test_set_indices, :]\n",
    "    \n",
    "    model = Sequential()\n",
    "    #add model layers\n",
    "    model.add(Conv2D(96, kernel_size=11, strides=(2,2), activation='relu', input_shape=(spectra.shape[1],spectra.shape[2], 1))) # finer features at the first layer\n",
    "    model.add(MaxPooling2D(pool_size=(2, 2)))\n",
    "    model.add(Conv2D(128, kernel_size=5, activation='relu')) # larger features at later layer\n",
    "    model.add(MaxPooling2D(pool_size=(2, 2)))\n",
    "#     model.add(ZeroPadding2D(1, 1))\n",
    "    model.add(Conv2D(384, kernel_size=3, activation='relu'))\n",
    "#     model.add(ZeroPadding2D(1, 1))\n",
    "    model.add(Conv2D(192, kernel_size=3, activation='relu'))\n",
    "#     model.add(ZeroPadding2D(1, 1))\n",
    "    model.add(Conv2D(128, kernel_size=3, activation='relu'))\n",
    "    model.add(MaxPooling2D(pool_size=(2, 2)))\n",
    "    model.add(GlobalAveragePooling2D())\n",
    "    \n",
    "#     model.add(Conv2D(32, kernel_size=3, activation='relu'))\n",
    "#     model.add(Flatten())\n",
    "#     model.add(Dense(num_minerals*5, activation='softmax'))\n",
    "#     model.add(Flatten())\n",
    "    model.add(Dense(num_minerals*500, activation='relu'))\n",
    "    model.add(Dropout(0.5))\n",
    "    model.add(Dense(num_minerals*500, activation='relu'))\n",
    "    model.add(Dropout(0.5))\n",
    "    model.add(Dense(num_minerals, activation='softmax'))\n",
    "    model.summary()\n",
    "    \n",
    "    flatten_ind = 12\n",
    "    \n",
    "    model.compile(optimizer='adam', loss='categorical_crossentropy', metrics=['accuracy'])\n",
    "    \n",
    "    BATCH_SIZE = 32\n",
    "    EPOCHS = 25\n",
    "    \n",
    "    model.fit(train_set, train_labels, batch_size=BATCH_SIZE, epochs=EPOCHS, verbose=2, validation_data=(dev_set, dev_labels))\n",
    "    \n",
    "    FC_layer_model = Model(inputs=model.input, outputs=model.get_layer(index=flatten_ind).output)\n",
    "#     FC_layer_model.summary()\n",
    "#     print(model.input.shape)\n",
    "#     print(model.get_layer(index=flatten_ind).output.shape)\n",
    "    \n",
    "    features = np.zeros(shape = (train_set.shape[0], model.layers[flatten_ind].output.shape[1]))\n",
    "#     print(features.shape)\n",
    "    for p in range(train_set.shape[0]):\n",
    "        spectra_in = train_set[p]\n",
    "        spectra_in = np.expand_dims(spectra_in, axis=0)\n",
    "        FC_output = FC_layer_model.predict(spectra_in)\n",
    "#         print(FC_output.shape)\n",
    "        features[p] = FC_output\n",
    "    \n",
    "    feature_col = []\n",
    "    for p in range(model.layers[flatten_ind].output.shape[1]):\n",
    "        feature_col.append(\"f_\" + str(p))\n",
    "    \n",
    "    train_features = pd.DataFrame(data = features, columns = feature_col)\n",
    "    feature_col = np.array(feature_col)\n",
    "    \n",
    "    train_label_ids = y[train_set_indices, :]\n",
    "    train_class = list(np.unique(train_label_ids))\n",
    "#     print('Training Features Shape:', train_features.shape)\n",
    "#     print('Training Labels Shape:', train_label_ids.shape)\n",
    "    \n",
    "#     my_list = model.evaluate(test_set, test_labels, verbose=0)\n",
    "    \n",
    "#     stats.append(my_list[1])\n",
    "    \n",
    "#     print(model.layers[2].input)\n",
    "#     print(model.layers[2].output.shape[1])\n",
    "\n",
    "    clf = RandomForestClassifier(n_estimators=100, bootstrap=True, criterion='entropy')\n",
    "    \n",
    "#     # clf.fit(train_set, train_labels)\n",
    "    clf.fit(train_features, train_label_ids)\n",
    "    \n",
    "    features_test = np.zeros(shape = (test_set.shape[0], model.layers[flatten_ind].output.shape[1]))\n",
    "    for p in range(test_set.shape[0]):\n",
    "        spectra_in = test_set[p]\n",
    "        spectra_in = np.expand_dims(spectra_in, axis=0)\n",
    "        FC_output = FC_layer_model.predict(spectra_in)\n",
    "        features_test[p] = FC_output\n",
    "    \n",
    "    test_features = pd.DataFrame(data = features_test, columns = feature_col)\n",
    "    feature_col = np.array(feature_col)\n",
    "    \n",
    "    test_label_ids = y[test_set_indices, :]\n",
    "    test_class = list(np.unique(test_label_ids))\n",
    "#     print('Test Features Shape:', test_features.shape)\n",
    "#     print('Test Labels Shape:', test_label_ids.shape)\n",
    "    \n",
    "    predictions = clf.predict(test_features)\n",
    "    \n",
    "#     accuracy=accuracy_score(predictions , test_label_ids)\n",
    "#     print('Accuracy:', accuracy*100, '%.')\n",
    "#     # preds = clf.predict(test_set)\n",
    "#     # print(\"Accuracy:\", accuracy_score(test_labels, preds))\n",
    "#     preds = clf.predict(test_set)\n",
    "# #     print(\"Accuracy:\", accuracy_score(y_test, preds))\n",
    "    stats.append(accuracy_score(predictions, test_label_ids))\n",
    "\n",
    "print(\"2D CNN + RF Results:\", st.describe(stats))\n",
    "total_seconds = time.time() - init_time\n",
    "print(total_seconds)"
   ]
  },
  {
   "cell_type": "code",
   "execution_count": 18,
   "metadata": {},
   "outputs": [
    {
     "data": {
      "text/plain": [
       "[0.9052822028889376, 0.6764706]"
      ]
     },
     "execution_count": 18,
     "metadata": {},
     "output_type": "execute_result"
    }
   ],
   "source": [
    "model.evaluate(test_set, test_labels, verbose=0)"
   ]
  },
  {
   "cell_type": "code",
   "execution_count": null,
   "metadata": {},
   "outputs": [],
   "source": []
  }
 ],
 "metadata": {
  "kernelspec": {
   "display_name": "Python 3",
   "language": "python",
   "name": "python3"
  },
  "language_info": {
   "codemirror_mode": {
    "name": "ipython",
    "version": 3
   },
   "file_extension": ".py",
   "mimetype": "text/x-python",
   "name": "python",
   "nbconvert_exporter": "python",
   "pygments_lexer": "ipython3",
   "version": "3.7.3"
  }
 },
 "nbformat": 4,
 "nbformat_minor": 2
}
