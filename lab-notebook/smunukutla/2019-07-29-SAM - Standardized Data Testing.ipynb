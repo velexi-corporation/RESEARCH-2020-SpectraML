{
 "cells": [
  {
   "cell_type": "code",
   "execution_count": 1,
   "metadata": {},
   "outputs": [],
   "source": [
    "# environment set up\n",
    "import tensorflow as tf\n",
    "import tensorflow.keras\n",
    "from tensorflow.keras.models import Sequential\n",
    "from tensorflow.keras.layers import Reshape, Conv1D, MaxPooling1D, Flatten, Dense, Dropout\n",
    "from tensorflow.keras.utils import to_categorical\n",
    "import tensorflow as tf # only use tensorflow keras\n",
    "import numpy as np\n",
    "import matplotlib.pyplot as plt\n",
    "import os\n",
    "import random\n",
    "import pandas as pd\n",
    "\n",
    "# working folder\n",
    "# directory = \"/Users/Srikar/Desktop/Velexi/spectra-ml/data\"\n",
    "directory = os.environ['DATA_DIR']\n",
    "os.chdir(directory)\n",
    "\n",
    "# print(os.getcwd())"
   ]
  },
  {
   "cell_type": "code",
   "execution_count": 4,
   "metadata": {},
   "outputs": [
    {
     "data": {
      "text/html": [
       "<div>\n",
       "<style scoped>\n",
       "    .dataframe tbody tr th:only-of-type {\n",
       "        vertical-align: middle;\n",
       "    }\n",
       "\n",
       "    .dataframe tbody tr th {\n",
       "        vertical-align: top;\n",
       "    }\n",
       "\n",
       "    .dataframe thead th {\n",
       "        text-align: right;\n",
       "    }\n",
       "</style>\n",
       "<table border=\"1\" class=\"dataframe\">\n",
       "  <thead>\n",
       "    <tr style=\"text-align: right;\">\n",
       "      <th></th>\n",
       "      <th>spectrum_id</th>\n",
       "      <th>value_type</th>\n",
       "      <th>material</th>\n",
       "      <th>spectrometer_purity_code</th>\n",
       "      <th>measurement_type</th>\n",
       "      <th>raw_data_path</th>\n",
       "    </tr>\n",
       "  </thead>\n",
       "  <tbody>\n",
       "    <tr>\n",
       "      <th>0</th>\n",
       "      <td>23077</td>\n",
       "      <td>reflectance</td>\n",
       "      <td>Rangeland C03-022 S12% G22%</td>\n",
       "      <td>ASDFRa</td>\n",
       "      <td>AREF</td>\n",
       "      <td>ChapterV_Vegetation/splib07a_Rangeland_C03-022...</td>\n",
       "    </tr>\n",
       "    <tr>\n",
       "      <th>1</th>\n",
       "      <td>22344</td>\n",
       "      <td>reflectance</td>\n",
       "      <td>Marsh SPAL92%...a CRMS322v78</td>\n",
       "      <td>ASDFRa</td>\n",
       "      <td>AREF</td>\n",
       "      <td>ChapterV_Vegetation/splib07a_Marsh_SPAL92%...a...</td>\n",
       "    </tr>\n",
       "    <tr>\n",
       "      <th>2</th>\n",
       "      <td>22136</td>\n",
       "      <td>reflectance</td>\n",
       "      <td>Tumbleweed ANP92-2C Dry</td>\n",
       "      <td>BECKa</td>\n",
       "      <td>AREF</td>\n",
       "      <td>ChapterV_Vegetation/splib07a_Tumbleweed_ANP92-...</td>\n",
       "    </tr>\n",
       "    <tr>\n",
       "      <th>3</th>\n",
       "      <td>24017</td>\n",
       "      <td>reflectance</td>\n",
       "      <td>Rangeland L02-069 S00% G99%</td>\n",
       "      <td>ASDFRa</td>\n",
       "      <td>AREF</td>\n",
       "      <td>ChapterV_Vegetation/splib07a_Rangeland_L02-069...</td>\n",
       "    </tr>\n",
       "    <tr>\n",
       "      <th>4</th>\n",
       "      <td>21060</td>\n",
       "      <td>reflectance</td>\n",
       "      <td>Douglas-Fir YNP-DF-1 forest</td>\n",
       "      <td>AVIRISb</td>\n",
       "      <td>RTGC</td>\n",
       "      <td>ChapterV_Vegetation/splib07a_Douglas-Fir_YNP-D...</td>\n",
       "    </tr>\n",
       "  </tbody>\n",
       "</table>\n",
       "</div>"
      ],
      "text/plain": [
       "   spectrum_id   value_type                      material  \\\n",
       "0        23077  reflectance   Rangeland C03-022 S12% G22%   \n",
       "1        22344  reflectance  Marsh SPAL92%...a CRMS322v78   \n",
       "2        22136  reflectance       Tumbleweed ANP92-2C Dry   \n",
       "3        24017  reflectance   Rangeland L02-069 S00% G99%   \n",
       "4        21060  reflectance   Douglas-Fir YNP-DF-1 forest   \n",
       "\n",
       "  spectrometer_purity_code measurement_type  \\\n",
       "0                   ASDFRa             AREF   \n",
       "1                   ASDFRa             AREF   \n",
       "2                    BECKa             AREF   \n",
       "3                   ASDFRa             AREF   \n",
       "4                  AVIRISb             RTGC   \n",
       "\n",
       "                                       raw_data_path  \n",
       "0  ChapterV_Vegetation/splib07a_Rangeland_C03-022...  \n",
       "1  ChapterV_Vegetation/splib07a_Marsh_SPAL92%...a...  \n",
       "2  ChapterV_Vegetation/splib07a_Tumbleweed_ANP92-...  \n",
       "3  ChapterV_Vegetation/splib07a_Rangeland_L02-069...  \n",
       "4  ChapterV_Vegetation/splib07a_Douglas-Fir_YNP-D...  "
      ]
     },
     "execution_count": 4,
     "metadata": {},
     "output_type": "execute_result"
    }
   ],
   "source": [
    "stddata_path = os.path.join(directory,\"Srikar-Standardized\")\n",
    "metadata = pd.read_csv(os.path.join(stddata_path,\"spectra-metadata.csv\"), sep=\"|\")\n",
    "metadata.head()"
   ]
  },
  {
   "cell_type": "code",
   "execution_count": 5,
   "metadata": {},
   "outputs": [
    {
     "data": {
      "text/plain": [
       "'errorbar'"
      ]
     },
     "execution_count": 5,
     "metadata": {},
     "output_type": "execute_result"
    }
   ],
   "source": [
    "metadata.iloc[327, 1]"
   ]
  },
  {
   "cell_type": "code",
   "execution_count": 6,
   "metadata": {},
   "outputs": [
    {
     "data": {
      "text/plain": [
       "(2488, 6)"
      ]
     },
     "execution_count": 6,
     "metadata": {},
     "output_type": "execute_result"
    }
   ],
   "source": [
    "# metadata.columns\n",
    "metadata = metadata[~metadata['spectrometer_purity_code'].str.contains(\"NIC4\")]\n",
    "# ~metadata['spectrometer_purity_code'].str.contains(\"NIC4\")\n",
    "metadata.shape"
   ]
  },
  {
   "cell_type": "code",
   "execution_count": 7,
   "metadata": {},
   "outputs": [
    {
     "name": "stdout",
     "output_type": "stream",
     "text": [
      "AVIRISb 21060 Douglas-Fir YNP-DF-1 forest\n",
      "AVIRISb 21098 Espruce-Sfir YNP-SF-5 forst\n",
      "AVIRISb 21594 Lodgepole-Pine YNP-LP1-A\n",
      "AVIRISb 21629 Lodgepole-Pine YNP-LP3-B\n",
      "ASDFRa 20883 Aspen Aspen-3 yellowGreenTop\n",
      "AVIRISb 22162 WhitebarkPine YNP-WB-2 frst\n",
      "AVIRISb 22072 Sagebrush YNP-SS-1\n",
      "AVIRISb 21085 Espruce-Sfir YNP-SF-2 forst\n",
      "AVIRISb 21081 Espruce-Sfir YNP-SF-1 forst\n",
      "ASDFRa 20892 Aspen Aspen-4 yellow-top\n",
      "AVIRISb 21614 Lodgepole-Pine YNP-LP2-A\n",
      "AVIRISb 21579 Lodgepole-Pine YNP-LP\n",
      "AVIRISb 22098 Sedge YNP-SE-1\n",
      "AVIRISb 21228 Grass-FescueWheatg YNP-FW-1\n",
      "AVIRISb 22150 Wetland YNP-WT-1\n",
      "AVIRISb 21046 Conifer-Meadow-Mix YNP-CM-1\n",
      "AVIRISb 22175 Willow YNP-WI-1\n",
      "AVIRISb 20915 Aspen YNP-AS-1 forest\n",
      "AVIRISb 22179 Willow-Sedge-Mix YNP-WS-1\n",
      "AVIRISb 21089 Espruce-Sfir YNP-SF-3 forst\n",
      "AVIRISb 21609 Lodgepole-Pine YNP-LP1-D\n",
      "AVIRISb 21064 Douglas-Fir YNP-DF-2 forest\n",
      "AVIRISb 21093 Espruce-Sfir YNP-SF-4 forst\n",
      "AVIRISb 22087 Sagebrush YNP-SS-4\n",
      "ASDFRa 21837 P.australis CRMS-0153 dryNPV\n",
      "AVIRISb 22154 Wetland YNP-WT-2\n",
      "ASDFRa 20985 Cactus Opuntia-1 purple_pad\n",
      "AVIRISb 22082 Sagebrush YNP-SS-3\n",
      "AVIRISb 21589 Lodgepole-Pine YNP-LP0-VIG\n",
      "AVIRISb 21604 Lodgepole-Pine YNP-LP1-C\n",
      "AVIRISb 21233 Grass-FescueWheatg YNP-FW-2\n",
      "ASDFRa 20874 Aspen Aspen-2 green-bottom\n",
      "AVIRISb 21242 Grass-Smoothbrome YNP-SB-1\n",
      "AVIRISb 21223 Grass-FescueNeedlg YNP-FN-1\n",
      "AVIRISb 22158 WhitebarkPine YNP-WB-1 frst\n",
      "AVIRISb 21068 Douglas-Fir YNP-DF-3 forest\n",
      "AVIRISb 21238 Grass-FescueWheatg YNP-FW-3\n",
      "AVIRISb 21599 Lodgepole-Pine YNP-LP1-B\n",
      "AVIRISb 21624 Lodgepole-Pine YNP-LP3-A\n",
      "AVIRISb 21584 Lodgepole-Pine YNP-LP0-MOD\n",
      "AVIRISb 22077 Sagebrush YNP-SS-2\n",
      "AVIRISb 20994 Cattail YNP-CT-1\n",
      "ASDFRa 20865 Aspen Aspen-1 green-top\n",
      "AVIRISb 21619 Lodgepole-Pine YNP-LP2-B\n",
      "BECKa 12073 Calcite.80wt+Kaol_CM9 GDS213\n",
      "BECKa 12056 Calcite.80+Mont_Swy-1 GDS212\n",
      "BECKa 13510 H2O-Ice GDS136 77K\n",
      "ASDFRb 8927 Psilomelane HS139.1B\n",
      "ASDFRb 8962 Psilomelane HS139.4B\n",
      "BECKa 6792 Mascagnite GDS65.b (fr)\n",
      "ASDFRb 8943 Psilomelane HS139.3B\n",
      "ASDFRb 8933 Psilomelane HS139.2B\n",
      "BECKa 18960 Montmorill+Unleaded_Gas SWy\n",
      "BECKa 18945 Montmorill+TCE SWy saturated\n",
      "BECKa 18940 Montmorill+Benzene SWy 1ml\n",
      "BECKa 18955 Montmorill+Trichlor SWy 1ml\n",
      "BECKa 18950 Montmorill+Toluene SWy .5ml\n",
      "57\n"
     ]
    }
   ],
   "source": [
    "x = 0\n",
    "for i in range(metadata.shape[0]):\n",
    "    if metadata.iloc[i, 1] == 'reflectance':\n",
    "        spectrum = pd.read_csv(os.path.join(stddata_path,\"{}.csv\".format(metadata.iloc[i, 0])))\n",
    "        for j in range(spectrum.shape[0]):\n",
    "            if np.isnan(spectrum.iloc[j, 1]):\n",
    "                print(str(metadata.iloc[i, 3]) + \" \" + str(metadata.iloc[i, 0]) + \" \" + str(metadata.iloc[i, 2]))\n",
    "                x += 1\n",
    "                break\n",
    "\n",
    "print(x)"
   ]
  },
  {
   "cell_type": "code",
   "execution_count": 8,
   "metadata": {},
   "outputs": [
    {
     "name": "stdout",
     "output_type": "stream",
     "text": [
      "0\n"
     ]
    }
   ],
   "source": [
    "num_nic = 0\n",
    "for i in range(metadata.shape[0]):\n",
    "    if metadata.iloc[i, 3].find(\"NIC\") != -1:\n",
    "        num_nic += 1\n",
    "\n",
    "print(num_nic)"
   ]
  },
  {
   "cell_type": "code",
   "execution_count": null,
   "metadata": {},
   "outputs": [],
   "source": []
  }
 ],
 "metadata": {
  "kernelspec": {
   "display_name": "Python 3",
   "language": "python",
   "name": "python3"
  },
  "language_info": {
   "codemirror_mode": {
    "name": "ipython",
    "version": 3
   },
   "file_extension": ".py",
   "mimetype": "text/x-python",
   "name": "python",
   "nbconvert_exporter": "python",
   "pygments_lexer": "ipython3",
   "version": "3.7.3"
  }
 },
 "nbformat": 4,
 "nbformat_minor": 2
}
