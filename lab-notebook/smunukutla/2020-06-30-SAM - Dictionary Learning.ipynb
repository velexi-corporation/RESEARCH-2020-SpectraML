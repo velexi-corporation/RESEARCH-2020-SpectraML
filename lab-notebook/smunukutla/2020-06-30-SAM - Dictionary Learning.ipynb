{
 "cells": [
  {
   "cell_type": "code",
   "execution_count": 1,
   "metadata": {},
   "outputs": [],
   "source": [
    "# environment set up\n",
    "import tensorflow as tf\n",
    "import tensorflow.keras\n",
    "from tensorflow.keras.models import Sequential\n",
    "from tensorflow.keras.layers import Dense\n",
    "from tensorflow.keras.utils import to_categorical\n",
    "import numpy as np\n",
    "import matplotlib.pyplot as plt\n",
    "import os\n",
    "import random\n",
    "import pandas as pd\n",
    "import time\n",
    "import ast\n",
    "from scipy import stats as st"
   ]
  },
  {
   "cell_type": "code",
   "execution_count": 2,
   "metadata": {},
   "outputs": [],
   "source": [
    "spectrum_len = 500 # automate this\n",
    "\n",
    "parent_dir = os.environ['PWD']\n",
    "data_dir = os.environ['DATA_DIR']\n",
    "stddata_path = os.path.join(data_dir, \"StdData-\" + str(spectrum_len))\n",
    "\n",
    "os.chdir(os.path.join(parent_dir, \"lab-notebook\", \"smunukutla\"))"
   ]
  },
  {
   "cell_type": "code",
   "execution_count": 3,
   "metadata": {},
   "outputs": [],
   "source": [
    "data = pd.read_csv(\"data.csv\", sep=\",\")\n",
    "record_nums = data.iloc[0, :].tolist()\n",
    "spectrum_names = data.iloc[1, :].tolist()\n",
    "y = data.iloc[2, :].astype(int).tolist()\n",
    "y = np.reshape(y, (len(y), 1))\n",
    "num_samples = len(y)"
   ]
  },
  {
   "cell_type": "code",
   "execution_count": 4,
   "metadata": {},
   "outputs": [
    {
     "data": {
      "text/plain": [
       "166"
      ]
     },
     "execution_count": 4,
     "metadata": {},
     "output_type": "execute_result"
    }
   ],
   "source": [
    "num_samples"
   ]
  },
  {
   "cell_type": "code",
   "execution_count": 5,
   "metadata": {},
   "outputs": [
    {
     "data": {
      "text/html": [
       "<div>\n",
       "<style scoped>\n",
       "    .dataframe tbody tr th:only-of-type {\n",
       "        vertical-align: middle;\n",
       "    }\n",
       "\n",
       "    .dataframe tbody tr th {\n",
       "        vertical-align: top;\n",
       "    }\n",
       "\n",
       "    .dataframe thead th {\n",
       "        text-align: right;\n",
       "    }\n",
       "</style>\n",
       "<table border=\"1\" class=\"dataframe\">\n",
       "  <thead>\n",
       "    <tr style=\"text-align: right;\">\n",
       "      <th></th>\n",
       "      <th>0</th>\n",
       "      <th>1</th>\n",
       "      <th>2</th>\n",
       "      <th>3</th>\n",
       "      <th>4</th>\n",
       "      <th>5</th>\n",
       "      <th>6</th>\n",
       "      <th>7</th>\n",
       "      <th>8</th>\n",
       "      <th>9</th>\n",
       "      <th>...</th>\n",
       "      <th>156</th>\n",
       "      <th>157</th>\n",
       "      <th>158</th>\n",
       "      <th>159</th>\n",
       "      <th>160</th>\n",
       "      <th>161</th>\n",
       "      <th>162</th>\n",
       "      <th>163</th>\n",
       "      <th>164</th>\n",
       "      <th>165</th>\n",
       "    </tr>\n",
       "  </thead>\n",
       "  <tbody>\n",
       "    <tr>\n",
       "      <th>0</th>\n",
       "      <td>00108</td>\n",
       "      <td>00114</td>\n",
       "      <td>00120</td>\n",
       "      <td>00124</td>\n",
       "      <td>00130</td>\n",
       "      <td>00142</td>\n",
       "      <td>00148</td>\n",
       "      <td>00154</td>\n",
       "      <td>00158</td>\n",
       "      <td>00177</td>\n",
       "      <td>...</td>\n",
       "      <td>10896</td>\n",
       "      <td>10917</td>\n",
       "      <td>10938</td>\n",
       "      <td>10946</td>\n",
       "      <td>10967</td>\n",
       "      <td>10988</td>\n",
       "      <td>11009</td>\n",
       "      <td>11030</td>\n",
       "      <td>11051</td>\n",
       "      <td>11072</td>\n",
       "    </tr>\n",
       "    <tr>\n",
       "      <th>1</th>\n",
       "      <td>Actinolite</td>\n",
       "      <td>Actinolite</td>\n",
       "      <td>Actinolite</td>\n",
       "      <td>Actinolite</td>\n",
       "      <td>Actinolite</td>\n",
       "      <td>Actinolite</td>\n",
       "      <td>Actinolite</td>\n",
       "      <td>Actinolite</td>\n",
       "      <td>Actinolite</td>\n",
       "      <td>Actinolite</td>\n",
       "      <td>...</td>\n",
       "      <td>Topaz</td>\n",
       "      <td>Topaz</td>\n",
       "      <td>Topaz</td>\n",
       "      <td>Topaz</td>\n",
       "      <td>Topaz</td>\n",
       "      <td>Topaz</td>\n",
       "      <td>Topaz</td>\n",
       "      <td>Topaz</td>\n",
       "      <td>Topaz</td>\n",
       "      <td>Topaz</td>\n",
       "    </tr>\n",
       "    <tr>\n",
       "      <th>2</th>\n",
       "      <td>4</td>\n",
       "      <td>4</td>\n",
       "      <td>4</td>\n",
       "      <td>4</td>\n",
       "      <td>4</td>\n",
       "      <td>4</td>\n",
       "      <td>4</td>\n",
       "      <td>4</td>\n",
       "      <td>4</td>\n",
       "      <td>4</td>\n",
       "      <td>...</td>\n",
       "      <td>0</td>\n",
       "      <td>0</td>\n",
       "      <td>0</td>\n",
       "      <td>0</td>\n",
       "      <td>0</td>\n",
       "      <td>0</td>\n",
       "      <td>0</td>\n",
       "      <td>0</td>\n",
       "      <td>0</td>\n",
       "      <td>0</td>\n",
       "    </tr>\n",
       "  </tbody>\n",
       "</table>\n",
       "<p>3 rows × 166 columns</p>\n",
       "</div>"
      ],
      "text/plain": [
       "            0           1           2           3           4           5  \\\n",
       "0       00108       00114       00120       00124       00130       00142   \n",
       "1  Actinolite  Actinolite  Actinolite  Actinolite  Actinolite  Actinolite   \n",
       "2           4           4           4           4           4           4   \n",
       "\n",
       "            6           7           8           9  ...    156    157    158  \\\n",
       "0       00148       00154       00158       00177  ...  10896  10917  10938   \n",
       "1  Actinolite  Actinolite  Actinolite  Actinolite  ...  Topaz  Topaz  Topaz   \n",
       "2           4           4           4           4  ...      0      0      0   \n",
       "\n",
       "     159    160    161    162    163    164    165  \n",
       "0  10946  10967  10988  11009  11030  11051  11072  \n",
       "1  Topaz  Topaz  Topaz  Topaz  Topaz  Topaz  Topaz  \n",
       "2      0      0      0      0      0      0      0  \n",
       "\n",
       "[3 rows x 166 columns]"
      ]
     },
     "execution_count": 5,
     "metadata": {},
     "output_type": "execute_result"
    }
   ],
   "source": [
    "data"
   ]
  },
  {
   "cell_type": "code",
   "execution_count": 6,
   "metadata": {},
   "outputs": [],
   "source": [
    "spectra = np.zeros((num_samples,spectrum_len))\n",
    "wavelengths = np.zeros((1,spectrum_len))"
   ]
  },
  {
   "cell_type": "code",
   "execution_count": 7,
   "metadata": {},
   "outputs": [],
   "source": [
    "for i in range(len(record_nums)):\n",
    "    data = pd.read_csv(os.path.join(stddata_path,\"{}.csv\".format(record_nums[i])))\n",
    "    if i == 0:\n",
    "        wavelengths[i,:] = data.iloc[:, 0].to_numpy()\n",
    "    spectra[i,:] = data.iloc[:, 1].to_numpy()"
   ]
  },
  {
   "cell_type": "code",
   "execution_count": 8,
   "metadata": {},
   "outputs": [
    {
     "data": {
      "text/plain": [
       "numpy.ndarray"
      ]
     },
     "execution_count": 8,
     "metadata": {},
     "output_type": "execute_result"
    }
   ],
   "source": [
    "type(spectra)"
   ]
  },
  {
   "cell_type": "code",
   "execution_count": 9,
   "metadata": {},
   "outputs": [],
   "source": [
    "y_cat = to_categorical(y)"
   ]
  },
  {
   "cell_type": "code",
   "execution_count": 10,
   "metadata": {},
   "outputs": [
    {
     "data": {
      "text/html": [
       "<div>\n",
       "<style scoped>\n",
       "    .dataframe tbody tr th:only-of-type {\n",
       "        vertical-align: middle;\n",
       "    }\n",
       "\n",
       "    .dataframe tbody tr th {\n",
       "        vertical-align: top;\n",
       "    }\n",
       "\n",
       "    .dataframe thead th {\n",
       "        text-align: right;\n",
       "    }\n",
       "</style>\n",
       "<table border=\"1\" class=\"dataframe\">\n",
       "  <thead>\n",
       "    <tr style=\"text-align: right;\">\n",
       "      <th></th>\n",
       "      <th>wavelength</th>\n",
       "      <th>reflectance</th>\n",
       "    </tr>\n",
       "  </thead>\n",
       "  <tbody>\n",
       "    <tr>\n",
       "      <th>0</th>\n",
       "      <td>0.370000</td>\n",
       "      <td>0.878464</td>\n",
       "    </tr>\n",
       "    <tr>\n",
       "      <th>1</th>\n",
       "      <td>0.374269</td>\n",
       "      <td>0.878143</td>\n",
       "    </tr>\n",
       "    <tr>\n",
       "      <th>2</th>\n",
       "      <td>0.378537</td>\n",
       "      <td>0.875394</td>\n",
       "    </tr>\n",
       "    <tr>\n",
       "      <th>3</th>\n",
       "      <td>0.382806</td>\n",
       "      <td>0.877019</td>\n",
       "    </tr>\n",
       "    <tr>\n",
       "      <th>4</th>\n",
       "      <td>0.387074</td>\n",
       "      <td>0.878757</td>\n",
       "    </tr>\n",
       "  </tbody>\n",
       "</table>\n",
       "</div>"
      ],
      "text/plain": [
       "   wavelength  reflectance\n",
       "0    0.370000     0.878464\n",
       "1    0.374269     0.878143\n",
       "2    0.378537     0.875394\n",
       "3    0.382806     0.877019\n",
       "4    0.387074     0.878757"
      ]
     },
     "execution_count": 10,
     "metadata": {},
     "output_type": "execute_result"
    }
   ],
   "source": [
    "data.head(5)"
   ]
  },
  {
   "cell_type": "code",
   "execution_count": 11,
   "metadata": {},
   "outputs": [
    {
     "data": {
      "text/plain": [
       "(166, 500)"
      ]
     },
     "execution_count": 11,
     "metadata": {},
     "output_type": "execute_result"
    }
   ],
   "source": [
    "spectra.shape"
   ]
  },
  {
   "cell_type": "code",
   "execution_count": 12,
   "metadata": {},
   "outputs": [
    {
     "data": {
      "text/plain": [
       "array([[0.36625177, 0.37408954, 0.38041823, ..., 0.69747148, 0.69613203,\n",
       "        0.69590056],\n",
       "       [0.22933248, 0.23542408, 0.24072858, ..., 0.57995432, 0.57845447,\n",
       "        0.58057582],\n",
       "       [0.10552621, 0.10864627, 0.11163579, ..., 0.3127732 , 0.31293405,\n",
       "        0.31438494],\n",
       "       ...,\n",
       "       [0.84827669, 0.8483359 , 0.84993451, ..., 0.73254605, 0.72484708,\n",
       "        0.71382553],\n",
       "       [0.88008486, 0.88482508, 0.88539167, ..., 0.75476558, 0.74785095,\n",
       "        0.7386977 ],\n",
       "       [0.87846376, 0.87814294, 0.87539409, ..., 0.7541015 , 0.74652251,\n",
       "        0.73594507]])"
      ]
     },
     "execution_count": 12,
     "metadata": {},
     "output_type": "execute_result"
    }
   ],
   "source": [
    "spectra"
   ]
  },
  {
   "cell_type": "code",
   "execution_count": 13,
   "metadata": {},
   "outputs": [],
   "source": [
    "y_cat = to_categorical(y)"
   ]
  },
  {
   "cell_type": "code",
   "execution_count": 14,
   "metadata": {},
   "outputs": [],
   "source": [
    "from sklearn.decomposition import DictionaryLearning"
   ]
  },
  {
   "cell_type": "code",
   "execution_count": 15,
   "metadata": {},
   "outputs": [],
   "source": [
    "model = DictionaryLearning(n_components=10, alpha=1, verbose=True)"
   ]
  },
  {
   "cell_type": "code",
   "execution_count": 16,
   "metadata": {},
   "outputs": [
    {
     "name": "stdout",
     "output_type": "stream",
     "text": [
      "[dict_learning] .+.+.+.+.+.+.+.+.+.+.+.+.+.+.+.+.+.+.+.+.+.+.+.+.+.+.+.+.+.+.+.+.+.+.+.+.+.+.+.+.+.+.+.+.+.+.+.+.+.+.+.+.+\n"
     ]
    }
   ],
   "source": [
    "dictionary = model.fit_transform(spectra)"
   ]
  },
  {
   "cell_type": "code",
   "execution_count": 17,
   "metadata": {},
   "outputs": [
    {
     "data": {
      "text/plain": [
       "(166, 10)"
      ]
     },
     "execution_count": 17,
     "metadata": {},
     "output_type": "execute_result"
    }
   ],
   "source": [
    "dictionary.shape"
   ]
  },
  {
   "cell_type": "code",
   "execution_count": 18,
   "metadata": {},
   "outputs": [
    {
     "name": "stdout",
     "output_type": "stream",
     "text": [
      "[[-1.17972858e+01  2.32653972e-01 -2.61306235e+00 ... -1.65366914e+00\n",
      "   4.01819996e-01 -3.12213300e-03]\n",
      " [-7.30556247e+00  1.56569823e-01 -6.45040608e+00 ... -2.01498604e+00\n",
      "   4.79701860e-01  1.10294345e-03]\n",
      " [ 7.11276814e-02  3.64037155e-01 -8.01376695e+00 ... -6.28618076e-01\n",
      "  -2.43643389e-02  3.80093780e-03]\n",
      " ...\n",
      " [-1.29411757e+01 -7.57209280e-01 -1.04831010e+00 ...  1.01923669e+01\n",
      "  -2.04610621e-01 -4.42801050e-03]\n",
      " [-1.35099133e+01 -1.03432893e+00 -1.11055141e+00 ...  9.80639208e+00\n",
      "  -7.76227790e-01  2.76397240e-03]\n",
      " [-1.32591294e+01 -5.80552315e-01  2.26767156e-01 ...  9.79048736e+00\n",
      "   1.22286294e-01 -1.27412074e-03]]\n"
     ]
    }
   ],
   "source": [
    "print(dictionary)"
   ]
  },
  {
   "cell_type": "code",
   "execution_count": 19,
   "metadata": {},
   "outputs": [],
   "source": [
    "model2 = DictionaryLearning(n_components=10, alpha=1, transform_algorithm='threshold', verbose=True)"
   ]
  },
  {
   "cell_type": "code",
   "execution_count": 20,
   "metadata": {},
   "outputs": [
    {
     "name": "stdout",
     "output_type": "stream",
     "text": [
      "[dict_learning] .+.+.+.+.+.+.+.+.+.+.+.+.+.+.+.+.+.+.+.+.+.+.+.+.+.+.+.+.+.+.+.+.+.+.+.+.+.+.+.+.+.+.+.+.+.+.+.+.+.+.+.+.+\n"
     ]
    }
   ],
   "source": [
    "dictionary2 = model2.fit_transform(spectra)"
   ]
  },
  {
   "cell_type": "code",
   "execution_count": 21,
   "metadata": {},
   "outputs": [
    {
     "data": {
      "text/plain": [
       "(166, 10)"
      ]
     },
     "execution_count": 21,
     "metadata": {},
     "output_type": "execute_result"
    }
   ],
   "source": [
    "dictionary2.shape"
   ]
  },
  {
   "cell_type": "code",
   "execution_count": 22,
   "metadata": {},
   "outputs": [
    {
     "name": "stdout",
     "output_type": "stream",
     "text": [
      "[[-13.96702235  11.76187847 -13.5262892  ...  13.69659925  12.32970097\n",
      "    0.        ]\n",
      " [-12.00684005   9.64230327 -12.25027701 ...  11.72398555  11.13384119\n",
      "    0.        ]\n",
      " [ -6.9408455    5.19291353  -7.63619502 ...   6.77768826   6.81191958\n",
      "    0.        ]\n",
      " ...\n",
      " [-19.67534109  17.7134846  -18.04453112 ...  19.60979497  16.09787098\n",
      "    0.        ]\n",
      " [-19.71066981  17.72580689 -18.03078169 ...  19.63619482  16.14339974\n",
      "    0.        ]\n",
      " [-20.3672688   18.42861286 -18.60715792 ...  20.31026363  16.59028884\n",
      "    0.        ]]\n"
     ]
    }
   ],
   "source": [
    "print(dictionary2)"
   ]
  },
  {
   "cell_type": "code",
   "execution_count": 23,
   "metadata": {},
   "outputs": [
    {
     "data": {
      "text/plain": [
       "{'alpha': 1,\n",
       " 'code_init': None,\n",
       " 'dict_init': None,\n",
       " 'fit_algorithm': 'lars',\n",
       " 'max_iter': 1000,\n",
       " 'n_components': 10,\n",
       " 'n_jobs': None,\n",
       " 'positive_code': False,\n",
       " 'positive_dict': False,\n",
       " 'random_state': None,\n",
       " 'split_sign': False,\n",
       " 'tol': 1e-08,\n",
       " 'transform_algorithm': 'omp',\n",
       " 'transform_alpha': None,\n",
       " 'transform_n_nonzero_coefs': None,\n",
       " 'verbose': True}"
      ]
     },
     "execution_count": 23,
     "metadata": {},
     "output_type": "execute_result"
    }
   ],
   "source": [
    "model.get_params()"
   ]
  },
  {
   "cell_type": "code",
   "execution_count": 24,
   "metadata": {},
   "outputs": [
    {
     "name": "stdout",
     "output_type": "stream",
     "text": [
      "[[-0.03576344 -0.03586424 -0.03608334 ... -0.04367278 -0.04356272\n",
      "  -0.04343269]\n",
      " [ 0.02333185  0.02426826  0.02531973 ...  0.0048098   0.0045162\n",
      "   0.00414729]\n",
      " [-0.01466709 -0.01506379 -0.01531206 ... -0.03734992 -0.03729115\n",
      "  -0.03741644]\n",
      " ...\n",
      " [ 0.04298044  0.0432337   0.04325401 ...  0.02180551  0.02105525\n",
      "   0.02026596]\n",
      " [ 0.00781883  0.00835778  0.00902266 ...  0.06802284  0.06813333\n",
      "   0.06787213]\n",
      " [ 0.02854764  0.04207926  0.00236378 ...  0.00237552 -0.02070313\n",
      "   0.07813725]]\n"
     ]
    }
   ],
   "source": [
    "atoms = model.components_\n",
    "print(atoms)"
   ]
  },
  {
   "cell_type": "code",
   "execution_count": 25,
   "metadata": {},
   "outputs": [
    {
     "data": {
      "text/plain": [
       "(10, 500)"
      ]
     },
     "execution_count": 25,
     "metadata": {},
     "output_type": "execute_result"
    }
   ],
   "source": [
    "atoms.shape"
   ]
  },
  {
   "cell_type": "code",
   "execution_count": 26,
   "metadata": {},
   "outputs": [
    {
     "name": "stdout",
     "output_type": "stream",
     "text": [
      "[[-0.03576344 -0.03586424 -0.03608334 ... -0.04367278 -0.04356272\n",
      "  -0.04343269]\n",
      " [ 0.02333185  0.02426826  0.02531973 ...  0.0048098   0.0045162\n",
      "   0.00414729]\n",
      " [-0.01466709 -0.01506379 -0.01531206 ... -0.03734992 -0.03729115\n",
      "  -0.03741644]\n",
      " ...\n",
      " [ 0.04298044  0.0432337   0.04325401 ...  0.02180551  0.02105525\n",
      "   0.02026596]\n",
      " [ 0.00781883  0.00835778  0.00902266 ...  0.06802284  0.06813333\n",
      "   0.06787213]\n",
      " [ 0.03870863 -0.07287656  0.0307702  ...  0.0176361   0.01276883\n",
      "   0.00425772]]\n"
     ]
    }
   ],
   "source": [
    "atoms2 = model2.components_\n",
    "print(atoms2)"
   ]
  },
  {
   "cell_type": "code",
   "execution_count": 27,
   "metadata": {},
   "outputs": [
    {
     "data": {
      "text/plain": [
       "(10, 500)"
      ]
     },
     "execution_count": 27,
     "metadata": {},
     "output_type": "execute_result"
    }
   ],
   "source": [
    "atoms2.shape"
   ]
  },
  {
   "cell_type": "markdown",
   "metadata": {},
   "source": [
    "approximate with the training data\n",
    "run transform on the training data to find the reconstructed spectra\n",
    "\n",
    "166 x 10 X 10 x 500\n",
    "\n",
    "approximation of an integral\n",
    "\n",
    "thresholding is bad to get coefficients\n",
    "\n",
    "use max distance\n",
    "\n",
    "take each row at a time and then take the norm of each\n",
    "\n",
    "L2 norm / number of points\n",
    "\n",
    "model.transform(spectra) is the same thing as dictionary"
   ]
  },
  {
   "cell_type": "code",
   "execution_count": 28,
   "metadata": {},
   "outputs": [],
   "source": [
    "reconstructed_spectra = dictionary.dot(atoms)"
   ]
  },
  {
   "cell_type": "code",
   "execution_count": 29,
   "metadata": {},
   "outputs": [
    {
     "data": {
      "text/plain": [
       "array([[0.40523206, 0.40754267, 0.41139942, ..., 0.69998509, 0.69953317,\n",
       "        0.69921013],\n",
       "       [0.27112114, 0.27413197, 0.27750169, ..., 0.60424031, 0.60435808,\n",
       "        0.60584118],\n",
       "       [0.11443747, 0.11829083, 0.12078126, ..., 0.32311554, 0.322655  ,\n",
       "        0.32450748],\n",
       "       ...,\n",
       "       [0.83112329, 0.83248168, 0.83299407, ..., 0.7275824 , 0.71805673,\n",
       "        0.70752366],\n",
       "       [0.851733  , 0.85331353, 0.85368921, ..., 0.74412185, 0.73480024,\n",
       "        0.7254537 ],\n",
       "       [0.84614214, 0.84838965, 0.85000079, ..., 0.75222617, 0.74337688,\n",
       "        0.73368136]])"
      ]
     },
     "execution_count": 29,
     "metadata": {},
     "output_type": "execute_result"
    }
   ],
   "source": [
    "reconstructed_spectra"
   ]
  },
  {
   "cell_type": "code",
   "execution_count": 30,
   "metadata": {},
   "outputs": [
    {
     "data": {
      "text/plain": [
       "(166, 500)"
      ]
     },
     "execution_count": 30,
     "metadata": {},
     "output_type": "execute_result"
    }
   ],
   "source": [
    "reconstructed_spectra.shape"
   ]
  },
  {
   "cell_type": "code",
   "execution_count": 31,
   "metadata": {},
   "outputs": [],
   "source": [
    "distances = []\n",
    "for i in range(len(spectra)):\n",
    "    distances.append(np.linalg.norm(spectra[i] - reconstructed_spectra[i]))"
   ]
  },
  {
   "cell_type": "code",
   "execution_count": 32,
   "metadata": {},
   "outputs": [
    {
     "data": {
      "text/plain": [
       "[0.18251599845790653,\n",
       " 0.2330636956050255,\n",
       " 0.17807659870224232,\n",
       " 0.1467140178953102,\n",
       " 0.1377972872607136,\n",
       " 0.2022449617510483,\n",
       " 0.17782783799885502,\n",
       " 0.1158653155217745,\n",
       " 0.0883139679563291,\n",
       " 0.1963731724221259,\n",
       " 0.2203058436827576,\n",
       " 0.316757266147645,\n",
       " 0.29495225032404115,\n",
       " 0.1938656045999079,\n",
       " 0.20438479160638573,\n",
       " 0.30969730128171413,\n",
       " 0.12285461945927834,\n",
       " 0.16871246504757503,\n",
       " 0.18564152668288175,\n",
       " 0.2871864226461473,\n",
       " 0.38155221544582063,\n",
       " 0.11245812707823362,\n",
       " 0.1313864818551417,\n",
       " 0.17771283306392974,\n",
       " 0.13483608008966738,\n",
       " 0.30290485211903956,\n",
       " 0.71543160615505,\n",
       " 0.09393289593335562,\n",
       " 0.3131800662054786,\n",
       " 0.3403336312382364,\n",
       " 0.3198190973985441,\n",
       " 0.38325362952567626,\n",
       " 0.24354782598466554,\n",
       " 0.6043946710377138,\n",
       " 0.48442209471717246,\n",
       " 0.7650234427264525,\n",
       " 0.30983911465270275,\n",
       " 0.36278245024201233,\n",
       " 0.4066081394679665,\n",
       " 0.22126975711426097,\n",
       " 0.14263373833106752,\n",
       " 0.173926383631123,\n",
       " 0.4603901096883237,\n",
       " 0.3252291380171495,\n",
       " 0.5412832987457205,\n",
       " 0.6707831337622182,\n",
       " 0.12817017436061046,\n",
       " 0.2873412526231038,\n",
       " 0.34716264071169456,\n",
       " 0.3544061030314816,\n",
       " 0.2919841804393208,\n",
       " 0.27471322640022505,\n",
       " 0.2509598681109406,\n",
       " 0.15465287249952003,\n",
       " 0.3990749180482278,\n",
       " 0.3745448370147,\n",
       " 0.37713921672685846,\n",
       " 0.18305739938700633,\n",
       " 0.27982785181137987,\n",
       " 0.18731820062189575,\n",
       " 0.3121900397206029,\n",
       " 0.08901038809802528,\n",
       " 0.0966608697451137,\n",
       " 0.15987975369104698,\n",
       " 0.21049590476309893,\n",
       " 0.2243285274053248,\n",
       " 0.25028078997045466,\n",
       " 0.24316256786169105,\n",
       " 0.1338426606437599,\n",
       " 0.1278090985186951,\n",
       " 0.23514159141584423,\n",
       " 0.10890215841640045,\n",
       " 0.09868632470365181,\n",
       " 0.15607579904281874,\n",
       " 0.27973200194452075,\n",
       " 0.47727946459596376,\n",
       " 0.5268057661470715,\n",
       " 0.11585660045565259,\n",
       " 0.12909373466943108,\n",
       " 0.3347359506411449,\n",
       " 0.28169883675627827,\n",
       " 0.4695074481535673,\n",
       " 0.53320457941676,\n",
       " 0.5630172464283534,\n",
       " 0.39606580176679146,\n",
       " 0.4858489490441351,\n",
       " 0.4720359688933199,\n",
       " 0.34686929381853043,\n",
       " 0.30665395013845026,\n",
       " 0.32596103703681684,\n",
       " 0.3307086020490229,\n",
       " 0.26039651956322213,\n",
       " 0.25353201736188097,\n",
       " 0.24732311316172126,\n",
       " 0.2371868178504672,\n",
       " 0.43013398652543017,\n",
       " 0.20185715456303768,\n",
       " 0.3514441958773865,\n",
       " 0.3363953493687437,\n",
       " 0.09570489865757298,\n",
       " 0.4224701652839676,\n",
       " 0.2288498457161518,\n",
       " 0.2854246220610269,\n",
       " 0.2098915065847955,\n",
       " 0.2078856019854749,\n",
       " 0.2820959977527297,\n",
       " 0.2643044149049756,\n",
       " 0.23155159813448722,\n",
       " 0.1932748279278526,\n",
       " 0.16351491416559577,\n",
       " 0.23183782203780026,\n",
       " 0.12452693953841618,\n",
       " 0.1311932869500589,\n",
       " 0.25990343553996326,\n",
       " 0.3084337181963086,\n",
       " 0.20067232847573568,\n",
       " 0.11364866344367924,\n",
       " 0.1983857332396881,\n",
       " 0.18681539418831491,\n",
       " 0.19799582369223453,\n",
       " 0.31595468889187167,\n",
       " 0.21016127024163234,\n",
       " 0.19036467224868175,\n",
       " 0.21536760496178878,\n",
       " 0.34365780464223566,\n",
       " 0.29647200320097433,\n",
       " 0.24692391826328958,\n",
       " 0.19647202417109388,\n",
       " 0.13207812304519492,\n",
       " 0.12165997911325396,\n",
       " 0.45060574743817045,\n",
       " 0.5055507178973548,\n",
       " 0.2736360643153028,\n",
       " 0.2744041696714507,\n",
       " 0.22152746051020528,\n",
       " 0.17269586206855472,\n",
       " 0.23441594208001582,\n",
       " 0.21324895484534995,\n",
       " 0.21189662498353673,\n",
       " 0.1719275487281573,\n",
       " 0.3003634799817541,\n",
       " 0.1725864349467436,\n",
       " 0.13989052590080567,\n",
       " 0.1995772368193156,\n",
       " 0.20273815446396432,\n",
       " 0.16093527844182384,\n",
       " 0.182823533972667,\n",
       " 0.16560341436117068,\n",
       " 0.21360516465086551,\n",
       " 0.16884308399125106,\n",
       " 0.16313611748602982,\n",
       " 0.32187349964141476,\n",
       " 0.2784627719792774,\n",
       " 0.353797459043918,\n",
       " 0.41207321545580217,\n",
       " 0.5463894736341487,\n",
       " 0.18855410694639763,\n",
       " 0.1526603805870919,\n",
       " 0.37496168250829914,\n",
       " 0.15105282673387949,\n",
       " 0.1393315280668148,\n",
       " 0.14804300186156033,\n",
       " 0.1909882227893882,\n",
       " 0.14681063803330424,\n",
       " 0.1943070529821256,\n",
       " 0.18445147901125367]"
      ]
     },
     "execution_count": 32,
     "metadata": {},
     "output_type": "execute_result"
    }
   ],
   "source": [
    "distances"
   ]
  },
  {
   "cell_type": "code",
   "execution_count": 33,
   "metadata": {},
   "outputs": [],
   "source": [
    "reconstructed_spectra2 = dictionary2.dot(atoms2)"
   ]
  },
  {
   "cell_type": "code",
   "execution_count": 34,
   "metadata": {},
   "outputs": [
    {
     "data": {
      "text/plain": [
       "array([[2.67261777, 2.7299975 , 2.7863416 , ..., 4.70162257, 4.69509713,\n",
       "        4.68618657],\n",
       "       [2.31693659, 2.36688352, 2.41585257, ..., 4.1539825 , 4.1486694 ,\n",
       "        4.14132728],\n",
       "       [1.35981367, 1.38927471, 1.41806453, ..., 2.49125125, 2.48838883,\n",
       "        2.48442976],\n",
       "       ...,\n",
       "       [3.74959707, 3.82967386, 3.90835647, ..., 6.40276313, 6.39276639,\n",
       "        6.37955366],\n",
       "       [3.75392496, 3.83408458, 3.91285561, ..., 6.40919942, 6.3991897 ,\n",
       "        6.38593867],\n",
       "       [3.88067573, 3.96354308, 4.04497834, ..., 6.61446531, 6.60407175,\n",
       "        6.5903518 ]])"
      ]
     },
     "execution_count": 34,
     "metadata": {},
     "output_type": "execute_result"
    }
   ],
   "source": [
    "reconstructed_spectra2"
   ]
  },
  {
   "cell_type": "code",
   "execution_count": 35,
   "metadata": {},
   "outputs": [],
   "source": [
    "distances2 = []\n",
    "for i in range(len(spectra)):\n",
    "    distances2.append(np.linalg.norm(spectra[i] - reconstructed_spectra2[i]))"
   ]
  },
  {
   "cell_type": "code",
   "execution_count": 36,
   "metadata": {},
   "outputs": [
    {
     "data": {
      "text/plain": [
       "[99.49666756146343,\n",
       " 86.99262510524409,\n",
       " 51.25454028277165,\n",
       " 55.41428389486647,\n",
       " 35.72592591820713,\n",
       " 91.98585435446587,\n",
       " 80.08006575331814,\n",
       " 49.97989271540942,\n",
       " 50.84736167617027,\n",
       " 33.00295128641088,\n",
       " 118.66948307329085,\n",
       " 114.39069689424743,\n",
       " 58.05390903664985,\n",
       " 65.96289280280934,\n",
       " 34.46877230553125,\n",
       " 92.12856039674801,\n",
       " 128.56157180976996,\n",
       " 128.4955347163163,\n",
       " 131.65847647314695,\n",
       " 120.00535671897136,\n",
       " 95.30120247462867,\n",
       " 100.95776331753012,\n",
       " 125.8263958219589,\n",
       " 128.43814836131588,\n",
       " 113.42391968435072,\n",
       " 102.23761942035404,\n",
       " 67.78339062535741,\n",
       " 134.61024905671542,\n",
       " 130.60680568907947,\n",
       " 127.06183109061244,\n",
       " 109.38697166197522,\n",
       " 104.28182216459749,\n",
       " 127.09671431771335,\n",
       " 110.0428039214936,\n",
       " 106.85595386110786,\n",
       " 110.35385058396756,\n",
       " 93.68287445851918,\n",
       " 114.11043682490562,\n",
       " 121.89926391102267,\n",
       " 74.47579908590751,\n",
       " 70.97667550050983,\n",
       " 74.03616143983946,\n",
       " 52.26764612727497,\n",
       " 52.0729753692257,\n",
       " 98.06451831285023,\n",
       " 113.11906330920544,\n",
       " 104.35308121727773,\n",
       " 89.10403762885338,\n",
       " 60.82517201503012,\n",
       " 60.69983504262077,\n",
       " 41.38004111775189,\n",
       " 22.1807034408649,\n",
       " 73.75883816526947,\n",
       " 80.11491144431945,\n",
       " 66.59770449185848,\n",
       " 63.19043415461875,\n",
       " 39.95028997955778,\n",
       " 27.002851323688596,\n",
       " 78.66587571348374,\n",
       " 38.33436285361846,\n",
       " 92.24834996619319,\n",
       " 10.141592871762994,\n",
       " 9.931689937037772,\n",
       " 14.664829411725607,\n",
       " 18.94350986353445,\n",
       " 26.715111100990107,\n",
       " 36.46173501307652,\n",
       " 41.99592659944664,\n",
       " 10.18509885105093,\n",
       " 14.207551458459806,\n",
       " 46.86526659521633,\n",
       " 105.84320285260851,\n",
       " 114.76289699694904,\n",
       " 104.01478376844234,\n",
       " 92.7675811208471,\n",
       " 83.37399942721157,\n",
       " 111.44537028290098,\n",
       " 105.50597172541246,\n",
       " 120.33801239874754,\n",
       " 121.58107682536617,\n",
       " 111.44557000748637,\n",
       " 93.35539026448608,\n",
       " 66.4180142097758,\n",
       " 106.99811067514254,\n",
       " 117.38386959558727,\n",
       " 95.87404604471675,\n",
       " 99.40314327821623,\n",
       " 87.67698274361494,\n",
       " 113.719655415176,\n",
       " 121.38860569832607,\n",
       " 124.846289509101,\n",
       " 102.69805916429401,\n",
       " 99.45157250267339,\n",
       " 102.5274382213465,\n",
       " 105.90773990268713,\n",
       " 109.1755799512205,\n",
       " 99.09234137693934,\n",
       " 106.8322065898199,\n",
       " 112.59070538621631,\n",
       " 95.84509351915224,\n",
       " 98.71453235634576,\n",
       " 87.8181445943622,\n",
       " 87.2068549005365,\n",
       " 95.67122676072486,\n",
       " 100.29567709958835,\n",
       " 59.12409612962314,\n",
       " 67.49972634873606,\n",
       " 65.86067682881557,\n",
       " 83.38529550374683,\n",
       " 80.57628750274192,\n",
       " 67.59489822085996,\n",
       " 88.57941797973709,\n",
       " 99.70403600759981,\n",
       " 59.83748392203904,\n",
       " 61.52044524345161,\n",
       " 88.7011377992693,\n",
       " 77.46955304527431,\n",
       " 52.16562200822964,\n",
       " 52.354509553857774,\n",
       " 51.58447719474234,\n",
       " 48.01675211561976,\n",
       " 62.18526813230393,\n",
       " 55.24729614331969,\n",
       " 66.6654119111921,\n",
       " 54.739487131898635,\n",
       " 60.439181972001464,\n",
       " 55.73426190166943,\n",
       " 65.44193764063417,\n",
       " 97.56038556732031,\n",
       " 30.341394479327597,\n",
       " 52.09501757853871,\n",
       " 32.73347643493321,\n",
       " 13.514204038342788,\n",
       " 13.590511128920745,\n",
       " 8.29947329257985,\n",
       " 38.66204020147558,\n",
       " 45.92930702071486,\n",
       " 26.58106846045893,\n",
       " 25.088202123047587,\n",
       " 12.783062608470377,\n",
       " 6.328996834439593,\n",
       " 116.58779251770187,\n",
       " 133.15758172039196,\n",
       " 137.72610118451695,\n",
       " 139.92116801129146,\n",
       " 145.59513510744293,\n",
       " 134.68138884978532,\n",
       " 136.5344762616716,\n",
       " 130.0242376628143,\n",
       " 136.71496487290514,\n",
       " 127.09081310780148,\n",
       " 125.25197217599145,\n",
       " 112.41370519055823,\n",
       " 119.32789463518255,\n",
       " 98.66706329712503,\n",
       " 107.01065127827366,\n",
       " 137.92389839792605,\n",
       " 108.73671137231607,\n",
       " 129.62190134779604,\n",
       " 136.8194253452141,\n",
       " 137.6417201722412,\n",
       " 139.832311151767,\n",
       " 108.42936100811977,\n",
       " 138.01715873674007,\n",
       " 138.1330764100918,\n",
       " 142.75796263670614]"
      ]
     },
     "execution_count": 36,
     "metadata": {},
     "output_type": "execute_result"
    }
   ],
   "source": [
    "distances2"
   ]
  },
  {
   "cell_type": "code",
   "execution_count": 37,
   "metadata": {},
   "outputs": [
    {
     "data": {
      "text/plain": [
       "array([[0.40523206, 0.40754267, 0.41139942, ..., 0.69998509, 0.69953317,\n",
       "        0.69921013],\n",
       "       [0.27112114, 0.27413197, 0.27750169, ..., 0.60424031, 0.60435808,\n",
       "        0.60584118],\n",
       "       [0.11443747, 0.11829083, 0.12078126, ..., 0.32311554, 0.322655  ,\n",
       "        0.32450748],\n",
       "       ...,\n",
       "       [0.83112329, 0.83248168, 0.83299407, ..., 0.7275824 , 0.71805673,\n",
       "        0.70752366],\n",
       "       [0.851733  , 0.85331353, 0.85368921, ..., 0.74412185, 0.73480024,\n",
       "        0.7254537 ],\n",
       "       [0.84614214, 0.84838965, 0.85000079, ..., 0.75222617, 0.74337688,\n",
       "        0.73368136]])"
      ]
     },
     "execution_count": 37,
     "metadata": {},
     "output_type": "execute_result"
    }
   ],
   "source": [
    "reconstructed_spectra"
   ]
  },
  {
   "cell_type": "code",
   "execution_count": 38,
   "metadata": {},
   "outputs": [
    {
     "data": {
      "text/plain": [
       "array([[0.36625177, 0.37408954, 0.38041823, ..., 0.69747148, 0.69613203,\n",
       "        0.69590056],\n",
       "       [0.22933248, 0.23542408, 0.24072858, ..., 0.57995432, 0.57845447,\n",
       "        0.58057582],\n",
       "       [0.10552621, 0.10864627, 0.11163579, ..., 0.3127732 , 0.31293405,\n",
       "        0.31438494],\n",
       "       ...,\n",
       "       [0.84827669, 0.8483359 , 0.84993451, ..., 0.73254605, 0.72484708,\n",
       "        0.71382553],\n",
       "       [0.88008486, 0.88482508, 0.88539167, ..., 0.75476558, 0.74785095,\n",
       "        0.7386977 ],\n",
       "       [0.87846376, 0.87814294, 0.87539409, ..., 0.7541015 , 0.74652251,\n",
       "        0.73594507]])"
      ]
     },
     "execution_count": 38,
     "metadata": {},
     "output_type": "execute_result"
    }
   ],
   "source": [
    "spectra"
   ]
  },
  {
   "cell_type": "code",
   "execution_count": 39,
   "metadata": {},
   "outputs": [
    {
     "name": "stdout",
     "output_type": "stream",
     "text": [
      "Reconstructed Spectra: 35\n"
     ]
    },
    {
     "data": {
      "image/png": "[encoded data removed]",
      "text/plain": [
       "<Figure size 270x180 with 1 Axes>"
      ]
     },
     "metadata": {},
     "output_type": "display_data"
    },
    {
     "name": "stdout",
     "output_type": "stream",
     "text": [
      "Reconstructed Spectra: 49\n"
     ]
    },
    {
     "data": {
      "image/png": "[encoded data removed]",
      "text/plain": [
       "<Figure size 270x180 with 1 Axes>"
      ]
     },
     "metadata": {},
     "output_type": "display_data"
    },
    {
     "name": "stdout",
     "output_type": "stream",
     "text": [
      "Reconstructed Spectra: 137\n"
     ]
    },
    {
     "data": {
      "image/png": "[encoded data removed]",
      "text/plain": [
       "<Figure size 270x180 with 1 Axes>"
      ]
     },
     "metadata": {},
     "output_type": "display_data"
    },
    {
     "name": "stdout",
     "output_type": "stream",
     "text": [
      "Reconstructed Spectra: 127\n"
     ]
    },
    {
     "data": {
      "image/png": "[encoded data removed]",
      "text/plain": [
       "<Figure size 270x180 with 1 Axes>"
      ]
     },
     "metadata": {},
     "output_type": "display_data"
    },
    {
     "name": "stdout",
     "output_type": "stream",
     "text": [
      "Reconstructed Spectra: 108\n"
     ]
    },
    {
     "data": {
      "image/png": "[encoded data removed]",
      "text/plain": [
       "<Figure size 270x180 with 1 Axes>"
      ]
     },
     "metadata": {},
     "output_type": "display_data"
    },
    {
     "name": "stdout",
     "output_type": "stream",
     "text": [
      "Reconstructed Spectra: 40\n"
     ]
    },
    {
     "data": {
      "image/png": "[encoded data removed]",
      "text/plain": [
       "<Figure size 270x180 with 1 Axes>"
      ]
     },
     "metadata": {},
     "output_type": "display_data"
    },
    {
     "name": "stdout",
     "output_type": "stream",
     "text": [
      "Reconstructed Spectra: 72\n"
     ]
    },
    {
     "data": {
      "image/png": "[encoded data removed]",
      "text/plain": [
       "<Figure size 270x180 with 1 Axes>"
      ]
     },
     "metadata": {},
     "output_type": "display_data"
    },
    {
     "name": "stdout",
     "output_type": "stream",
     "text": [
      "Reconstructed Spectra: 33\n"
     ]
    },
    {
     "data": {
      "image/png": "[encoded data removed]",
      "text/plain": [
       "<Figure size 270x180 with 1 Axes>"
      ]
     },
     "metadata": {},
     "output_type": "display_data"
    },
    {
     "name": "stdout",
     "output_type": "stream",
     "text": [
      "Reconstructed Spectra: 29\n"
     ]
    },
    {
     "data": {
      "image/png": "[encoded data removed]",
      "text/plain": [
       "<Figure size 270x180 with 1 Axes>"
      ]
     },
     "metadata": {},
     "output_type": "display_data"
    },
    {
     "name": "stdout",
     "output_type": "stream",
     "text": [
      "Reconstructed Spectra: 64\n"
     ]
    },
    {
     "data": {
      "image/png": "[encoded data removed]",
      "text/plain": [
       "<Figure size 270x180 with 1 Axes>"
      ]
     },
     "metadata": {},
     "output_type": "display_data"
    },
    {
     "name": "stdout",
     "output_type": "stream",
     "text": [
      "Reconstructed Spectra: 127\n"
     ]
    },
    {
     "data": {
      "image/png": "[encoded data removed]",
      "text/plain": [
       "<Figure size 270x180 with 1 Axes>"
      ]
     },
     "metadata": {},
     "output_type": "display_data"
    },
    {
     "name": "stdout",
     "output_type": "stream",
     "text": [
      "Reconstructed Spectra: 11\n"
     ]
    },
    {
     "data": {
      "image/png": "[encoded data removed]",
      "text/plain": [
       "<Figure size 270x180 with 1 Axes>"
      ]
     },
     "metadata": {},
     "output_type": "display_data"
    },
    {
     "name": "stdout",
     "output_type": "stream",
     "text": [
      "Reconstructed Spectra: 98\n"
     ]
    },
    {
     "data": {
      "image/png": "[encoded data removed]",
      "text/plain": [
       "<Figure size 270x180 with 1 Axes>"
      ]
     },
     "metadata": {},
     "output_type": "display_data"
    },
    {
     "name": "stdout",
     "output_type": "stream",
     "text": [
      "Reconstructed Spectra: 86\n"
     ]
    },
    {
     "data": {
      "image/png": "[encoded data removed]",
      "text/plain": [
       "<Figure size 270x180 with 1 Axes>"
      ]
     },
     "metadata": {},
     "output_type": "display_data"
    },
    {
     "name": "stdout",
     "output_type": "stream",
     "text": [
      "Reconstructed Spectra: 8\n"
     ]
    },
    {
     "data": {
      "image/png": "[encoded data removed]",
      "text/plain": [
       "<Figure size 270x180 with 1 Axes>"
      ]
     },
     "metadata": {},
     "output_type": "display_data"
    },
    {
     "name": "stdout",
     "output_type": "stream",
     "text": [
      "Reconstructed Spectra: 74\n"
     ]
    },
    {
     "data": {
      "image/png": "[encoded data removed]",
      "text/plain": [
       "<Figure size 270x180 with 1 Axes>"
      ]
     },
     "metadata": {},
     "output_type": "display_data"
    },
    {
     "name": "stdout",
     "output_type": "stream",
     "text": [
      "Reconstructed Spectra: 85\n"
     ]
    },
    {
     "data": {
      "image/png": "[encoded data removed]",
      "text/plain": [
       "<Figure size 270x180 with 1 Axes>"
      ]
     },
     "metadata": {},
     "output_type": "display_data"
    },
    {
     "name": "stdout",
     "output_type": "stream",
     "text": [
      "Reconstructed Spectra: 55\n"
     ]
    },
    {
     "data": {
      "image/png": "[encoded data removed]",
      "text/plain": [
       "<Figure size 270x180 with 1 Axes>"
      ]
     },
     "metadata": {},
     "output_type": "display_data"
    },
    {
     "name": "stdout",
     "output_type": "stream",
     "text": [
      "Reconstructed Spectra: 17\n"
     ]
    },
    {
     "data": {
      "image/png": "[encoded data removed]",
      "text/plain": [
       "<Figure size 270x180 with 1 Axes>"
      ]
     },
     "metadata": {},
     "output_type": "display_data"
    },
    {
     "name": "stdout",
     "output_type": "stream",
     "text": [
      "Reconstructed Spectra: 61\n"
     ]
    },
    {
     "data": {
      "image/png": "[encoded data removed]",
      "text/plain": [
       "<Figure size 270x180 with 1 Axes>"
      ]
     },
     "metadata": {},
     "output_type": "display_data"
    }
   ],
   "source": [
    "height = 3\n",
    "width = 1.5*height\n",
    "linewidth = 4\n",
    "# for i in range(num_samples):\n",
    "examples = 20\n",
    "lst = [35, 49, 137, 127, 108, 40, 72, 33, 29, 64, 127, 11, 98, 86, 8, 74, 85, 55, 17, 61]\n",
    "for index in lst:\n",
    "    fig = plt.figure(figsize=(width, height), dpi=60)\n",
    "    plt.plot(wavelengths[0,:], reconstructed_spectra[index,:], linewidth = linewidth, color='k')\n",
    "    plt.xticks([])\n",
    "    plt.yticks([])\n",
    "    ax = fig.axes\n",
    "    ax[0].axis('off')\n",
    "    print(\"Reconstructed Spectra:\", index)\n",
    "    plt.show()\n",
    "# path = os.path.join(data_dir, \"plots-\" + str(spectrum_len), record_nums[i] + \"-\" + spectrum_names[i] + \".png\")\n",
    "# fig.savefig(path, format = \"PNG\")\n",
    "# plt.close(fig)"
   ]
  },
  {
   "cell_type": "code",
   "execution_count": 40,
   "metadata": {},
   "outputs": [
    {
     "name": "stdout",
     "output_type": "stream",
     "text": [
      "Reconstructed Spectra2: 35\n"
     ]
    },
    {
     "data": {
      "image/png": "[encoded data removed]",
      "text/plain": [
       "<Figure size 270x180 with 1 Axes>"
      ]
     },
     "metadata": {},
     "output_type": "display_data"
    },
    {
     "name": "stdout",
     "output_type": "stream",
     "text": [
      "Reconstructed Spectra2: 49\n"
     ]
    },
    {
     "data": {
      "image/png": "[encoded data removed]",
      "text/plain": [
       "<Figure size 270x180 with 1 Axes>"
      ]
     },
     "metadata": {},
     "output_type": "display_data"
    },
    {
     "name": "stdout",
     "output_type": "stream",
     "text": [
      "Reconstructed Spectra2: 137\n"
     ]
    },
    {
     "data": {
      "image/png": "[encoded data removed]",
      "text/plain": [
       "<Figure size 270x180 with 1 Axes>"
      ]
     },
     "metadata": {},
     "output_type": "display_data"
    },
    {
     "name": "stdout",
     "output_type": "stream",
     "text": [
      "Reconstructed Spectra2: 127\n"
     ]
    },
    {
     "data": {
      "image/png": "[encoded data removed]",
      "text/plain": [
       "<Figure size 270x180 with 1 Axes>"
      ]
     },
     "metadata": {},
     "output_type": "display_data"
    },
    {
     "name": "stdout",
     "output_type": "stream",
     "text": [
      "Reconstructed Spectra2: 108\n"
     ]
    },
    {
     "data": {
      "image/png": "[encoded data removed]",
      "text/plain": [
       "<Figure size 270x180 with 1 Axes>"
      ]
     },
     "metadata": {},
     "output_type": "display_data"
    },
    {
     "name": "stdout",
     "output_type": "stream",
     "text": [
      "Reconstructed Spectra2: 40\n"
     ]
    },
    {
     "data": {
      "image/png": "[encoded data removed]",
      "text/plain": [
       "<Figure size 270x180 with 1 Axes>"
      ]
     },
     "metadata": {},
     "output_type": "display_data"
    },
    {
     "name": "stdout",
     "output_type": "stream",
     "text": [
      "Reconstructed Spectra2: 72\n"
     ]
    },
    {
     "data": {
      "image/png": "[encoded data removed]",
      "text/plain": [
       "<Figure size 270x180 with 1 Axes>"
      ]
     },
     "metadata": {},
     "output_type": "display_data"
    },
    {
     "name": "stdout",
     "output_type": "stream",
     "text": [
      "Reconstructed Spectra2: 33\n"
     ]
    },
    {
     "data": {
      "image/png": "[encoded data removed]",
      "text/plain": [
       "<Figure size 270x180 with 1 Axes>"
      ]
     },
     "metadata": {},
     "output_type": "display_data"
    },
    {
     "name": "stdout",
     "output_type": "stream",
     "text": [
      "Reconstructed Spectra2: 29\n"
     ]
    },
    {
     "data": {
      "image/png": "[encoded data removed]",
      "text/plain": [
       "<Figure size 270x180 with 1 Axes>"
      ]
     },
     "metadata": {},
     "output_type": "display_data"
    },
    {
     "name": "stdout",
     "output_type": "stream",
     "text": [
      "Reconstructed Spectra2: 64\n"
     ]
    },
    {
     "data": {
      "image/png": "[encoded data removed]",
      "text/plain": [
       "<Figure size 270x180 with 1 Axes>"
      ]
     },
     "metadata": {},
     "output_type": "display_data"
    },
    {
     "name": "stdout",
     "output_type": "stream",
     "text": [
      "Reconstructed Spectra2: 127\n"
     ]
    },
    {
     "data": {
      "image/png": "[encoded data removed]",
      "text/plain": [
       "<Figure size 270x180 with 1 Axes>"
      ]
     },
     "metadata": {},
     "output_type": "display_data"
    },
    {
     "name": "stdout",
     "output_type": "stream",
     "text": [
      "Reconstructed Spectra2: 11\n"
     ]
    },
    {
     "data": {
      "image/png": "[encoded data removed]",
      "text/plain": [
       "<Figure size 270x180 with 1 Axes>"
      ]
     },
     "metadata": {},
     "output_type": "display_data"
    },
    {
     "name": "stdout",
     "output_type": "stream",
     "text": [
      "Reconstructed Spectra2: 98\n"
     ]
    },
    {
     "data": {
      "image/png": "[encoded data removed]",
      "text/plain": [
       "<Figure size 270x180 with 1 Axes>"
      ]
     },
     "metadata": {},
     "output_type": "display_data"
    },
    {
     "name": "stdout",
     "output_type": "stream",
     "text": [
      "Reconstructed Spectra2: 86\n"
     ]
    },
    {
     "data": {
      "image/png": "[encoded data removed]",
      "text/plain": [
       "<Figure size 270x180 with 1 Axes>"
      ]
     },
     "metadata": {},
     "output_type": "display_data"
    },
    {
     "name": "stdout",
     "output_type": "stream",
     "text": [
      "Reconstructed Spectra2: 8\n"
     ]
    },
    {
     "data": {
      "image/png": "[encoded data removed]",
      "text/plain": [
       "<Figure size 270x180 with 1 Axes>"
      ]
     },
     "metadata": {},
     "output_type": "display_data"
    },
    {
     "name": "stdout",
     "output_type": "stream",
     "text": [
      "Reconstructed Spectra2: 74\n"
     ]
    },
    {
     "data": {
      "image/png": "[encoded data removed]",
      "text/plain": [
       "<Figure size 270x180 with 1 Axes>"
      ]
     },
     "metadata": {},
     "output_type": "display_data"
    },
    {
     "name": "stdout",
     "output_type": "stream",
     "text": [
      "Reconstructed Spectra2: 85\n"
     ]
    },
    {
     "data": {
      "image/png": "[encoded data removed]",
      "text/plain": [
       "<Figure size 270x180 with 1 Axes>"
      ]
     },
     "metadata": {},
     "output_type": "display_data"
    },
    {
     "name": "stdout",
     "output_type": "stream",
     "text": [
      "Reconstructed Spectra2: 55\n"
     ]
    },
    {
     "data": {
      "image/png": "[encoded data removed]",
      "text/plain": [
       "<Figure size 270x180 with 1 Axes>"
      ]
     },
     "metadata": {},
     "output_type": "display_data"
    },
    {
     "name": "stdout",
     "output_type": "stream",
     "text": [
      "Reconstructed Spectra2: 17\n"
     ]
    },
    {
     "data": {
      "image/png": "[encoded data removed]",
      "text/plain": [
       "<Figure size 270x180 with 1 Axes>"
      ]
     },
     "metadata": {},
     "output_type": "display_data"
    },
    {
     "name": "stdout",
     "output_type": "stream",
     "text": [
      "Reconstructed Spectra2: 61\n"
     ]
    },
    {
     "data": {
      "image/png": "[encoded data removed]",
      "text/plain": [
       "<Figure size 270x180 with 1 Axes>"
      ]
     },
     "metadata": {},
     "output_type": "display_data"
    }
   ],
   "source": [
    "height = 3\n",
    "width = 1.5*height\n",
    "linewidth = 4\n",
    "lst = [35, 49, 137, 127, 108, 40, 72, 33, 29, 64, 127, 11, 98, 86, 8, 74, 85, 55, 17, 61]\n",
    "for index in lst:\n",
    "    fig = plt.figure(figsize=(width, height), dpi=60)\n",
    "    plt.plot(wavelengths[0,:], reconstructed_spectra2[index,:], linewidth = linewidth, color='k')\n",
    "    plt.xticks([])\n",
    "    plt.yticks([])\n",
    "    ax = fig.axes\n",
    "    ax[0].axis('off')\n",
    "    print(\"Reconstructed Spectra2:\", index)\n",
    "    plt.show()"
   ]
  },
  {
   "cell_type": "code",
   "execution_count": 45,
   "metadata": {},
   "outputs": [
    {
     "data": {
      "text/plain": [
       "0"
      ]
     },
     "execution_count": 45,
     "metadata": {},
     "output_type": "execute_result"
    }
   ],
   "source": [
    "num_zero = 0\n",
    "for row in atoms:\n",
    "    done = False\n",
    "    for col in row:\n",
    "        if col == 0 and not done:\n",
    "            num_zero += 1\n",
    "            done = True\n",
    "            print(row)\n",
    "num_zero"
   ]
  },
  {
   "cell_type": "code",
   "execution_count": 46,
   "metadata": {},
   "outputs": [
    {
     "data": {
      "text/plain": [
       "0"
      ]
     },
     "execution_count": 46,
     "metadata": {},
     "output_type": "execute_result"
    }
   ],
   "source": [
    "num_zero = 0\n",
    "for row in atoms2:\n",
    "    done = False\n",
    "    for col in row:\n",
    "        if col == 0 and not done:\n",
    "            num_zero += 1\n",
    "            done = True\n",
    "            print(row)\n",
    "num_zero"
   ]
  },
  {
   "cell_type": "code",
   "execution_count": 47,
   "metadata": {},
   "outputs": [
    {
     "data": {
      "text/plain": [
       "0"
      ]
     },
     "execution_count": 47,
     "metadata": {},
     "output_type": "execute_result"
    }
   ],
   "source": [
    "num_zero = 0\n",
    "for row in dictionary:\n",
    "    done = False\n",
    "    for col in row:\n",
    "        if col == 0 and not done:\n",
    "            num_zero += 1\n",
    "            done = True\n",
    "            print(row)\n",
    "num_zero"
   ]
  },
  {
   "cell_type": "code",
   "execution_count": 48,
   "metadata": {},
   "outputs": [
    {
     "name": "stdout",
     "output_type": "stream",
     "text": [
      "[-13.96702235  11.76187847 -13.5262892   13.4299453   13.93936084\n",
      " -13.77098181 -13.66324907  13.69659925  12.32970097   0.        ]\n",
      "[-12.00684005   9.64230327 -12.25027701  12.03133001  12.10884552\n",
      " -12.06533803 -12.14627544  11.72398555  11.13384119   0.        ]\n",
      "[-6.9408455   5.19291353 -7.63619502  7.27469438  7.12719583 -7.17451773\n",
      " -7.44231998  6.77768826  6.81191958  0.        ]\n",
      "[-7.49903032  5.57120523 -8.2342164   7.89073498  7.68028409 -7.76189786\n",
      " -7.99366275  7.29860324  7.41590458  0.        ]\n",
      "[-4.78867022  3.40083072 -5.54393392  5.16711813  4.99042951 -5.03428566\n",
      " -5.34290864  4.68465754  4.85885179  0.        ]\n",
      "[-12.93582787  10.98228846 -12.49844362  12.3329459   12.91927131\n",
      " -12.72649284 -12.70627693  12.73502153  11.27563683   0.        ]\n",
      "[-11.07766393   8.9093252  -11.26912043  11.05384013  11.16147438\n",
      " -11.12814241 -11.20658691  10.82921808  10.21980244   0.        ]\n",
      "[-6.78192122  5.09466184 -7.43314646  7.0666095   6.9641159  -7.00284617\n",
      " -7.24919924  6.6296773   6.63925537  0.        ]\n",
      "[-6.88284969  5.10245128 -7.58638035  7.2455671   7.06675342 -7.12942109\n",
      " -7.36027309  6.70712186  6.81266739  0.        ]\n",
      "[-4.45082596  3.11892674 -5.11310098  4.78166948  4.62022987 -4.69353686\n",
      " -4.90047835  4.3334917   4.56328577  0.        ]\n",
      "[-16.79044031  14.77072015 -15.79053239  15.62194781  16.7288571\n",
      " -16.2915835  -16.26196555  16.61181168  14.14692452   0.        ]\n",
      "[-16.0703865   14.00166576 -15.43127429  15.08762148  16.08826587\n",
      " -15.70342267 -15.85631037  15.9289501   13.71800894   0.        ]\n",
      "[-7.98467849  6.90781729 -8.30091169  7.65858834  8.23889847 -7.91305866\n",
      " -8.59058302  8.07594622  6.82902089  0.        ]\n",
      "[-9.06913178  7.72850955 -9.39983593  8.80317355  9.31082819 -9.00733445\n",
      " -9.63915734  9.10332181  7.89572513  0.        ]\n",
      "[-4.75269284  3.17471365 -5.16523176  5.14338786  4.77373741 -5.02076438\n",
      " -4.85337123  4.48219903  4.99272259  0.        ]\n",
      "[-12.8178826   10.85950192 -12.74023744  12.358376    12.92536525\n",
      " -12.66837403 -12.97473747  12.69423239  11.21770246   0.        ]\n",
      "[-18.31686346  16.19005275 -16.85134622  16.80336336  18.12978105\n",
      " -17.72820718 -17.37945219  18.08158736  15.3627009    0.        ]\n",
      "[-18.3374677   16.31546876 -16.80081723  16.69651224  18.14888655\n",
      " -17.69766409 -17.39211511  18.1493516   15.22662917   0.        ]\n",
      "[-18.81666118  16.84842042 -17.15096697  17.01084011  18.61326922\n",
      " -18.12522927 -17.81841169  18.65185085  15.51158009   0.        ]\n",
      "[-17.15033361  15.34461458 -15.67302035  15.56796507  16.98542119\n",
      " -16.50711459 -16.26607718  16.99796351  14.13146238   0.        ]\n",
      "[-13.71673664  12.5968768  -12.38235418  12.25338417  13.62419003\n",
      " -13.00211421 -13.00868417  13.69820529  10.82908766   0.        ]\n",
      "[-14.42050048  12.7040657  -13.27092524  13.22772847  14.27384523\n",
      " -13.96197741 -13.6843339   14.23027217  12.08645605   0.        ]\n",
      "[-17.9586027   15.95398498 -16.45274989  16.33770476  17.76758754\n",
      " -17.35721109 -17.02574572  17.76635739  14.95633831   0.        ]\n",
      "[-18.33231142  16.36444389 -16.76146643  16.62469658  18.15198993\n",
      " -17.70956558 -17.36985021  18.14184289  15.24802879   0.        ]\n",
      "[-16.19866142  14.39361635 -14.84531723  14.74035911  16.03971382\n",
      " -15.66122378 -15.35822336  16.01775613  13.50623941   0.        ]\n",
      "[-14.60514282  13.00580397 -13.40201764  13.30045257  14.48977761\n",
      " -14.11396192 -13.86636685  14.44290617  12.17269982   0.        ]\n",
      "[-9.76526606  9.08780061 -8.84580993  8.68153669  9.77815582 -9.26971026\n",
      " -9.32683646  9.75791204  7.72764082  0.        ]\n",
      "[-19.18960563  17.11814171 -17.59883705  17.51858069  19.01502012\n",
      " -18.50190875 -18.21816746  18.98965027  15.92583469   0.        ]\n",
      "[-18.63756806  16.60333527 -17.07782666  16.92945375  18.45319706\n",
      " -17.97933994 -17.69328449  18.47020418  15.44128676   0.        ]\n",
      "[-18.1484652   16.36317668 -16.587018    16.39748149  18.017618\n",
      " -17.41273402 -17.26451778  18.04747548  14.81818434   0.        ]\n",
      "[-15.63750943  14.03803415 -14.32527154  14.18376609  15.52665624\n",
      " -15.01078813 -14.88506037  15.53597389  12.79220798   0.        ]\n",
      "[-14.92472915  13.5345528  -13.64075718  13.4991788   14.85209379\n",
      " -14.24944045 -14.22464565  14.86618484  12.04829612   0.        ]\n",
      "[-18.14284654  16.04075819 -16.62643642  16.50966708  17.92277922\n",
      " -17.56417772 -17.18657073  17.93544899  15.15830958   0.        ]\n",
      "[-15.78651498  15.01166218 -14.19736397  13.88305758  15.79498162\n",
      " -14.86381761 -15.10704788  15.93172404  12.17623251   0.        ]\n",
      "[-15.42241217  15.07397515 -13.63538529  13.37512578  15.45584767\n",
      " -14.27792294 -14.71294375  15.64325081  11.35570719   0.        ]\n",
      "[-15.95154027  15.73027436 -14.01042907  13.57306733  15.9651742\n",
      " -14.77373954 -15.19034338  16.26893716  11.66928064   0.        ]\n",
      "[-13.62908195  13.89841156 -11.73749104  11.54553135  13.6935784\n",
      " -12.37788346 -12.90727581  13.93726932   9.50145658   0.        ]\n",
      "[-16.48224189  15.99182665 -14.51827725  14.29044074  16.44812991\n",
      " -15.32150799 -15.60843115  16.67415913  12.29083451   0.        ]\n",
      "[-17.568694    16.90495328 -15.55331385  15.30860793  17.52104297\n",
      " -16.40706894 -16.65622347  17.74072266  13.27033742   0.        ]\n",
      "[-11.16618447  12.59967608  -8.7756008    8.6253403   11.22036966\n",
      "  -9.55079181 -10.2706697   11.67626934   6.39676484   0.        ]\n",
      "[-10.62208563  11.90162403  -8.43312284   8.28113307  10.68792644\n",
      "  -9.10746357  -9.81386784  11.10200539   6.14693276   0.        ]\n",
      "[-11.0394357   12.2254882   -8.85091333   8.65850015  11.09709325\n",
      "  -9.56022436 -10.23885944  11.51356633   6.56973801   0.        ]\n",
      "[-8.05942095  9.63044355 -5.86870925  5.88545534  8.08266488 -6.57780071\n",
      " -7.17596621  8.49778806  3.94124057  0.        ]\n",
      "[-7.98205338  9.26473447 -5.97594285  5.96102252  7.99368454 -6.62558061\n",
      " -7.16324501  8.3747076   4.15014921  0.        ]\n",
      "[-13.9534193   12.66062925 -12.95917355  12.79661567  13.96381963\n",
      " -13.33931397 -13.47838444  13.94154839  11.31695443   0.        ]\n",
      "[-16.26867199  15.88970765 -14.46381385  14.10341028  16.32372383\n",
      " -15.14880662 -15.57100932  16.5203226   12.15149379   0.        ]\n",
      "[-14.78116555  12.57026152 -13.92546391  13.84840898  14.62847503\n",
      " -14.55842792 -14.15497911  14.49103976  12.94120051   0.        ]\n",
      "[-12.58925032  10.35820261 -12.01860207  11.90346282  12.42719584\n",
      " -12.59573224 -12.08830741  12.26697072  11.41973908   0.        ]\n",
      "[-8.56925045  6.56594232 -8.39265327  8.27779736  8.42255872 -8.83227512\n",
      " -8.2601011   8.23315699  8.31258527  0.        ]\n",
      "[-8.54945347  6.54974354 -8.38217029  8.27711595  8.40643094 -8.80489604\n",
      " -8.24682782  8.21541808  8.28458051  0.        ]\n",
      "[-5.8657212   4.29370939 -5.80150264  5.72722477  5.74750182 -6.12227866\n",
      " -5.64441138  5.58889039  5.84458982  0.        ]\n",
      "[-3.35032037  2.80837616 -2.9660694   2.81380848  3.25604132 -3.31630077\n",
      " -3.10902385  3.30571373  2.78799812  0.        ]\n",
      "[-10.68273688   9.66639324  -9.57537826   9.41540694  10.54298403\n",
      " -10.22545918 -10.0644509   10.64068789   8.54969991   0.        ]\n",
      "[-11.46665774  10.04424081 -10.59612628  10.4599565   11.3498015\n",
      " -11.14127992 -10.9520959   11.33273639   9.6076414    0.        ]\n",
      "[-9.43887509  8.09398254 -9.02872828  8.75058066  9.41858671 -9.31003493\n",
      " -9.29019724  9.32868193  8.12673083  0.        ]\n",
      "[-8.91503598  7.49909488 -8.6655632   8.42471189  8.91459572 -8.84758663\n",
      " -8.84093261  8.7798984   7.82192952  0.        ]\n",
      "[-5.64410522  4.66376892 -5.62908348  5.35571717  5.69331247 -5.6487223\n",
      " -5.74371699  5.57857104  4.97878275  0.        ]\n",
      "[-3.97596121  3.54533958 -3.67580454  3.4224513   3.97685642 -3.84647673\n",
      " -3.92108554  4.0058833   3.11325877  0.        ]\n",
      "[-11.08685706   9.17520242 -10.68991477  10.38676095  10.99719239\n",
      " -11.13847865 -10.84093899  10.8694973   10.00918933   0.        ]\n",
      "[-5.34125649  3.90387283 -5.57625507  5.86920614  5.37560489 -5.36224645\n",
      " -5.33232763  5.06977109  5.12518526  0.        ]\n",
      "[-12.50878825   9.54644756 -13.30658735  13.82750289  12.73340376\n",
      " -12.536354   -12.82059634  11.99764045  11.99161672   0.        ]\n",
      "[-1.60137231  1.17775197 -1.4990295   1.5445867   1.57605868 -1.56624173\n",
      " -1.50242723  1.53296442  1.33723822  0.        ]\n",
      "[-1.55904769  1.08464035 -1.49527455  1.55215679  1.53302927 -1.54884342\n",
      " -1.47098745  1.47561036  1.36325707  0.        ]\n",
      "[-2.19223285  1.499965   -2.17458618  2.25732354  2.15594243 -2.2252184\n",
      " -2.09975186  2.06442035  2.05919091  0.        ]\n",
      "[-2.74327856  1.81790921 -2.82541743  2.95207709  2.7116159  -2.82331985\n",
      " -2.67670782  2.56454715  2.71138806  0.        ]\n",
      "[-3.77842042  2.57513401 -3.94143151  4.13840573  3.75878468 -3.87443486\n",
      " -3.72542235  3.54281986  3.7605106   0.        ]\n",
      "[-5.05909703  3.45561107 -5.37315466  5.67011209  5.06107657 -5.19391\n",
      " -5.04074689  4.73808327  5.11993403  0.        ]\n",
      "[-5.77650956  4.01384858 -6.20180259  6.52975321  5.8192858  -5.89916027\n",
      " -5.82845984  5.43213716  5.80556169  0.        ]\n",
      "[-1.61702358  1.29870177 -1.47970461  1.57076664  1.6164088  -1.5065905\n",
      " -1.50042508  1.56170127  1.23512832  0.        ]\n",
      "[-2.17932909  1.79059809 -2.01162822  2.10901864  2.17624701 -2.05211434\n",
      " -2.04182289  2.11562301  1.7183425   0.        ]\n",
      "[-6.48694131  4.71895283 -6.77686097  7.14824773  6.52243666 -6.55727843\n",
      " -6.42577362  6.1247216   6.37686322  0.        ]\n",
      "[-15.1148119   13.3131113  -13.89795767  13.84444488  14.95224706\n",
      " -14.64393369 -14.32994748  14.91421002  12.68648671   0.        ]\n",
      "[-16.40296042  14.55486038 -14.9985275   14.85846078  16.2161686\n",
      " -15.88206242 -15.52853851  16.22448058  13.6921344    0.        ]\n",
      "[-14.88404739  13.15119446 -13.58887581  13.43447599  14.69799576\n",
      " -14.47278477 -14.0512877   14.69722347  12.53961558   0.        ]\n",
      "[-13.31472105  11.79545776 -12.08083489  11.8934082   13.13363672\n",
      " -12.96793518 -12.52355757  13.14945671  11.22141918   0.        ]\n",
      "[-12.04975178  11.04842286 -10.7210404   10.42741394  11.91576428\n",
      " -11.60797794 -11.29997615  11.99900485   9.79730348   0.        ]\n",
      "[-15.86217167  14.05722565 -14.65751806  14.7272233   15.75999267\n",
      " -15.31157901 -15.08620943  15.63048136  13.30513073   0.        ]\n",
      "[-15.05512828  13.26466545 -13.87251439  13.83928712  14.90872562\n",
      " -14.57443882 -14.29556506  14.85378197  12.6306165    0.        ]\n",
      "[-17.1568      15.17384606 -15.78669071  15.75158389  16.98980448\n",
      " -16.58311373 -16.28356021  16.94360268  14.34810445   0.        ]\n",
      "[-17.2974738   15.29246198 -15.98617694  16.02242305  17.16548639\n",
      " -16.71358648 -16.44746763  17.05651892  14.52381616   0.        ]\n",
      "[-15.86297658  13.97340339 -14.68293239  14.72360304  15.74046456\n",
      " -15.3405882  -15.08845015  15.63219544  13.34809914   0.        ]\n",
      "[-13.28572391  11.66597715 -12.36463075  12.45621155  13.2163638\n",
      " -12.83967303 -12.66896609  13.07116539  11.20729832   0.        ]\n",
      "[-9.53590419  8.62025051 -8.76976984  8.78195286  9.52921717 -9.08441048\n",
      " -9.11352205  9.45616002  7.70711497  0.        ]\n",
      "[-15.23192945  13.46188905 -14.08729014  14.19144871  15.13517881\n",
      " -14.70380837 -14.47188973  14.98999604  12.80801875   0.        ]\n",
      "[-16.69336137  14.6030298  -15.50330003  15.53670331  16.551017\n",
      " -16.16476647 -15.88288783  16.43475601  14.10827741   0.        ]\n",
      "[-13.48608658  12.2632787  -12.88293601  12.62436919  13.72152213\n",
      " -12.91070316 -13.34252268  13.49004035  11.0534102    0.        ]\n",
      "[-14.15573068  12.97762888 -13.07525286  12.86482853  14.21786945\n",
      " -13.50561171 -13.6655978   14.14233686  11.41190747   0.        ]\n",
      "[-12.25556619  10.36795877 -12.0444913   11.80613067  12.36580224\n",
      " -12.08045555 -12.15957629  12.08032295  10.79743913   0.        ]\n",
      "[-16.10730098  14.71782305 -15.05472004  14.71838974  16.22654972\n",
      " -15.40391823 -15.70249994  16.13650312  13.04563749   0.        ]\n",
      "[-17.22175551  15.67372811 -16.01025439  15.68254659  17.27961181\n",
      " -16.49824819 -16.68983631  17.22305733  14.00016154   0.        ]\n",
      "[-17.70425629  16.11115591 -16.4654185   16.13631201  17.76471386\n",
      " -16.96282928 -17.15925371  17.70227936  14.40482708   0.        ]\n",
      "[-14.60050602  13.22254822 -13.57866527  13.29030349  14.64564304\n",
      " -14.00071371 -14.1397834   14.58240758  11.8818097    0.        ]\n",
      "[-13.91248861  12.07925821 -13.56041517  13.28646817  14.08423631\n",
      " -13.56321387 -13.80128361  13.79531192  11.94700324   0.        ]\n",
      "[-14.33395059  12.44663513 -13.97932199  13.70252222  14.51388207\n",
      " -13.9734339  -14.22440882  14.21549496  12.31362951   0.        ]\n",
      "[-14.82031307  12.90228901 -14.40176948  14.12923642  14.98976496\n",
      " -14.43340984 -14.67293894  14.69912324  12.69608063   0.        ]\n",
      "[-15.50977988  14.20669461 -14.40562345  13.98541572  15.59288815\n",
      " -14.84058056 -15.08847008  15.56449526  12.48780822   0.        ]\n",
      "[-14.03594428  12.47707529 -13.21660431  12.96388444  14.08096699\n",
      " -13.56561092 -13.64259911  13.95609705  11.68779001   0.        ]\n",
      "[-15.23921945  14.10165987 -14.00166137  13.70124633  15.29902005\n",
      " -14.46935227 -14.71881904  15.2910641   12.06972348   0.        ]\n",
      "[-16.02532164  14.70508898 -14.8007374   14.49167626  16.08091418\n",
      " -15.27649315 -15.49489725  16.05142622  12.84215238   0.        ]\n",
      "[-13.53326567  11.84430637 -12.87068041  12.69179298  13.58180705\n",
      " -13.15291507 -13.17505354  13.3971732   11.49556088   0.        ]\n",
      "[-13.81993324  12.11852496 -13.43829748  13.01862031  14.00937882\n",
      " -13.46395133 -13.74746209  13.76779793  11.76492022   0.        ]\n",
      "[-12.30764071  10.74008156 -11.97674773  11.61420322  12.4773887\n",
      " -12.00947933 -12.22964642  12.25070365  10.52741333   0.        ]\n",
      "[-12.200084    10.58704515 -11.93475484  11.55881515  12.37681316\n",
      " -11.9372045  -12.15684778  12.13663305  10.51084682   0.        ]\n",
      "[-13.39547413  11.77491742 -13.02548844  12.73035337  13.59845638\n",
      " -12.99547032 -13.31887868  13.32637196  11.35001881   0.        ]\n",
      "[-14.1797479   12.49425225 -13.41373507  13.29933797  14.22204562\n",
      " -13.71999712 -13.76367485  14.03462646  11.93555207   0.        ]\n",
      "[-8.06039173  5.29149122 -8.57318673  8.30744755  7.95366244 -8.88662648\n",
      " -8.04759204  7.55694317  9.10646543  0.        ]\n",
      "[ -9.25719488   6.42178241  -9.63279452   9.33079113   9.13450448\n",
      " -10.03131037  -9.19211768   8.76172862  10.03608082   0.        ]\n",
      "[-9.08498239  6.5171469  -9.33021608  9.05621663  8.97479446 -9.70803969\n",
      " -9.00474141  8.65216071  9.52643094  0.        ]\n",
      "[-11.75102817   9.63042933 -11.27936588  11.04200182  11.61373007\n",
      " -11.87825491 -11.37604721  11.4520632   10.81247265   0.        ]\n",
      "[-11.20494524   8.55419489 -11.16429696  10.90505447  11.06752909\n",
      " -11.68015357 -10.95724721  10.77515439  11.14497189   0.        ]\n",
      "[-9.44157834  7.15231639 -9.36500679  8.93749363  9.28202586 -9.94628529\n",
      " -9.26618985  9.11916194  9.41601141  0.        ]\n",
      "[-12.53815558  10.51204745 -11.88369642  11.6115537   12.38762638\n",
      " -12.52730309 -12.10284955  12.29766556  11.18270188   0.        ]\n",
      "[-13.91826286  11.04863449 -13.62785383  13.33367003  13.75493266\n",
      " -14.274262   -13.55481689  13.48700555  13.31317639   0.        ]\n",
      "[-8.06203051  4.72351707 -8.82877791  8.59183509  7.90518716 -9.18820785\n",
      " -8.00472387  7.40375216  9.88403915  0.        ]\n",
      "[-8.23726861  4.60892701 -9.16324197  8.97007458  8.07610898 -9.47095548\n",
      " -8.1925154   7.50347255 10.36166698  0.        ]\n",
      "[-12.68749421  11.32019076 -11.67143665  11.52795708  12.59131537\n",
      " -12.24654361 -12.16168514  12.59026249  10.41738519   0.        ]\n",
      "[-11.04148311   9.43055141 -10.32338745  10.07787833  10.90344502\n",
      " -10.9284482  -10.6149304   10.87792436   9.57852899   0.        ]\n",
      "[-7.38892013  5.78522675 -7.15410418  6.78394072  7.25346495 -7.6827852\n",
      " -7.20039588  7.19134651  7.06893619  0.        ]\n",
      "[-7.3992231   5.74724458 -7.21544007  6.8788614   7.27290785 -7.69404205\n",
      " -7.22766062  7.18835358  7.11369892  0.        ]\n",
      "[-7.32710767  5.81659472 -7.05331456  6.72649471  7.20092544 -7.54829007\n",
      " -7.12129838  7.14661556  6.88370649  0.        ]\n",
      "[-6.66219926  4.54160097 -6.84623945  6.79453523  6.54856869 -7.18847721\n",
      " -6.45105221  6.23136069  7.2804912   0.        ]\n",
      "[-8.65209817  6.35520306 -8.6843731   8.45441532  8.51269711 -9.18843822\n",
      " -8.45171767  8.25291876  8.92288374  0.        ]\n",
      "[-7.73000887  5.7639531  -7.70199993  7.53046816  7.61661397 -8.1271538\n",
      " -7.51794284  7.38831629  7.82440372  0.        ]\n",
      "[-9.27599959  6.92808834 -9.28164211  9.0352222   9.14672615 -9.78129852\n",
      " -9.05643737  8.87820872  9.44939861  0.        ]\n",
      "[-7.53422128  4.99725314 -7.83338317  7.72842427  7.39433024 -8.246197\n",
      " -7.32422256  7.01656724  8.48204724  0.        ]\n",
      "[-8.37943448  5.9234355  -8.5201856   8.44489921  8.24199149 -8.94096996\n",
      " -8.10819134  7.89606897  8.93009012  0.        ]\n",
      "[-7.77227574  5.71076517 -7.80657891  7.67114953  7.66459141 -8.20509375\n",
      " -7.56032088  7.39578404  7.99360087  0.        ]\n",
      "[-8.97736061  5.96572728 -9.35859112  9.11762129  8.79024658 -9.85472734\n",
      " -8.83474527  8.41754259 10.00632048  0.        ]\n",
      "[-13.67496192  10.89731014 -13.26482465  12.96613817  13.47034707\n",
      " -13.99784525 -13.24149022  13.26291138  12.97302438   0.        ]\n",
      "[-4.57428566  4.31328873 -3.88748155  3.77852856  4.50663482 -4.26937301\n",
      " -4.22964706  4.60437736  3.3265739   0.        ]\n",
      "[-7.556527    6.91974975 -6.84283533  6.72013122  7.53342993 -7.18891418\n",
      " -7.21029358  7.53873312  5.97674473  0.        ]\n",
      "[-4.79773309  4.49136051 -4.37576686  4.20686401  4.84095014 -4.50211823\n",
      " -4.67483445  4.83929549  3.61519455  0.        ]\n",
      "[-2.13535864  2.08808575 -1.80504485  1.66588445  2.14716692 -1.93860794\n",
      " -2.03808497  2.19225777  1.36601797  0.        ]\n",
      "[-2.13375866  2.05513076 -1.83893994  1.69900723  2.15096126 -1.94906036\n",
      " -2.05571555  2.18679237  1.39773169  0.        ]\n",
      "[-1.45362442  1.54161966 -1.02426343  0.8867119   1.42504107 -1.26546862\n",
      " -1.29085634  1.52641628  0.71312468  0.        ]\n",
      "[-5.7279107   5.25198458 -5.01827871  4.88238543  5.64652436 -5.42491778\n",
      " -5.35950288  5.73803128  4.37786698  0.        ]\n",
      "[-6.67521457  5.92652712 -6.10476985  5.93390906  6.62148517 -6.42422654\n",
      " -6.38664041  6.65079824  5.38263639  0.        ]\n",
      "[-3.96028252  3.56769755 -3.56334495  3.38167067  3.93561319 -3.77040825\n",
      " -3.79964192  3.98514068  3.0222502   0.        ]\n",
      "[-3.7436246   3.33538097 -3.38085422  3.21339158  3.71773056 -3.57674298\n",
      " -3.5916169   3.758994    2.88338474  0.        ]\n",
      "[-2.00763939  1.76228492 -1.78120945  1.63934939  1.99411511 -1.90423406\n",
      " -1.92821392  2.03074943  1.44748585  0.        ]\n",
      "[-1.19566988  1.22929705 -0.74805391  0.57589412  1.1221925  -1.04813538\n",
      " -0.99607121  1.27059007  0.5228977   0.        ]\n",
      "[-16.62871826  14.77798298 -15.3064719   15.15967819  16.47517756\n",
      " -16.04535049 -15.84604676  16.5078207   13.78564829   0.        ]\n",
      "[-18.98175783  17.11877307 -17.42125012  17.19803676  18.84681169\n",
      " -18.20837828 -18.13140607  18.93631096  15.49407468   0.        ]\n",
      "[-19.66962355  17.76654631 -17.93459993  17.67489697  19.48418898\n",
      " -18.89204689 -18.7104153   19.61433217  16.05120159   0.        ]\n",
      "[-19.95520216  18.02039273 -18.25484724  18.03344579  19.79582594\n",
      " -19.1538323  -19.01697369  19.88972062  16.30275402   0.        ]\n",
      "[-20.79125911  18.83467593 -18.93100775  18.67533399  20.60148995\n",
      " -19.94507069 -19.76589614  20.73335053  16.92597704   0.        ]\n",
      "[-19.23468793  17.40986519 -17.54597288  17.27195567  19.06684611\n",
      " -18.45635306 -18.32090044  19.20184637  15.65188654   0.        ]\n",
      "[-19.48092896  17.4974146  -17.82065353  17.61686793  19.2978453\n",
      " -18.7416113  -18.53349628  19.38233522  16.00130595   0.        ]\n",
      "[-18.55283869  16.70960196 -16.97119922  16.81845184  18.401414\n",
      " -17.82605809 -17.65170822  18.44823684  15.22150213   0.        ]\n",
      "[-19.51099381  17.53331873 -17.82393931  17.66203326  19.32701879\n",
      " -18.77043775 -18.52910015  19.38598033  16.05041926   0.        ]\n",
      "[-18.1396531   16.44577945 -16.59424322  16.34228865  18.01471886\n",
      " -17.37941351 -17.32108671  18.126528    14.72853723   0.        ]\n",
      "[-17.93521716  16.88855185 -16.217053    15.74797417  17.90591813\n",
      " -16.92487208 -17.22870222  18.16828964  13.88590842   0.        ]\n",
      "[-16.09054307  15.02532207 -14.61704863  14.23397307  16.06228505\n",
      " -15.22712104 -15.46733827  16.26284553  12.57313461   0.        ]\n",
      "[-17.05932018  15.8913062  -15.52535557  15.13869166  17.02854066\n",
      " -16.15946679 -16.39812529  17.22994256  13.38968419   0.        ]\n",
      "[-14.15543007  13.55677774 -12.79612594  12.35247718  14.20945802\n",
      " -13.24829754 -13.69889678  14.43204113  10.68557643   0.        ]\n",
      "[-15.33007025  14.74766915 -13.86815129  13.37898221  15.41066613\n",
      " -14.32481223 -14.86223206  15.64906521  11.53356499   0.        ]\n",
      "[-19.70440104  17.87864643 -17.94313036  17.64079778  19.53037373\n",
      " -18.89575903 -18.76160605  19.68922792  15.99097172   0.        ]\n",
      "[-15.51980703  13.81202784 -14.2898128   14.1312833   15.38594506\n",
      " -14.95776743 -14.80613156  15.43108965  12.81718013   0.        ]\n",
      "[-18.55686484  17.1986476  -16.79827849  16.37539989  18.4534667\n",
      " -17.64373408 -17.73756245  18.69366902  14.66248295   0.        ]\n",
      "[-19.5228793   17.59456649 -17.85466169  17.62240181  19.35356433\n",
      " -18.75249698 -18.59449968  19.45476514  15.96350597   0.        ]\n",
      "[-19.62032651  17.5496654  -17.99901838  17.81984303  19.43795912\n",
      " -18.90043056 -18.67596746  19.49579895  16.19412668   0.        ]\n",
      "[-19.94667375  17.99671339 -18.24839257  18.01479146  19.78124846\n",
      " -19.14469022 -19.00673547  19.88564422  16.28865165   0.        ]\n",
      "[-15.5359035   13.89583265 -14.14628618  13.97542475  15.35517784\n",
      " -14.96286724 -14.71749291  15.43879103  12.75965266   0.        ]\n",
      "[-19.67534109  17.7134846  -18.04453112  17.82001814  19.51888435\n",
      " -18.89207305 -18.77042833  19.60979497  16.09787098   0.        ]\n",
      "[-19.71066981  17.72580689 -18.03078169  17.79386672  19.52888664\n",
      " -18.94590873 -18.76395277  19.63619482  16.14339974   0.        ]\n",
      "[-20.3672688   18.42861286 -18.60715792  18.37917421  20.20458623\n",
      " -19.52669995 -19.39872599  20.31026363  16.59028884   0.        ]\n"
     ]
    },
    {
     "data": {
      "text/plain": [
       "166"
      ]
     },
     "execution_count": 48,
     "metadata": {},
     "output_type": "execute_result"
    }
   ],
   "source": [
    "num_zero = 0\n",
    "for row in dictionary2:\n",
    "    done = False\n",
    "    for col in row:\n",
    "        if col == 0 and not done:\n",
    "            num_zero += 1\n",
    "            done = True\n",
    "            print(row)\n",
    "num_zero"
   ]
  },
  {
   "cell_type": "code",
   "execution_count": null,
   "metadata": {},
   "outputs": [],
   "source": []
  }
 ],
 "metadata": {
  "kernelspec": {
   "display_name": "Python 3",
   "language": "python",
   "name": "python3"
  },
  "language_info": {
   "codemirror_mode": {
    "name": "ipython",
    "version": 3
   },
   "file_extension": ".py",
   "mimetype": "text/x-python",
   "name": "python",
   "nbconvert_exporter": "python",
   "pygments_lexer": "ipython3",
   "version": "3.7.3"
  }
 },
 "nbformat": 4,
 "nbformat_minor": 2
}
