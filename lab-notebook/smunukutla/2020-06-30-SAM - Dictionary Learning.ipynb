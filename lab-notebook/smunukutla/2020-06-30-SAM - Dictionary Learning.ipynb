{
 "cells": [
  {
   "cell_type": "code",
   "execution_count": 86,
   "metadata": {},
   "outputs": [],
   "source": [
    "# environment set up\n",
    "import tensorflow as tf\n",
    "import tensorflow.keras\n",
    "from tensorflow.keras.models import Sequential\n",
    "from tensorflow.keras.layers import Dense\n",
    "from tensorflow.keras.utils import to_categorical\n",
    "import numpy as np\n",
    "import matplotlib.pyplot as plt\n",
    "import os\n",
    "import random\n",
    "import pandas as pd\n",
    "import time\n",
    "import ast\n",
    "from scipy import stats as st"
   ]
  },
  {
   "cell_type": "code",
   "execution_count": 87,
   "metadata": {},
   "outputs": [],
   "source": [
    "spectrum_len = 500 # automate this\n",
    "\n",
    "parent_dir = os.environ['PWD']\n",
    "data_dir = os.environ['DATA_DIR']\n",
    "stddata_path = os.path.join(data_dir, \"StdData-\" + str(spectrum_len))\n",
    "\n",
    "os.chdir(os.path.join(parent_dir, \"lab-notebook\", \"smunukutla\"))"
   ]
  },
  {
   "cell_type": "code",
   "execution_count": 88,
   "metadata": {},
   "outputs": [],
   "source": [
    "data = pd.read_csv(\"data.csv\", sep=\",\")\n",
    "record_nums = data.iloc[0, :].tolist()\n",
    "spectrum_names = data.iloc[1, :].tolist()\n",
    "y = data.iloc[2, :].astype(int).tolist()\n",
    "y = np.reshape(y, (len(y), 1))\n",
    "num_samples = len(y)"
   ]
  },
  {
   "cell_type": "code",
   "execution_count": 89,
   "metadata": {},
   "outputs": [
    {
     "data": {
      "text/plain": [
       "166"
      ]
     },
     "execution_count": 89,
     "metadata": {},
     "output_type": "execute_result"
    }
   ],
   "source": [
    "num_samples"
   ]
  },
  {
   "cell_type": "code",
   "execution_count": 90,
   "metadata": {},
   "outputs": [
    {
     "data": {
      "text/html": [
       "<div>\n",
       "<style scoped>\n",
       "    .dataframe tbody tr th:only-of-type {\n",
       "        vertical-align: middle;\n",
       "    }\n",
       "\n",
       "    .dataframe tbody tr th {\n",
       "        vertical-align: top;\n",
       "    }\n",
       "\n",
       "    .dataframe thead th {\n",
       "        text-align: right;\n",
       "    }\n",
       "</style>\n",
       "<table border=\"1\" class=\"dataframe\">\n",
       "  <thead>\n",
       "    <tr style=\"text-align: right;\">\n",
       "      <th></th>\n",
       "      <th>0</th>\n",
       "      <th>1</th>\n",
       "      <th>2</th>\n",
       "      <th>3</th>\n",
       "      <th>4</th>\n",
       "      <th>5</th>\n",
       "      <th>6</th>\n",
       "      <th>7</th>\n",
       "      <th>8</th>\n",
       "      <th>9</th>\n",
       "      <th>...</th>\n",
       "      <th>156</th>\n",
       "      <th>157</th>\n",
       "      <th>158</th>\n",
       "      <th>159</th>\n",
       "      <th>160</th>\n",
       "      <th>161</th>\n",
       "      <th>162</th>\n",
       "      <th>163</th>\n",
       "      <th>164</th>\n",
       "      <th>165</th>\n",
       "    </tr>\n",
       "  </thead>\n",
       "  <tbody>\n",
       "    <tr>\n",
       "      <th>0</th>\n",
       "      <td>00108</td>\n",
       "      <td>00114</td>\n",
       "      <td>00120</td>\n",
       "      <td>00124</td>\n",
       "      <td>00130</td>\n",
       "      <td>00142</td>\n",
       "      <td>00148</td>\n",
       "      <td>00154</td>\n",
       "      <td>00158</td>\n",
       "      <td>00177</td>\n",
       "      <td>...</td>\n",
       "      <td>10896</td>\n",
       "      <td>10917</td>\n",
       "      <td>10938</td>\n",
       "      <td>10946</td>\n",
       "      <td>10967</td>\n",
       "      <td>10988</td>\n",
       "      <td>11009</td>\n",
       "      <td>11030</td>\n",
       "      <td>11051</td>\n",
       "      <td>11072</td>\n",
       "    </tr>\n",
       "    <tr>\n",
       "      <th>1</th>\n",
       "      <td>Actinolite</td>\n",
       "      <td>Actinolite</td>\n",
       "      <td>Actinolite</td>\n",
       "      <td>Actinolite</td>\n",
       "      <td>Actinolite</td>\n",
       "      <td>Actinolite</td>\n",
       "      <td>Actinolite</td>\n",
       "      <td>Actinolite</td>\n",
       "      <td>Actinolite</td>\n",
       "      <td>Actinolite</td>\n",
       "      <td>...</td>\n",
       "      <td>Topaz</td>\n",
       "      <td>Topaz</td>\n",
       "      <td>Topaz</td>\n",
       "      <td>Topaz</td>\n",
       "      <td>Topaz</td>\n",
       "      <td>Topaz</td>\n",
       "      <td>Topaz</td>\n",
       "      <td>Topaz</td>\n",
       "      <td>Topaz</td>\n",
       "      <td>Topaz</td>\n",
       "    </tr>\n",
       "    <tr>\n",
       "      <th>2</th>\n",
       "      <td>4</td>\n",
       "      <td>4</td>\n",
       "      <td>4</td>\n",
       "      <td>4</td>\n",
       "      <td>4</td>\n",
       "      <td>4</td>\n",
       "      <td>4</td>\n",
       "      <td>4</td>\n",
       "      <td>4</td>\n",
       "      <td>4</td>\n",
       "      <td>...</td>\n",
       "      <td>0</td>\n",
       "      <td>0</td>\n",
       "      <td>0</td>\n",
       "      <td>0</td>\n",
       "      <td>0</td>\n",
       "      <td>0</td>\n",
       "      <td>0</td>\n",
       "      <td>0</td>\n",
       "      <td>0</td>\n",
       "      <td>0</td>\n",
       "    </tr>\n",
       "  </tbody>\n",
       "</table>\n",
       "<p>3 rows × 166 columns</p>\n",
       "</div>"
      ],
      "text/plain": [
       "            0           1           2           3           4           5  \\\n",
       "0       00108       00114       00120       00124       00130       00142   \n",
       "1  Actinolite  Actinolite  Actinolite  Actinolite  Actinolite  Actinolite   \n",
       "2           4           4           4           4           4           4   \n",
       "\n",
       "            6           7           8           9  ...    156    157    158  \\\n",
       "0       00148       00154       00158       00177  ...  10896  10917  10938   \n",
       "1  Actinolite  Actinolite  Actinolite  Actinolite  ...  Topaz  Topaz  Topaz   \n",
       "2           4           4           4           4  ...      0      0      0   \n",
       "\n",
       "     159    160    161    162    163    164    165  \n",
       "0  10946  10967  10988  11009  11030  11051  11072  \n",
       "1  Topaz  Topaz  Topaz  Topaz  Topaz  Topaz  Topaz  \n",
       "2      0      0      0      0      0      0      0  \n",
       "\n",
       "[3 rows x 166 columns]"
      ]
     },
     "execution_count": 90,
     "metadata": {},
     "output_type": "execute_result"
    }
   ],
   "source": [
    "data"
   ]
  },
  {
   "cell_type": "code",
   "execution_count": 91,
   "metadata": {},
   "outputs": [],
   "source": [
    "spectra = np.zeros((num_samples,spectrum_len))\n",
    "wavelengths = np.zeros((1,spectrum_len))"
   ]
  },
  {
   "cell_type": "code",
   "execution_count": 92,
   "metadata": {},
   "outputs": [],
   "source": [
    "for i in range(len(record_nums)):\n",
    "    data = pd.read_csv(os.path.join(stddata_path,\"{}.csv\".format(record_nums[i])))\n",
    "    if i == 0:\n",
    "        wavelengths[i,:] = data.iloc[:, 0].to_numpy()\n",
    "    spectra[i,:] = data.iloc[:, 1].to_numpy()"
   ]
  },
  {
   "cell_type": "code",
   "execution_count": 93,
   "metadata": {},
   "outputs": [
    {
     "data": {
      "text/plain": [
       "numpy.ndarray"
      ]
     },
     "execution_count": 93,
     "metadata": {},
     "output_type": "execute_result"
    }
   ],
   "source": [
    "type(spectra)"
   ]
  },
  {
   "cell_type": "code",
   "execution_count": 94,
   "metadata": {},
   "outputs": [],
   "source": [
    "y_cat = to_categorical(y)"
   ]
  },
  {
   "cell_type": "code",
   "execution_count": 95,
   "metadata": {},
   "outputs": [
    {
     "data": {
      "text/html": [
       "<div>\n",
       "<style scoped>\n",
       "    .dataframe tbody tr th:only-of-type {\n",
       "        vertical-align: middle;\n",
       "    }\n",
       "\n",
       "    .dataframe tbody tr th {\n",
       "        vertical-align: top;\n",
       "    }\n",
       "\n",
       "    .dataframe thead th {\n",
       "        text-align: right;\n",
       "    }\n",
       "</style>\n",
       "<table border=\"1\" class=\"dataframe\">\n",
       "  <thead>\n",
       "    <tr style=\"text-align: right;\">\n",
       "      <th></th>\n",
       "      <th>wavelength</th>\n",
       "      <th>reflectance</th>\n",
       "    </tr>\n",
       "  </thead>\n",
       "  <tbody>\n",
       "    <tr>\n",
       "      <th>0</th>\n",
       "      <td>0.370000</td>\n",
       "      <td>0.878464</td>\n",
       "    </tr>\n",
       "    <tr>\n",
       "      <th>1</th>\n",
       "      <td>0.374269</td>\n",
       "      <td>0.878143</td>\n",
       "    </tr>\n",
       "    <tr>\n",
       "      <th>2</th>\n",
       "      <td>0.378537</td>\n",
       "      <td>0.875394</td>\n",
       "    </tr>\n",
       "    <tr>\n",
       "      <th>3</th>\n",
       "      <td>0.382806</td>\n",
       "      <td>0.877019</td>\n",
       "    </tr>\n",
       "    <tr>\n",
       "      <th>4</th>\n",
       "      <td>0.387074</td>\n",
       "      <td>0.878757</td>\n",
       "    </tr>\n",
       "  </tbody>\n",
       "</table>\n",
       "</div>"
      ],
      "text/plain": [
       "   wavelength  reflectance\n",
       "0    0.370000     0.878464\n",
       "1    0.374269     0.878143\n",
       "2    0.378537     0.875394\n",
       "3    0.382806     0.877019\n",
       "4    0.387074     0.878757"
      ]
     },
     "execution_count": 95,
     "metadata": {},
     "output_type": "execute_result"
    }
   ],
   "source": [
    "data.head(5)"
   ]
  },
  {
   "cell_type": "code",
   "execution_count": 96,
   "metadata": {},
   "outputs": [
    {
     "data": {
      "text/plain": [
       "(166, 500)"
      ]
     },
     "execution_count": 96,
     "metadata": {},
     "output_type": "execute_result"
    }
   ],
   "source": [
    "spectra.shape"
   ]
  },
  {
   "cell_type": "code",
   "execution_count": 97,
   "metadata": {},
   "outputs": [
    {
     "data": {
      "text/plain": [
       "array([[0.36625177, 0.37408954, 0.38041823, ..., 0.69747148, 0.69613203,\n",
       "        0.69590056],\n",
       "       [0.22933248, 0.23542408, 0.24072858, ..., 0.57995432, 0.57845447,\n",
       "        0.58057582],\n",
       "       [0.10552621, 0.10864627, 0.11163579, ..., 0.3127732 , 0.31293405,\n",
       "        0.31438494],\n",
       "       ...,\n",
       "       [0.84827669, 0.8483359 , 0.84993451, ..., 0.73254605, 0.72484708,\n",
       "        0.71382553],\n",
       "       [0.88008486, 0.88482508, 0.88539167, ..., 0.75476558, 0.74785095,\n",
       "        0.7386977 ],\n",
       "       [0.87846376, 0.87814294, 0.87539409, ..., 0.7541015 , 0.74652251,\n",
       "        0.73594507]])"
      ]
     },
     "execution_count": 97,
     "metadata": {},
     "output_type": "execute_result"
    }
   ],
   "source": [
    "spectra"
   ]
  },
  {
   "cell_type": "code",
   "execution_count": 98,
   "metadata": {},
   "outputs": [],
   "source": [
    "y_cat = to_categorical(y)"
   ]
  },
  {
   "cell_type": "code",
   "execution_count": 99,
   "metadata": {},
   "outputs": [],
   "source": [
    "from sklearn.decomposition import DictionaryLearning"
   ]
  },
  {
   "cell_type": "code",
   "execution_count": 100,
   "metadata": {},
   "outputs": [],
   "source": [
    "model = DictionaryLearning(n_components=10, alpha=1, verbose=True)"
   ]
  },
  {
   "cell_type": "code",
   "execution_count": 101,
   "metadata": {},
   "outputs": [
    {
     "name": "stdout",
     "output_type": "stream",
     "text": [
      "[dict_learning] .+.+.+.+.+.+.+.+.+.+.+.+.+.+.+.+.+.+.+.+.+.+.+.+.+.+.+.+.+.+.+.+.+.+.+.+.+.+.+.+.+.+.+.+.+.+.+.+.+.+.+.+.+\n"
     ]
    }
   ],
   "source": [
    "atoms = model.fit_transform(spectra)"
   ]
  },
  {
   "cell_type": "code",
   "execution_count": 102,
   "metadata": {},
   "outputs": [
    {
     "data": {
      "text/plain": [
       "(166, 10)"
      ]
     },
     "execution_count": 102,
     "metadata": {},
     "output_type": "execute_result"
    }
   ],
   "source": [
    "atoms.shape"
   ]
  },
  {
   "cell_type": "code",
   "execution_count": 103,
   "metadata": {},
   "outputs": [
    {
     "name": "stdout",
     "output_type": "stream",
     "text": [
      "[[-1.17884132e+01  2.32420079e-01 -2.60517183e+00 ... -1.65090195e+00\n",
      "   4.01075341e-01 -7.25813368e-03]\n",
      " [-7.29529135e+00  1.54965482e-01 -6.43442354e+00 ... -2.01258144e+00\n",
      "   4.78536210e-01 -1.46621317e-02]\n",
      " [ 7.37385252e-02  3.62634057e-01 -8.00459328e+00 ... -6.28602988e-01\n",
      "  -2.48872353e-02 -8.39894660e-03]\n",
      " ...\n",
      " [-1.29424358e+01 -7.55798880e-01 -1.05650292e+00 ...  1.01927988e+01\n",
      "  -2.04191317e-01  7.49543370e-03]\n",
      " [-1.35125463e+01 -1.03477898e+00 -1.11022537e+00 ...  9.80525977e+00\n",
      "  -7.76125078e-01 -2.84531334e-04]\n",
      " [-1.32707608e+01 -5.78728410e-01  2.08631576e-01 ...  9.78776857e+00\n",
      "   1.23607928e-01  1.66371782e-02]]\n"
     ]
    }
   ],
   "source": [
    "print(atoms)"
   ]
  },
  {
   "cell_type": "code",
   "execution_count": 104,
   "metadata": {},
   "outputs": [],
   "source": [
    "model2 = DictionaryLearning(n_components=10, alpha=1, transform_algorithm='threshold', verbose=True)"
   ]
  },
  {
   "cell_type": "code",
   "execution_count": 105,
   "metadata": {},
   "outputs": [
    {
     "name": "stdout",
     "output_type": "stream",
     "text": [
      "[dict_learning] .+.+.+.+.+.+.+.+.+.+.+.+.+.+.+.+.+.+.+.+.+.+.+.+.+.+.+.+.+.+.+.+.+.+.+.+.+.+.+.+.+.+.+.+.+.+.+.+.+.+.+.+.+\n"
     ]
    }
   ],
   "source": [
    "atoms2 = model2.fit_transform(spectra)"
   ]
  },
  {
   "cell_type": "code",
   "execution_count": 106,
   "metadata": {},
   "outputs": [
    {
     "data": {
      "text/plain": [
       "(166, 10)"
      ]
     },
     "execution_count": 106,
     "metadata": {},
     "output_type": "execute_result"
    }
   ],
   "source": [
    "atoms2.shape"
   ]
  },
  {
   "cell_type": "code",
   "execution_count": 107,
   "metadata": {},
   "outputs": [
    {
     "name": "stdout",
     "output_type": "stream",
     "text": [
      "[[-13.96702235  11.76187847 -13.5262892  ...  13.69659925  12.32970097\n",
      "   -0.        ]\n",
      " [-12.00684005   9.64230327 -12.25027701 ...  11.72398555  11.13384119\n",
      "    0.        ]\n",
      " [ -6.9408455    5.19291353  -7.63619502 ...   6.77768826   6.81191958\n",
      "    0.        ]\n",
      " ...\n",
      " [-19.67534109  17.7134846  -18.04453112 ...  19.60979497  16.09787098\n",
      "   -0.        ]\n",
      " [-19.71066981  17.72580689 -18.03078169 ...  19.63619482  16.14339974\n",
      "   -0.        ]\n",
      " [-20.3672688   18.42861286 -18.60715792 ...  20.31026363  16.59028884\n",
      "   -0.        ]]\n"
     ]
    }
   ],
   "source": [
    "print(atoms2)"
   ]
  },
  {
   "cell_type": "code",
   "execution_count": 108,
   "metadata": {},
   "outputs": [
    {
     "data": {
      "text/plain": [
       "{'alpha': 1,\n",
       " 'code_init': None,\n",
       " 'dict_init': None,\n",
       " 'fit_algorithm': 'lars',\n",
       " 'max_iter': 1000,\n",
       " 'n_components': 10,\n",
       " 'n_jobs': None,\n",
       " 'positive_code': False,\n",
       " 'positive_dict': False,\n",
       " 'random_state': None,\n",
       " 'split_sign': False,\n",
       " 'tol': 1e-08,\n",
       " 'transform_algorithm': 'omp',\n",
       " 'transform_alpha': None,\n",
       " 'transform_n_nonzero_coefs': None,\n",
       " 'verbose': True}"
      ]
     },
     "execution_count": 108,
     "metadata": {},
     "output_type": "execute_result"
    }
   ],
   "source": [
    "model.get_params()"
   ]
  },
  {
   "cell_type": "code",
   "execution_count": 109,
   "metadata": {},
   "outputs": [
    {
     "name": "stdout",
     "output_type": "stream",
     "text": [
      "[[-0.03576344 -0.03586424 -0.03608334 ... -0.04367278 -0.04356272\n",
      "  -0.04343269]\n",
      " [ 0.02333185  0.02426826  0.02531973 ...  0.0048098   0.0045162\n",
      "   0.00414729]\n",
      " [-0.01466709 -0.01506379 -0.01531206 ... -0.03734992 -0.03729115\n",
      "  -0.03741644]\n",
      " ...\n",
      " [ 0.04298044  0.0432337   0.04325401 ...  0.02180551  0.02105525\n",
      "   0.02026596]\n",
      " [ 0.00781883  0.00835778  0.00902266 ...  0.06802284  0.06813333\n",
      "   0.06787213]\n",
      " [-0.03182379 -0.03162639  0.04344017 ... -0.02905633 -0.05442185\n",
      "   0.08196619]]\n"
     ]
    }
   ],
   "source": [
    "print(model.components_)"
   ]
  },
  {
   "cell_type": "code",
   "execution_count": 110,
   "metadata": {},
   "outputs": [
    {
     "data": {
      "text/plain": [
       "(10, 500)"
      ]
     },
     "execution_count": 110,
     "metadata": {},
     "output_type": "execute_result"
    }
   ],
   "source": [
    "model.components_.shape"
   ]
  },
  {
   "cell_type": "code",
   "execution_count": 111,
   "metadata": {},
   "outputs": [
    {
     "name": "stdout",
     "output_type": "stream",
     "text": [
      "[[-0.03576344 -0.03586424 -0.03608334 ... -0.04367278 -0.04356272\n",
      "  -0.04343269]\n",
      " [ 0.02333185  0.02426826  0.02531973 ...  0.0048098   0.0045162\n",
      "   0.00414729]\n",
      " [-0.01466709 -0.01506379 -0.01531206 ... -0.03734992 -0.03729115\n",
      "  -0.03741644]\n",
      " ...\n",
      " [ 0.04298044  0.0432337   0.04325401 ...  0.02180551  0.02105525\n",
      "   0.02026596]\n",
      " [ 0.00781883  0.00835778  0.00902266 ...  0.06802284  0.06813333\n",
      "   0.06787213]\n",
      " [-0.0471931  -0.07783983  0.06192252 ... -0.07073107 -0.02864239\n",
      "   0.09889688]]\n"
     ]
    }
   ],
   "source": [
    "print(model2.components_)"
   ]
  },
  {
   "cell_type": "code",
   "execution_count": 112,
   "metadata": {},
   "outputs": [
    {
     "data": {
      "text/plain": [
       "(10, 500)"
      ]
     },
     "execution_count": 112,
     "metadata": {},
     "output_type": "execute_result"
    }
   ],
   "source": [
    "model2.components_.shape"
   ]
  },
  {
   "cell_type": "markdown",
   "metadata": {},
   "source": [
    "approximate with the training data\n",
    "run transform on the training data to find the reconstructed spectra\n",
    "\n",
    "166 x 10 X 10 x 500\n",
    "\n",
    "approximation of an integral\n",
    "\n",
    "thresholding is bad to get coefficients\n",
    "\n",
    "use max distance\n",
    "\n",
    "take each row at a time and then take the norm of each\n",
    "\n",
    "L2 norm / number of points\n",
    "\n",
    "model.transform(spectra) is the same thing as atoms"
   ]
  },
  {
   "cell_type": "code",
   "execution_count": 113,
   "metadata": {},
   "outputs": [],
   "source": [
    "reconstructed_spectra = atoms.dot(model.components_)"
   ]
  },
  {
   "cell_type": "code",
   "execution_count": 114,
   "metadata": {},
   "outputs": [
    {
     "data": {
      "text/plain": [
       "array([[0.40550162, 0.40785675, 0.41104766, ..., 0.70026909, 0.69993051,\n",
       "        0.69892633],\n",
       "       [0.27147791, 0.27447533, 0.27679264, ..., 0.6047778 , 0.60529683,\n",
       "        0.60467358],\n",
       "       [0.11456153, 0.11836301, 0.12037575, ..., 0.32340793, 0.32325094,\n",
       "        0.32358448],\n",
       "       ...,\n",
       "       [0.83103883, 0.83245797, 0.83335574, ..., 0.72732652, 0.71750587,\n",
       "        0.70843045],\n",
       "       [0.85167042, 0.85321244, 0.85367602, ..., 0.74411888, 0.73486882,\n",
       "        0.72521108],\n",
       "       [0.84573788, 0.84800093, 0.85080536, ..., 0.75161639, 0.74231126,\n",
       "        0.73500805]])"
      ]
     },
     "execution_count": 114,
     "metadata": {},
     "output_type": "execute_result"
    }
   ],
   "source": [
    "reconstructed_spectra"
   ]
  },
  {
   "cell_type": "code",
   "execution_count": 115,
   "metadata": {},
   "outputs": [
    {
     "data": {
      "text/plain": [
       "(166, 500)"
      ]
     },
     "execution_count": 115,
     "metadata": {},
     "output_type": "execute_result"
    }
   ],
   "source": [
    "reconstructed_spectra.shape"
   ]
  },
  {
   "cell_type": "code",
   "execution_count": 116,
   "metadata": {},
   "outputs": [],
   "source": [
    "distances = []\n",
    "for i in range(len(spectra)):\n",
    "    distances.append(np.linalg.norm(spectra[i] - reconstructed_spectra[i]))"
   ]
  },
  {
   "cell_type": "code",
   "execution_count": 132,
   "metadata": {},
   "outputs": [
    {
     "data": {
      "text/plain": [
       "[0.18240011170537185,\n",
       " 0.23261109633068944,\n",
       " 0.1779214112877328,\n",
       " 0.14636382943374743,\n",
       " 0.13785020675670717,\n",
       " 0.2020514386315465,\n",
       " 0.1776210340922693,\n",
       " 0.11576809385760044,\n",
       " 0.08826682158645958,\n",
       " 0.19627480509188222,\n",
       " 0.22030692183059272,\n",
       " 0.3165936398103684,\n",
       " 0.2950619779672156,\n",
       " 0.19420066690119234,\n",
       " 0.2044226949990903,\n",
       " 0.3096985074252645,\n",
       " 0.12287789076319482,\n",
       " 0.1682531996900577,\n",
       " 0.18496811116977094,\n",
       " 0.28648336679831493,\n",
       " 0.38045858270909433,\n",
       " 0.11247284075537063,\n",
       " 0.13124529179193614,\n",
       " 0.1777163996683096,\n",
       " 0.13473061697130578,\n",
       " 0.30301435744387173,\n",
       " 0.7155707700300002,\n",
       " 0.09396680321560942,\n",
       " 0.31262611132792434,\n",
       " 0.339047097436678,\n",
       " 0.31855986611389414,\n",
       " 0.3815841569265085,\n",
       " 0.2434202970261837,\n",
       " 0.6043581665038747,\n",
       " 0.48469140363257907,\n",
       " 0.7654328599897003,\n",
       " 0.30981486943636544,\n",
       " 0.3626251101982086,\n",
       " 0.40639038819248113,\n",
       " 0.22123912797702833,\n",
       " 0.14252610397772641,\n",
       " 0.1736975473767143,\n",
       " 0.4601368399046435,\n",
       " 0.3256476022072112,\n",
       " 0.5412737197275255,\n",
       " 0.6707413874274938,\n",
       " 0.1278907798088386,\n",
       " 0.28630140710474855,\n",
       " 0.3456036767299416,\n",
       " 0.3528400045084153,\n",
       " 0.2904823931962105,\n",
       " 0.27384218687694883,\n",
       " 0.25112643221586434,\n",
       " 0.1544021114111834,\n",
       " 0.39956487389306694,\n",
       " 0.3753071404258658,\n",
       " 0.37802879421952934,\n",
       " 0.18280703040372834,\n",
       " 0.2798938072279106,\n",
       " 0.18720963824602488,\n",
       " 0.31169980954271786,\n",
       " 0.08897891976117124,\n",
       " 0.09673513801748494,\n",
       " 0.15955944453912566,\n",
       " 0.2101256563266034,\n",
       " 0.22387491505092366,\n",
       " 0.24960105963504703,\n",
       " 0.24278740180394234,\n",
       " 0.13354425820789528,\n",
       " 0.12763569891147536,\n",
       " 0.2350003625111586,\n",
       " 0.10888834943424854,\n",
       " 0.09861685834110186,\n",
       " 0.15610210692387444,\n",
       " 0.27973406371157944,\n",
       " 0.4767463631057016,\n",
       " 0.5268067599165505,\n",
       " 0.11584263345125434,\n",
       " 0.12906294884021516,\n",
       " 0.33478907379976286,\n",
       " 0.28174536598372046,\n",
       " 0.46961846057112544,\n",
       " 0.5332512809639448,\n",
       " 0.5627186145021751,\n",
       " 0.3961228065832052,\n",
       " 0.4857971086957541,\n",
       " 0.4720045677007656,\n",
       " 0.3468447386431221,\n",
       " 0.30635933729674386,\n",
       " 0.32534784092817726,\n",
       " 0.33014487917907703,\n",
       " 0.26011323226156013,\n",
       " 0.2530730786297898,\n",
       " 0.24709221741186158,\n",
       " 0.23695432684931247,\n",
       " 0.4278374249209952,\n",
       " 0.20184700677362044,\n",
       " 0.35027268563749736,\n",
       " 0.3354162197901176,\n",
       " 0.09584196064228559,\n",
       " 0.4207623499182575,\n",
       " 0.2288357121112614,\n",
       " 0.2854369702462428,\n",
       " 0.20941508615597773,\n",
       " 0.2077540766121787,\n",
       " 0.28229733324695405,\n",
       " 0.26446620112456243,\n",
       " 0.23168194564658454,\n",
       " 0.19301109649778322,\n",
       " 0.16353859106953733,\n",
       " 0.23218570520728776,\n",
       " 0.12454922130263806,\n",
       " 0.13074149414782332,\n",
       " 0.25936369195734527,\n",
       " 0.3076893880954586,\n",
       " 0.20038616664736328,\n",
       " 0.1137405473236131,\n",
       " 0.19852954018904748,\n",
       " 0.18705132742934405,\n",
       " 0.19826048372680138,\n",
       " 0.31520870768817133,\n",
       " 0.20968432734822046,\n",
       " 0.18983662549875133,\n",
       " 0.21466086435340434,\n",
       " 0.3430966981485877,\n",
       " 0.2960094657181087,\n",
       " 0.24623959378049537,\n",
       " 0.19607026215096712,\n",
       " 0.13208578986016078,\n",
       " 0.12181606286427528,\n",
       " 0.45048393903309364,\n",
       " 0.5055110685287997,\n",
       " 0.27363248474298846,\n",
       " 0.27448428832405825,\n",
       " 0.22155057467675213,\n",
       " 0.17264167231877134,\n",
       " 0.2333487577831239,\n",
       " 0.2125894258880364,\n",
       " 0.21116303296517,\n",
       " 0.1715418357644855,\n",
       " 0.3001093933848978,\n",
       " 0.17252459989507962,\n",
       " 0.13918588950344052,\n",
       " 0.19913595527460665,\n",
       " 0.2014565045222291,\n",
       " 0.1604725636027427,\n",
       " 0.1826611220057963,\n",
       " 0.1654302093498361,\n",
       " 0.21348840389800905,\n",
       " 0.16854363708377515,\n",
       " 0.1629810890677827,\n",
       " 0.3226118391570236,\n",
       " 0.27924010490880186,\n",
       " 0.3540319844866702,\n",
       " 0.41271382933938533,\n",
       " 0.5468940593453983,\n",
       " 0.18841870529813234,\n",
       " 0.15273415352355524,\n",
       " 0.37466956263614815,\n",
       " 0.15083563655811835,\n",
       " 0.13894833755826322,\n",
       " 0.14756774310279744,\n",
       " 0.19112228246712268,\n",
       " 0.14668806156249467,\n",
       " 0.19432631635303824,\n",
       " 0.18371454692554307]"
      ]
     },
     "execution_count": 132,
     "metadata": {},
     "output_type": "execute_result"
    }
   ],
   "source": [
    "distances"
   ]
  },
  {
   "cell_type": "code",
   "execution_count": 118,
   "metadata": {},
   "outputs": [],
   "source": [
    "reconstructed_spectra2 = atoms2.dot(model2.components_)"
   ]
  },
  {
   "cell_type": "code",
   "execution_count": 119,
   "metadata": {},
   "outputs": [],
   "source": [
    "distances2 = []\n",
    "for i in range(len(spectra)):\n",
    "    distances2.append(np.linalg.norm(spectra[i] - reconstructed_spectra2[i]))"
   ]
  },
  {
   "cell_type": "code",
   "execution_count": 120,
   "metadata": {},
   "outputs": [
    {
     "data": {
      "text/plain": [
       "[99.49666756146343,\n",
       " 86.99262510524409,\n",
       " 51.25454028277164,\n",
       " 55.414283894866465,\n",
       " 35.72592591820711,\n",
       " 91.98585435446586,\n",
       " 80.08006575331812,\n",
       " 49.97989271540941,\n",
       " 50.84736167617028,\n",
       " 33.00295128641088,\n",
       " 118.66948307329083,\n",
       " 114.39069689424743,\n",
       " 58.05390903664985,\n",
       " 65.96289280280932,\n",
       " 34.468772305531246,\n",
       " 92.12856039674801,\n",
       " 128.56157180976996,\n",
       " 128.4955347163163,\n",
       " 131.65847647314695,\n",
       " 120.00535671897134,\n",
       " 95.30120247462867,\n",
       " 100.95776331753011,\n",
       " 125.82639582195888,\n",
       " 128.43814836131588,\n",
       " 113.42391968435071,\n",
       " 102.23761942035404,\n",
       " 67.7833906253574,\n",
       " 134.6102490567154,\n",
       " 130.60680568907947,\n",
       " 127.06183109061244,\n",
       " 109.38697166197521,\n",
       " 104.2818221645975,\n",
       " 127.09671431771332,\n",
       " 110.0428039214936,\n",
       " 106.85595386110786,\n",
       " 110.35385058396756,\n",
       " 93.68287445851921,\n",
       " 114.11043682490563,\n",
       " 121.89926391102266,\n",
       " 74.47579908590751,\n",
       " 70.97667550050983,\n",
       " 74.03616143983947,\n",
       " 52.26764612727498,\n",
       " 52.072975369225716,\n",
       " 98.06451831285023,\n",
       " 113.11906330920546,\n",
       " 104.35308121727772,\n",
       " 89.10403762885336,\n",
       " 60.8251720150301,\n",
       " 60.69983504262075,\n",
       " 41.38004111775188,\n",
       " 22.180703440864896,\n",
       " 73.75883816526947,\n",
       " 80.11491144431943,\n",
       " 66.59770449185845,\n",
       " 63.19043415461874,\n",
       " 39.95028997955777,\n",
       " 27.0028513236886,\n",
       " 78.66587571348374,\n",
       " 38.33436285361845,\n",
       " 92.24834996619319,\n",
       " 10.141592871762995,\n",
       " 9.931689937037774,\n",
       " 14.664829411725606,\n",
       " 18.94350986353445,\n",
       " 26.715111100990104,\n",
       " 36.46173501307651,\n",
       " 41.99592659944664,\n",
       " 10.18509885105093,\n",
       " 14.207551458459806,\n",
       " 46.865266595216326,\n",
       " 105.84320285260851,\n",
       " 114.76289699694902,\n",
       " 104.01478376844234,\n",
       " 92.76758112084707,\n",
       " 83.37399942721156,\n",
       " 111.44537028290097,\n",
       " 105.50597172541245,\n",
       " 120.33801239874754,\n",
       " 121.58107682536618,\n",
       " 111.44557000748635,\n",
       " 93.35539026448608,\n",
       " 66.4180142097758,\n",
       " 106.99811067514253,\n",
       " 117.38386959558724,\n",
       " 95.87404604471675,\n",
       " 99.40314327821623,\n",
       " 87.67698274361494,\n",
       " 113.71965541517602,\n",
       " 121.38860569832606,\n",
       " 124.846289509101,\n",
       " 102.69805916429404,\n",
       " 99.4515725026734,\n",
       " 102.5274382213465,\n",
       " 105.90773990268713,\n",
       " 109.17557995122051,\n",
       " 99.09234137693933,\n",
       " 106.8322065898199,\n",
       " 112.59070538621631,\n",
       " 95.84509351915224,\n",
       " 98.71453235634574,\n",
       " 87.8181445943622,\n",
       " 87.2068549005365,\n",
       " 95.67122676072488,\n",
       " 100.29567709958837,\n",
       " 59.124096129623126,\n",
       " 67.49972634873603,\n",
       " 65.86067682881557,\n",
       " 83.38529550374682,\n",
       " 80.57628750274192,\n",
       " 67.59489822085993,\n",
       " 88.57941797973707,\n",
       " 99.7040360075998,\n",
       " 59.83748392203901,\n",
       " 61.52044524345159,\n",
       " 88.7011377992693,\n",
       " 77.46955304527431,\n",
       " 52.16562200822962,\n",
       " 52.35450955385777,\n",
       " 51.58447719474233,\n",
       " 48.016752115619745,\n",
       " 62.18526813230392,\n",
       " 55.247296143319666,\n",
       " 66.6654119111921,\n",
       " 54.73948713189863,\n",
       " 60.439181972001464,\n",
       " 55.73426190166942,\n",
       " 65.44193764063414,\n",
       " 97.5603855673203,\n",
       " 30.3413944793276,\n",
       " 52.09501757853871,\n",
       " 32.7334764349332,\n",
       " 13.514204038342786,\n",
       " 13.590511128920745,\n",
       " 8.299473292579851,\n",
       " 38.66204020147558,\n",
       " 45.92930702071486,\n",
       " 26.581068460458923,\n",
       " 25.088202123047587,\n",
       " 12.783062608470377,\n",
       " 6.328996834439592,\n",
       " 116.58779251770186,\n",
       " 133.15758172039196,\n",
       " 137.72610118451695,\n",
       " 139.92116801129146,\n",
       " 145.5951351074429,\n",
       " 134.68138884978532,\n",
       " 136.53447626167159,\n",
       " 130.0242376628143,\n",
       " 136.7149648729051,\n",
       " 127.09081310780148,\n",
       " 125.25197217599145,\n",
       " 112.41370519055822,\n",
       " 119.32789463518253,\n",
       " 98.66706329712503,\n",
       " 107.01065127827367,\n",
       " 137.92389839792605,\n",
       " 108.73671137231607,\n",
       " 129.621901347796,\n",
       " 136.81942534521409,\n",
       " 137.6417201722412,\n",
       " 139.832311151767,\n",
       " 108.42936100811976,\n",
       " 138.01715873674007,\n",
       " 138.13307641009183,\n",
       " 142.7579626367061]"
      ]
     },
     "execution_count": 120,
     "metadata": {},
     "output_type": "execute_result"
    }
   ],
   "source": [
    "distances2"
   ]
  },
  {
   "cell_type": "code",
   "execution_count": 121,
   "metadata": {},
   "outputs": [
    {
     "data": {
      "text/plain": [
       "array([[0.40550162, 0.40785675, 0.41104766, ..., 0.70026909, 0.69993051,\n",
       "        0.69892633],\n",
       "       [0.27147791, 0.27447533, 0.27679264, ..., 0.6047778 , 0.60529683,\n",
       "        0.60467358],\n",
       "       [0.11456153, 0.11836301, 0.12037575, ..., 0.32340793, 0.32325094,\n",
       "        0.32358448],\n",
       "       ...,\n",
       "       [0.83103883, 0.83245797, 0.83335574, ..., 0.72732652, 0.71750587,\n",
       "        0.70843045],\n",
       "       [0.85167042, 0.85321244, 0.85367602, ..., 0.74411888, 0.73486882,\n",
       "        0.72521108],\n",
       "       [0.84573788, 0.84800093, 0.85080536, ..., 0.75161639, 0.74231126,\n",
       "        0.73500805]])"
      ]
     },
     "execution_count": 121,
     "metadata": {},
     "output_type": "execute_result"
    }
   ],
   "source": [
    "reconstructed_spectra"
   ]
  },
  {
   "cell_type": "code",
   "execution_count": 122,
   "metadata": {},
   "outputs": [
    {
     "data": {
      "text/plain": [
       "array([[0.36625177, 0.37408954, 0.38041823, ..., 0.69747148, 0.69613203,\n",
       "        0.69590056],\n",
       "       [0.22933248, 0.23542408, 0.24072858, ..., 0.57995432, 0.57845447,\n",
       "        0.58057582],\n",
       "       [0.10552621, 0.10864627, 0.11163579, ..., 0.3127732 , 0.31293405,\n",
       "        0.31438494],\n",
       "       ...,\n",
       "       [0.84827669, 0.8483359 , 0.84993451, ..., 0.73254605, 0.72484708,\n",
       "        0.71382553],\n",
       "       [0.88008486, 0.88482508, 0.88539167, ..., 0.75476558, 0.74785095,\n",
       "        0.7386977 ],\n",
       "       [0.87846376, 0.87814294, 0.87539409, ..., 0.7541015 , 0.74652251,\n",
       "        0.73594507]])"
      ]
     },
     "execution_count": 122,
     "metadata": {},
     "output_type": "execute_result"
    }
   ],
   "source": [
    "spectra"
   ]
  },
  {
   "cell_type": "code",
   "execution_count": 140,
   "metadata": {},
   "outputs": [
    {
     "name": "stdout",
     "output_type": "stream",
     "text": [
      "Reconstructed Spectra: 35\n"
     ]
    },
    {
     "data": {
      "image/png": "[encoded data removed]",
      "text/plain": [
       "<Figure size 270x180 with 1 Axes>"
      ]
     },
     "metadata": {},
     "output_type": "display_data"
    },
    {
     "name": "stdout",
     "output_type": "stream",
     "text": [
      "Reconstructed Spectra: 49\n"
     ]
    },
    {
     "data": {
      "image/png": "[encoded data removed]",
      "text/plain": [
       "<Figure size 270x180 with 1 Axes>"
      ]
     },
     "metadata": {},
     "output_type": "display_data"
    },
    {
     "name": "stdout",
     "output_type": "stream",
     "text": [
      "Reconstructed Spectra: 137\n"
     ]
    },
    {
     "data": {
      "image/png": "[encoded data removed]",
      "text/plain": [
       "<Figure size 270x180 with 1 Axes>"
      ]
     },
     "metadata": {},
     "output_type": "display_data"
    },
    {
     "name": "stdout",
     "output_type": "stream",
     "text": [
      "Reconstructed Spectra: 127\n"
     ]
    },
    {
     "data": {
      "image/png": "[encoded data removed]",
      "text/plain": [
       "<Figure size 270x180 with 1 Axes>"
      ]
     },
     "metadata": {},
     "output_type": "display_data"
    },
    {
     "name": "stdout",
     "output_type": "stream",
     "text": [
      "Reconstructed Spectra: 108\n"
     ]
    },
    {
     "data": {
      "image/png": "[encoded data removed]",
      "text/plain": [
       "<Figure size 270x180 with 1 Axes>"
      ]
     },
     "metadata": {},
     "output_type": "display_data"
    },
    {
     "name": "stdout",
     "output_type": "stream",
     "text": [
      "Reconstructed Spectra: 40\n"
     ]
    },
    {
     "data": {
      "image/png": "[encoded data removed]",
      "text/plain": [
       "<Figure size 270x180 with 1 Axes>"
      ]
     },
     "metadata": {},
     "output_type": "display_data"
    },
    {
     "name": "stdout",
     "output_type": "stream",
     "text": [
      "Reconstructed Spectra: 72\n"
     ]
    },
    {
     "data": {
      "image/png": "[encoded data removed]",
      "text/plain": [
       "<Figure size 270x180 with 1 Axes>"
      ]
     },
     "metadata": {},
     "output_type": "display_data"
    },
    {
     "name": "stdout",
     "output_type": "stream",
     "text": [
      "Reconstructed Spectra: 33\n"
     ]
    },
    {
     "data": {
      "image/png": "[encoded data removed]",
      "text/plain": [
       "<Figure size 270x180 with 1 Axes>"
      ]
     },
     "metadata": {},
     "output_type": "display_data"
    },
    {
     "name": "stdout",
     "output_type": "stream",
     "text": [
      "Reconstructed Spectra: 29\n"
     ]
    },
    {
     "data": {
      "image/png": "[encoded data removed]",
      "text/plain": [
       "<Figure size 270x180 with 1 Axes>"
      ]
     },
     "metadata": {},
     "output_type": "display_data"
    },
    {
     "name": "stdout",
     "output_type": "stream",
     "text": [
      "Reconstructed Spectra: 64\n"
     ]
    },
    {
     "data": {
      "image/png": "[encoded data removed]",
      "text/plain": [
       "<Figure size 270x180 with 1 Axes>"
      ]
     },
     "metadata": {},
     "output_type": "display_data"
    },
    {
     "name": "stdout",
     "output_type": "stream",
     "text": [
      "Reconstructed Spectra: 127\n"
     ]
    },
    {
     "data": {
      "image/png": "[encoded data removed]",
      "text/plain": [
       "<Figure size 270x180 with 1 Axes>"
      ]
     },
     "metadata": {},
     "output_type": "display_data"
    },
    {
     "name": "stdout",
     "output_type": "stream",
     "text": [
      "Reconstructed Spectra: 11\n"
     ]
    },
    {
     "data": {
      "image/png": "[encoded data removed]",
      "text/plain": [
       "<Figure size 270x180 with 1 Axes>"
      ]
     },
     "metadata": {},
     "output_type": "display_data"
    },
    {
     "name": "stdout",
     "output_type": "stream",
     "text": [
      "Reconstructed Spectra: 98\n"
     ]
    },
    {
     "data": {
      "image/png": "[encoded data removed]",
      "text/plain": [
       "<Figure size 270x180 with 1 Axes>"
      ]
     },
     "metadata": {},
     "output_type": "display_data"
    },
    {
     "name": "stdout",
     "output_type": "stream",
     "text": [
      "Reconstructed Spectra: 86\n"
     ]
    },
    {
     "data": {
      "image/png": "[encoded data removed]",
      "text/plain": [
       "<Figure size 270x180 with 1 Axes>"
      ]
     },
     "metadata": {},
     "output_type": "display_data"
    },
    {
     "name": "stdout",
     "output_type": "stream",
     "text": [
      "Reconstructed Spectra: 8\n"
     ]
    },
    {
     "data": {
      "image/png": "[encoded data removed]",
      "text/plain": [
       "<Figure size 270x180 with 1 Axes>"
      ]
     },
     "metadata": {},
     "output_type": "display_data"
    },
    {
     "name": "stdout",
     "output_type": "stream",
     "text": [
      "Reconstructed Spectra: 74\n"
     ]
    },
    {
     "data": {
      "image/png": "[encoded data removed]",
      "text/plain": [
       "<Figure size 270x180 with 1 Axes>"
      ]
     },
     "metadata": {},
     "output_type": "display_data"
    },
    {
     "name": "stdout",
     "output_type": "stream",
     "text": [
      "Reconstructed Spectra: 85\n"
     ]
    },
    {
     "data": {
      "image/png": "[encoded data removed]",
      "text/plain": [
       "<Figure size 270x180 with 1 Axes>"
      ]
     },
     "metadata": {},
     "output_type": "display_data"
    },
    {
     "name": "stdout",
     "output_type": "stream",
     "text": [
      "Reconstructed Spectra: 55\n"
     ]
    },
    {
     "data": {
      "image/png": "[encoded data removed]",
      "text/plain": [
       "<Figure size 270x180 with 1 Axes>"
      ]
     },
     "metadata": {},
     "output_type": "display_data"
    },
    {
     "name": "stdout",
     "output_type": "stream",
     "text": [
      "Reconstructed Spectra: 17\n"
     ]
    },
    {
     "data": {
      "image/png": "[encoded data removed]",
      "text/plain": [
       "<Figure size 270x180 with 1 Axes>"
      ]
     },
     "metadata": {},
     "output_type": "display_data"
    },
    {
     "name": "stdout",
     "output_type": "stream",
     "text": [
      "Reconstructed Spectra: 61\n"
     ]
    },
    {
     "data": {
      "image/png": "[encoded data removed]",
      "text/plain": [
       "<Figure size 270x180 with 1 Axes>"
      ]
     },
     "metadata": {},
     "output_type": "display_data"
    }
   ],
   "source": [
    "height = 3\n",
    "width = 1.5*height\n",
    "linewidth = 4\n",
    "# for i in range(num_samples):\n",
    "examples = 20\n",
    "lst = [35, 49, 137, 127, 108, 40, 72, 33, 29, 64, 127, 11, 98, 86, 8, 74, 85, 55, 17, 61]\n",
    "for index in lst:\n",
    "    fig = plt.figure(figsize=(width, height), dpi=60)\n",
    "    plt.plot(wavelengths[0,:], reconstructed_spectra[index,:], linewidth = linewidth, color='k')\n",
    "    plt.xticks([])\n",
    "    plt.yticks([])\n",
    "    ax = fig.axes\n",
    "    ax[0].axis('off')\n",
    "    print(\"Reconstructed Spectra:\", index)\n",
    "    plt.show()\n",
    "# path = os.path.join(data_dir, \"plots-\" + str(spectrum_len), record_nums[i] + \"-\" + spectrum_names[i] + \".png\")\n",
    "# fig.savefig(path, format = \"PNG\")\n",
    "# plt.close(fig)"
   ]
  },
  {
   "cell_type": "code",
   "execution_count": null,
   "metadata": {},
   "outputs": [],
   "source": []
  }
 ],
 "metadata": {
  "kernelspec": {
   "display_name": "Python 3",
   "language": "python",
   "name": "python3"
  },
  "language_info": {
   "codemirror_mode": {
    "name": "ipython",
    "version": 3
   },
   "file_extension": ".py",
   "mimetype": "text/x-python",
   "name": "python",
   "nbconvert_exporter": "python",
   "pygments_lexer": "ipython3",
   "version": "3.7.3"
  }
 },
 "nbformat": 4,
 "nbformat_minor": 2
}
