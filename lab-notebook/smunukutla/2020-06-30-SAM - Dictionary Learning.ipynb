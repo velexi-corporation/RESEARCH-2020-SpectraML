{
 "cells": [
  {
   "cell_type": "code",
   "execution_count": 42,
   "metadata": {},
   "outputs": [],
   "source": [
    "# environment set up\n",
    "import tensorflow as tf\n",
    "import tensorflow.keras\n",
    "from tensorflow.keras.models import Sequential\n",
    "from tensorflow.keras.layers import Dense\n",
    "from tensorflow.keras.utils import to_categorical\n",
    "import numpy as np\n",
    "import matplotlib.pyplot as plt\n",
    "import os\n",
    "import random\n",
    "import pandas as pd\n",
    "import time\n",
    "import ast\n",
    "from scipy import stats as st\n",
    "\n",
    "# working folder\n",
    "directory = os.environ['DATA_DIR']"
   ]
  },
  {
   "cell_type": "code",
   "execution_count": 43,
   "metadata": {},
   "outputs": [],
   "source": [
    "spectrum_len = 500 # automate this\n",
    "parent_dir = os.environ['PWD']\n",
    "stddata_path = os.path.join(os.environ['DATA_DIR'], \"StdData-\" + str(spectrum_len))\n",
    "os.chdir(os.path.join(parent_dir, \"lab-notebook\", \"smunukutla\"))"
   ]
  },
  {
   "cell_type": "code",
   "execution_count": 44,
   "metadata": {},
   "outputs": [],
   "source": [
    "data = pd.read_csv(\"data.csv\", sep=\",\")\n",
    "record_nums = data.iloc[0, :].tolist()\n",
    "spectrum_names = data.iloc[1, :].tolist()\n",
    "y = data.iloc[2, :].astype(int).tolist()\n",
    "y = np.reshape(y, (len(y), 1))\n",
    "num_samples = len(y)"
   ]
  },
  {
   "cell_type": "code",
   "execution_count": 45,
   "metadata": {},
   "outputs": [
    {
     "data": {
      "text/html": [
       "<div>\n",
       "<style scoped>\n",
       "    .dataframe tbody tr th:only-of-type {\n",
       "        vertical-align: middle;\n",
       "    }\n",
       "\n",
       "    .dataframe tbody tr th {\n",
       "        vertical-align: top;\n",
       "    }\n",
       "\n",
       "    .dataframe thead th {\n",
       "        text-align: right;\n",
       "    }\n",
       "</style>\n",
       "<table border=\"1\" class=\"dataframe\">\n",
       "  <thead>\n",
       "    <tr style=\"text-align: right;\">\n",
       "      <th></th>\n",
       "      <th>0</th>\n",
       "      <th>1</th>\n",
       "      <th>2</th>\n",
       "      <th>3</th>\n",
       "      <th>4</th>\n",
       "      <th>5</th>\n",
       "      <th>6</th>\n",
       "      <th>7</th>\n",
       "      <th>8</th>\n",
       "      <th>9</th>\n",
       "      <th>...</th>\n",
       "      <th>156</th>\n",
       "      <th>157</th>\n",
       "      <th>158</th>\n",
       "      <th>159</th>\n",
       "      <th>160</th>\n",
       "      <th>161</th>\n",
       "      <th>162</th>\n",
       "      <th>163</th>\n",
       "      <th>164</th>\n",
       "      <th>165</th>\n",
       "    </tr>\n",
       "  </thead>\n",
       "  <tbody>\n",
       "    <tr>\n",
       "      <th>0</th>\n",
       "      <td>00108</td>\n",
       "      <td>00114</td>\n",
       "      <td>00120</td>\n",
       "      <td>00124</td>\n",
       "      <td>00130</td>\n",
       "      <td>00142</td>\n",
       "      <td>00148</td>\n",
       "      <td>00154</td>\n",
       "      <td>00158</td>\n",
       "      <td>00177</td>\n",
       "      <td>...</td>\n",
       "      <td>10896</td>\n",
       "      <td>10917</td>\n",
       "      <td>10938</td>\n",
       "      <td>10946</td>\n",
       "      <td>10967</td>\n",
       "      <td>10988</td>\n",
       "      <td>11009</td>\n",
       "      <td>11030</td>\n",
       "      <td>11051</td>\n",
       "      <td>11072</td>\n",
       "    </tr>\n",
       "    <tr>\n",
       "      <th>1</th>\n",
       "      <td>Actinolite</td>\n",
       "      <td>Actinolite</td>\n",
       "      <td>Actinolite</td>\n",
       "      <td>Actinolite</td>\n",
       "      <td>Actinolite</td>\n",
       "      <td>Actinolite</td>\n",
       "      <td>Actinolite</td>\n",
       "      <td>Actinolite</td>\n",
       "      <td>Actinolite</td>\n",
       "      <td>Actinolite</td>\n",
       "      <td>...</td>\n",
       "      <td>Topaz</td>\n",
       "      <td>Topaz</td>\n",
       "      <td>Topaz</td>\n",
       "      <td>Topaz</td>\n",
       "      <td>Topaz</td>\n",
       "      <td>Topaz</td>\n",
       "      <td>Topaz</td>\n",
       "      <td>Topaz</td>\n",
       "      <td>Topaz</td>\n",
       "      <td>Topaz</td>\n",
       "    </tr>\n",
       "    <tr>\n",
       "      <th>2</th>\n",
       "      <td>4</td>\n",
       "      <td>4</td>\n",
       "      <td>4</td>\n",
       "      <td>4</td>\n",
       "      <td>4</td>\n",
       "      <td>4</td>\n",
       "      <td>4</td>\n",
       "      <td>4</td>\n",
       "      <td>4</td>\n",
       "      <td>4</td>\n",
       "      <td>...</td>\n",
       "      <td>0</td>\n",
       "      <td>0</td>\n",
       "      <td>0</td>\n",
       "      <td>0</td>\n",
       "      <td>0</td>\n",
       "      <td>0</td>\n",
       "      <td>0</td>\n",
       "      <td>0</td>\n",
       "      <td>0</td>\n",
       "      <td>0</td>\n",
       "    </tr>\n",
       "  </tbody>\n",
       "</table>\n",
       "<p>3 rows × 166 columns</p>\n",
       "</div>"
      ],
      "text/plain": [
       "            0           1           2           3           4           5  \\\n",
       "0       00108       00114       00120       00124       00130       00142   \n",
       "1  Actinolite  Actinolite  Actinolite  Actinolite  Actinolite  Actinolite   \n",
       "2           4           4           4           4           4           4   \n",
       "\n",
       "            6           7           8           9  ...    156    157    158  \\\n",
       "0       00148       00154       00158       00177  ...  10896  10917  10938   \n",
       "1  Actinolite  Actinolite  Actinolite  Actinolite  ...  Topaz  Topaz  Topaz   \n",
       "2           4           4           4           4  ...      0      0      0   \n",
       "\n",
       "     159    160    161    162    163    164    165  \n",
       "0  10946  10967  10988  11009  11030  11051  11072  \n",
       "1  Topaz  Topaz  Topaz  Topaz  Topaz  Topaz  Topaz  \n",
       "2      0      0      0      0      0      0      0  \n",
       "\n",
       "[3 rows x 166 columns]"
      ]
     },
     "execution_count": 45,
     "metadata": {},
     "output_type": "execute_result"
    }
   ],
   "source": [
    "data"
   ]
  },
  {
   "cell_type": "code",
   "execution_count": 46,
   "metadata": {},
   "outputs": [],
   "source": [
    "spectra = np.zeros((num_samples,spectrum_len))"
   ]
  },
  {
   "cell_type": "code",
   "execution_count": 47,
   "metadata": {},
   "outputs": [],
   "source": [
    "for i in range(len(record_nums)):\n",
    "    data = pd.read_csv(os.path.join(stddata_path,\"{}.csv\".format(record_nums[i])))\n",
    "#     if i == 0:\n",
    "#         wavelengths[i,:] = data.iloc[:, 0].to_numpy()\n",
    "    spectra[i,:] = data.iloc[:, 1].to_numpy()"
   ]
  },
  {
   "cell_type": "code",
   "execution_count": 48,
   "metadata": {},
   "outputs": [],
   "source": [
    "y_cat = to_categorical(y)"
   ]
  },
  {
   "cell_type": "code",
   "execution_count": 8,
   "metadata": {},
   "outputs": [
    {
     "data": {
      "text/html": [
       "<div>\n",
       "<style scoped>\n",
       "    .dataframe tbody tr th:only-of-type {\n",
       "        vertical-align: middle;\n",
       "    }\n",
       "\n",
       "    .dataframe tbody tr th {\n",
       "        vertical-align: top;\n",
       "    }\n",
       "\n",
       "    .dataframe thead th {\n",
       "        text-align: right;\n",
       "    }\n",
       "</style>\n",
       "<table border=\"1\" class=\"dataframe\">\n",
       "  <thead>\n",
       "    <tr style=\"text-align: right;\">\n",
       "      <th></th>\n",
       "      <th>wavelength</th>\n",
       "      <th>reflectance</th>\n",
       "    </tr>\n",
       "  </thead>\n",
       "  <tbody>\n",
       "    <tr>\n",
       "      <th>0</th>\n",
       "      <td>0.370000</td>\n",
       "      <td>0.878464</td>\n",
       "    </tr>\n",
       "    <tr>\n",
       "      <th>1</th>\n",
       "      <td>0.374269</td>\n",
       "      <td>0.878143</td>\n",
       "    </tr>\n",
       "    <tr>\n",
       "      <th>2</th>\n",
       "      <td>0.378537</td>\n",
       "      <td>0.875394</td>\n",
       "    </tr>\n",
       "    <tr>\n",
       "      <th>3</th>\n",
       "      <td>0.382806</td>\n",
       "      <td>0.877019</td>\n",
       "    </tr>\n",
       "    <tr>\n",
       "      <th>4</th>\n",
       "      <td>0.387074</td>\n",
       "      <td>0.878757</td>\n",
       "    </tr>\n",
       "  </tbody>\n",
       "</table>\n",
       "</div>"
      ],
      "text/plain": [
       "   wavelength  reflectance\n",
       "0    0.370000     0.878464\n",
       "1    0.374269     0.878143\n",
       "2    0.378537     0.875394\n",
       "3    0.382806     0.877019\n",
       "4    0.387074     0.878757"
      ]
     },
     "execution_count": 8,
     "metadata": {},
     "output_type": "execute_result"
    }
   ],
   "source": [
    "data.head(5)"
   ]
  },
  {
   "cell_type": "code",
   "execution_count": 9,
   "metadata": {},
   "outputs": [
    {
     "data": {
      "text/plain": [
       "(166, 500)"
      ]
     },
     "execution_count": 9,
     "metadata": {},
     "output_type": "execute_result"
    }
   ],
   "source": [
    "spectra.shape"
   ]
  },
  {
   "cell_type": "code",
   "execution_count": 10,
   "metadata": {},
   "outputs": [
    {
     "data": {
      "text/plain": [
       "array([[0.36625177, 0.37408954, 0.38041823, ..., 0.69747148, 0.69613203,\n",
       "        0.69590056],\n",
       "       [0.22933248, 0.23542408, 0.24072858, ..., 0.57995432, 0.57845447,\n",
       "        0.58057582],\n",
       "       [0.10552621, 0.10864627, 0.11163579, ..., 0.3127732 , 0.31293405,\n",
       "        0.31438494],\n",
       "       ...,\n",
       "       [0.84827669, 0.8483359 , 0.84993451, ..., 0.73254605, 0.72484708,\n",
       "        0.71382553],\n",
       "       [0.88008486, 0.88482508, 0.88539167, ..., 0.75476558, 0.74785095,\n",
       "        0.7386977 ],\n",
       "       [0.87846376, 0.87814294, 0.87539409, ..., 0.7541015 , 0.74652251,\n",
       "        0.73594507]])"
      ]
     },
     "execution_count": 10,
     "metadata": {},
     "output_type": "execute_result"
    }
   ],
   "source": [
    "spectra"
   ]
  },
  {
   "cell_type": "code",
   "execution_count": 11,
   "metadata": {},
   "outputs": [],
   "source": [
    "y_cat = to_categorical(y)"
   ]
  },
  {
   "cell_type": "code",
   "execution_count": 12,
   "metadata": {},
   "outputs": [],
   "source": [
    "from sklearn.decomposition import DictionaryLearning"
   ]
  },
  {
   "cell_type": "code",
   "execution_count": 13,
   "metadata": {},
   "outputs": [],
   "source": [
    "model = DictionaryLearning(n_components=10, alpha=1, verbose=True)"
   ]
  },
  {
   "cell_type": "code",
   "execution_count": 14,
   "metadata": {},
   "outputs": [
    {
     "name": "stdout",
     "output_type": "stream",
     "text": [
      "[dict_learning] .+.+.+.+.+.+.+.+.+.+.+.+.+.+.+.+.+.+.+.+.+.+.+.+.+.+.+.+.+.+.+.+.+.+.+.+.+.+.+.+.+.+.+.+.+.+.+.+.+.+.+.+.+\n"
     ]
    }
   ],
   "source": [
    "results = model.fit_transform(spectra)"
   ]
  },
  {
   "cell_type": "code",
   "execution_count": 15,
   "metadata": {},
   "outputs": [
    {
     "data": {
      "text/plain": [
       "(166, 10)"
      ]
     },
     "execution_count": 15,
     "metadata": {},
     "output_type": "execute_result"
    }
   ],
   "source": [
    "results.shape"
   ]
  },
  {
   "cell_type": "code",
   "execution_count": 16,
   "metadata": {},
   "outputs": [
    {
     "name": "stdout",
     "output_type": "stream",
     "text": [
      "[[-1.17730494e+01  2.41314393e-01 -2.61387673e+00 ... -1.64361723e+00\n",
      "   4.00841548e-01  1.09387130e-02]\n",
      " [-7.28348954e+00  1.65441604e-01 -6.45127935e+00 ... -2.00583857e+00\n",
      "   4.78828995e-01  1.20838851e-02]\n",
      " [ 6.77321659e-02  3.63662884e-01 -8.01376501e+00 ... -6.30032435e-01\n",
      "  -2.42117114e-02  2.75775763e-04]\n",
      " ...\n",
      " [-1.29352545e+01 -7.56007780e-01 -1.04838684e+00 ...  1.01948293e+01\n",
      "  -2.04866607e-01  7.01928640e-04]\n",
      " [-1.35164121e+01 -1.03617048e+00 -1.11039729e+00 ...  9.80369327e+00\n",
      "  -7.75956522e-01 -1.89723032e-03]\n",
      " [-1.32554089e+01 -5.79421119e-01  2.26668644e-01 ...  9.79203188e+00\n",
      "   1.22132417e-01  1.25189951e-03]]\n"
     ]
    }
   ],
   "source": [
    "print(results)"
   ]
  },
  {
   "cell_type": "code",
   "execution_count": 17,
   "metadata": {},
   "outputs": [],
   "source": [
    "model2 = DictionaryLearning(n_components=10, alpha=1, transform_algorithm='threshold', verbose=True)"
   ]
  },
  {
   "cell_type": "code",
   "execution_count": 18,
   "metadata": {},
   "outputs": [
    {
     "name": "stdout",
     "output_type": "stream",
     "text": [
      "[dict_learning] .+.+.+.+.+.+.+.+.+.+.+.+.+.+.+.+.+.+.+.+.+.+.+.+.+.+.+.+.+.+.+.+.+.+.+.+.+.+.+.+.+.+.+.+.+.+.+.+.+.+.+.+.+\n"
     ]
    }
   ],
   "source": [
    "results2 = model2.fit_transform(spectra)"
   ]
  },
  {
   "cell_type": "code",
   "execution_count": 19,
   "metadata": {},
   "outputs": [
    {
     "data": {
      "text/plain": [
       "(166, 10)"
      ]
     },
     "execution_count": 19,
     "metadata": {},
     "output_type": "execute_result"
    }
   ],
   "source": [
    "results2.shape"
   ]
  },
  {
   "cell_type": "code",
   "execution_count": 20,
   "metadata": {},
   "outputs": [
    {
     "name": "stdout",
     "output_type": "stream",
     "text": [
      "[[-13.96702235  11.76187847 -13.5262892  ...  13.69659925  12.32970097\n",
      "   -0.        ]\n",
      " [-12.00684005   9.64230327 -12.25027701 ...  11.72398555  11.13384119\n",
      "   -0.        ]\n",
      " [ -6.9408455    5.19291353  -7.63619502 ...   6.77768826   6.81191958\n",
      "   -0.        ]\n",
      " ...\n",
      " [-19.67534109  17.7134846  -18.04453112 ...  19.60979497  16.09787098\n",
      "   -0.        ]\n",
      " [-19.71066981  17.72580689 -18.03078169 ...  19.63619482  16.14339974\n",
      "   -0.        ]\n",
      " [-20.3672688   18.42861286 -18.60715792 ...  20.31026363  16.59028884\n",
      "   -0.        ]]\n"
     ]
    }
   ],
   "source": [
    "print(results2)"
   ]
  },
  {
   "cell_type": "code",
   "execution_count": 21,
   "metadata": {},
   "outputs": [
    {
     "data": {
      "text/plain": [
       "{'alpha': 1,\n",
       " 'code_init': None,\n",
       " 'dict_init': None,\n",
       " 'fit_algorithm': 'lars',\n",
       " 'max_iter': 1000,\n",
       " 'n_components': 10,\n",
       " 'n_jobs': None,\n",
       " 'positive_code': False,\n",
       " 'positive_dict': False,\n",
       " 'random_state': None,\n",
       " 'split_sign': False,\n",
       " 'tol': 1e-08,\n",
       " 'transform_algorithm': 'omp',\n",
       " 'transform_alpha': None,\n",
       " 'transform_n_nonzero_coefs': None,\n",
       " 'verbose': True}"
      ]
     },
     "execution_count": 21,
     "metadata": {},
     "output_type": "execute_result"
    }
   ],
   "source": [
    "model.get_params()"
   ]
  },
  {
   "cell_type": "code",
   "execution_count": 22,
   "metadata": {},
   "outputs": [
    {
     "name": "stdout",
     "output_type": "stream",
     "text": [
      "[[-0.03576344 -0.03586424 -0.03608334 ... -0.04367278 -0.04356272\n",
      "  -0.04343269]\n",
      " [ 0.02333185  0.02426826  0.02531973 ...  0.0048098   0.0045162\n",
      "   0.00414729]\n",
      " [-0.01466709 -0.01506379 -0.01531206 ... -0.03734992 -0.03729115\n",
      "  -0.03741644]\n",
      " ...\n",
      " [ 0.04298044  0.0432337   0.04325401 ...  0.02180551  0.02105525\n",
      "   0.02026596]\n",
      " [ 0.00781883  0.00835778  0.00902266 ...  0.06802284  0.06813333\n",
      "   0.06787213]\n",
      " [ 0.02988469 -0.02091497  0.03176279 ... -0.03926168  0.01859507\n",
      "  -0.02305731]]\n"
     ]
    }
   ],
   "source": [
    "print(model.components_)"
   ]
  },
  {
   "cell_type": "code",
   "execution_count": 23,
   "metadata": {},
   "outputs": [
    {
     "data": {
      "text/plain": [
       "(10, 500)"
      ]
     },
     "execution_count": 23,
     "metadata": {},
     "output_type": "execute_result"
    }
   ],
   "source": [
    "model.components_.shape"
   ]
  },
  {
   "cell_type": "code",
   "execution_count": 24,
   "metadata": {},
   "outputs": [
    {
     "name": "stdout",
     "output_type": "stream",
     "text": [
      "[[-0.03576344 -0.03586424 -0.03608334 ... -0.04367278 -0.04356272\n",
      "  -0.04343269]\n",
      " [ 0.02333185  0.02426826  0.02531973 ...  0.0048098   0.0045162\n",
      "   0.00414729]\n",
      " [-0.01466709 -0.01506379 -0.01531206 ... -0.03734992 -0.03729115\n",
      "  -0.03741644]\n",
      " ...\n",
      " [ 0.04298044  0.0432337   0.04325401 ...  0.02180551  0.02105525\n",
      "   0.02026596]\n",
      " [ 0.00781883  0.00835778  0.00902266 ...  0.06802284  0.06813333\n",
      "   0.06787213]\n",
      " [-0.02538974  0.0450955  -0.01830563 ...  0.01424499 -0.03532233\n",
      "   0.01567114]]\n"
     ]
    }
   ],
   "source": [
    "print(model2.components_)"
   ]
  },
  {
   "cell_type": "code",
   "execution_count": 25,
   "metadata": {},
   "outputs": [
    {
     "data": {
      "text/plain": [
       "(10, 500)"
      ]
     },
     "execution_count": 25,
     "metadata": {},
     "output_type": "execute_result"
    }
   ],
   "source": [
    "model2.components_.shape"
   ]
  },
  {
   "cell_type": "code",
   "execution_count": null,
   "metadata": {},
   "outputs": [],
   "source": [
    "approximate with the training data\n",
    "run transform on the training data to find the reconstructed spectra\n",
    "\n",
    "166 x 10 X 10 x 500\n",
    "\n",
    "approximation of an integral\n",
    "\n",
    "thresholding is bad to get coefficients"
   ]
  },
  {
   "cell_type": "code",
   "execution_count": 26,
   "metadata": {},
   "outputs": [
    {
     "data": {
      "text/plain": [
       "array([[0.40556046, 0.40736726, 0.41168076, ..., 0.69948446, 0.69958278,\n",
       "        0.69910112],\n",
       "       [0.27136858, 0.27375936, 0.27781342, ..., 0.60366502, 0.60449648,\n",
       "        0.60535569],\n",
       "       [0.11434744, 0.11813399, 0.12078916, ..., 0.32308395, 0.32272749,\n",
       "        0.32419358],\n",
       "       ...,\n",
       "       [0.8312515 , 0.83263652, 0.83301124, ..., 0.72757095, 0.71798228,\n",
       "        0.70785572],\n",
       "       [0.85161972, 0.85325663, 0.85364088, ..., 0.74419782, 0.73483245,\n",
       "        0.72529436],\n",
       "       [0.84620295, 0.84840559, 0.8500328 , ..., 0.75217336, 0.74336572,\n",
       "        0.73374242]])"
      ]
     },
     "execution_count": 26,
     "metadata": {},
     "output_type": "execute_result"
    }
   ],
   "source": [
    "results.dot(model.components_)"
   ]
  },
  {
   "cell_type": "code",
   "execution_count": 27,
   "metadata": {},
   "outputs": [],
   "source": [
    "dist = np.linalg.norm(results.dot(model.components_) - spectra)"
   ]
  },
  {
   "cell_type": "code",
   "execution_count": 28,
   "metadata": {},
   "outputs": [],
   "source": [
    "# max(results.dot(model.components_) - spectra, key=max)"
   ]
  },
  {
   "cell_type": "code",
   "execution_count": 29,
   "metadata": {},
   "outputs": [
    {
     "data": {
      "text/plain": [
       "3.757477255247361"
      ]
     },
     "execution_count": 29,
     "metadata": {},
     "output_type": "execute_result"
    }
   ],
   "source": [
    "dist"
   ]
  },
  {
   "cell_type": "code",
   "execution_count": 30,
   "metadata": {},
   "outputs": [],
   "source": [
    "dist2 = np.linalg.norm(results2.dot(model2.components_) - spectra)"
   ]
  },
  {
   "cell_type": "code",
   "execution_count": 31,
   "metadata": {},
   "outputs": [
    {
     "data": {
      "text/plain": [
       "1193.5553252799423"
      ]
     },
     "execution_count": 31,
     "metadata": {},
     "output_type": "execute_result"
    }
   ],
   "source": [
    "dist2"
   ]
  },
  {
   "cell_type": "code",
   "execution_count": 39,
   "metadata": {},
   "outputs": [
    {
     "data": {
      "text/plain": [
       "array([[-1.17730494e+01,  2.41314393e-01, -2.61387673e+00, ...,\n",
       "        -1.64361723e+00,  4.00841548e-01,  1.09387130e-02],\n",
       "       [-7.28348954e+00,  1.65441604e-01, -6.45127935e+00, ...,\n",
       "        -2.00583857e+00,  4.78828995e-01,  1.20838851e-02],\n",
       "       [ 6.77321659e-02,  3.63662884e-01, -8.01376501e+00, ...,\n",
       "        -6.30032435e-01, -2.42117114e-02,  2.75775763e-04],\n",
       "       ...,\n",
       "       [-1.29352545e+01, -7.56007780e-01, -1.04838684e+00, ...,\n",
       "         1.01948293e+01, -2.04866607e-01,  7.01928640e-04],\n",
       "       [-1.35164121e+01, -1.03617048e+00, -1.11039729e+00, ...,\n",
       "         9.80369327e+00, -7.75956522e-01, -1.89723032e-03],\n",
       "       [-1.32554089e+01, -5.79421119e-01,  2.26668644e-01, ...,\n",
       "         9.79203188e+00,  1.22132417e-01,  1.25189951e-03]])"
      ]
     },
     "execution_count": 39,
     "metadata": {},
     "output_type": "execute_result"
    }
   ],
   "source": [
    "model.transform(spectra)"
   ]
  },
  {
   "cell_type": "code",
   "execution_count": 40,
   "metadata": {},
   "outputs": [
    {
     "data": {
      "text/plain": [
       "array([[-1.17730494e+01,  2.41314393e-01, -2.61387673e+00, ...,\n",
       "        -1.64361723e+00,  4.00841548e-01,  1.09387130e-02],\n",
       "       [-7.28348954e+00,  1.65441604e-01, -6.45127935e+00, ...,\n",
       "        -2.00583857e+00,  4.78828995e-01,  1.20838851e-02],\n",
       "       [ 6.77321659e-02,  3.63662884e-01, -8.01376501e+00, ...,\n",
       "        -6.30032435e-01, -2.42117114e-02,  2.75775763e-04],\n",
       "       ...,\n",
       "       [-1.29352545e+01, -7.56007780e-01, -1.04838684e+00, ...,\n",
       "         1.01948293e+01, -2.04866607e-01,  7.01928640e-04],\n",
       "       [-1.35164121e+01, -1.03617048e+00, -1.11039729e+00, ...,\n",
       "         9.80369327e+00, -7.75956522e-01, -1.89723032e-03],\n",
       "       [-1.32554089e+01, -5.79421119e-01,  2.26668644e-01, ...,\n",
       "         9.79203188e+00,  1.22132417e-01,  1.25189951e-03]])"
      ]
     },
     "execution_count": 40,
     "metadata": {},
     "output_type": "execute_result"
    }
   ],
   "source": [
    "results"
   ]
  },
  {
   "cell_type": "code",
   "execution_count": 49,
   "metadata": {},
   "outputs": [
    {
     "data": {
      "text/plain": [
       "0.0"
      ]
     },
     "execution_count": 49,
     "metadata": {},
     "output_type": "execute_result"
    }
   ],
   "source": [
    "np.linalg.norm(model.transform(spectra) - results)"
   ]
  },
  {
   "cell_type": "code",
   "execution_count": null,
   "metadata": {},
   "outputs": [],
   "source": []
  }
 ],
 "metadata": {
  "kernelspec": {
   "display_name": "Python 3",
   "language": "python",
   "name": "python3"
  },
  "language_info": {
   "codemirror_mode": {
    "name": "ipython",
    "version": 3
   },
   "file_extension": ".py",
   "mimetype": "text/x-python",
   "name": "python",
   "nbconvert_exporter": "python",
   "pygments_lexer": "ipython3",
   "version": "3.7.3"
  }
 },
 "nbformat": 4,
 "nbformat_minor": 2
}
