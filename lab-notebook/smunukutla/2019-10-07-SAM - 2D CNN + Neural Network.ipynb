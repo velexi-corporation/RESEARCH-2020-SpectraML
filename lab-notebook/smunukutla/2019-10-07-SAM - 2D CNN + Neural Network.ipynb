{
 "cells": [
  {
   "cell_type": "code",
   "execution_count": 1,
   "metadata": {},
   "outputs": [],
   "source": [
    "# import libraries\n",
    "import numpy as np\n",
    "import matplotlib.pyplot as plt\n",
    "import matplotlib.image as mpimg\n",
    "import pandas as pd\n",
    "import os\n",
    "import random\n",
    "import ast\n",
    "import tensorflow as tf\n",
    "import tensorflow.keras\n",
    "from tensorflow.keras.models import Sequential\n",
    "from tensorflow.keras.layers import Conv2D, MaxPooling2D, Flatten, Dense\n",
    "from tensorflow.keras.utils import to_categorical\n",
    "from sklearn.ensemble import RandomForestClassifier\n",
    "from sklearn.model_selection import train_test_split\n",
    "from sklearn.metrics import accuracy_score\n",
    "from scipy import stats as st"
   ]
  },
  {
   "cell_type": "code",
   "execution_count": 2,
   "metadata": {},
   "outputs": [],
   "source": [
    "# directory = \"/Users/Srikar/Desktop/Velexi/spectra-ml/data/plots\"\n",
    "spectrum_len = 500\n",
    "data_dir = os.environ['DATA_DIR']\n",
    "parent_dir = os.environ['PWD']\n",
    "plots_dir = os.path.join(data_dir, \"plots\")\n",
    "stddata_path = os.path.join(data_dir, \"StdData-\" + str(spectrum_len))\n",
    "os.chdir(os.path.join(parent_dir, \"lab-notebook\", \"smunukutla\"))"
   ]
  },
  {
   "cell_type": "code",
   "execution_count": 3,
   "metadata": {},
   "outputs": [],
   "source": [
    "img = mpimg.imread(os.path.join(plots_dir, os.listdir(plots_dir)[0]))\n",
    "spectrum_height = img.shape[0]\n",
    "spectrum_width = img.shape[1]"
   ]
  },
  {
   "cell_type": "code",
   "execution_count": 4,
   "metadata": {},
   "outputs": [],
   "source": [
    "def convertimg(img):\n",
    "    newimg = np.empty([img.shape[0], img.shape[1]])\n",
    "    for i in range(img.shape[0]):\n",
    "        for j in range(img.shape[1]):\n",
    "            row = img[i][j]\n",
    "            newimg[i][j] = (row[0] + row[1] + row[2])/3\n",
    "    return newimg"
   ]
  },
  {
   "cell_type": "code",
   "execution_count": 5,
   "metadata": {},
   "outputs": [],
   "source": [
    "data = pd.read_csv(\"data.csv\", sep=\",\")\n",
    "record_nums = data.iloc[0, :].tolist()\n",
    "spectrum_names = data.iloc[1, :].tolist()\n",
    "y = data.iloc[2, :].astype(int).tolist()\n",
    "y = np.reshape(y, (len(y), 1))\n",
    "num_samples = len(y)"
   ]
  },
  {
   "cell_type": "code",
   "execution_count": 6,
   "metadata": {},
   "outputs": [],
   "source": [
    "spectra = np.zeros((num_samples, spectrum_height, spectrum_width))\n",
    "i = 0\n",
    "for num in record_nums:\n",
    "    img = plt.imread(os.path.join(plots_dir, num + \"-\" + spectrum_names[i] + \".png\")) # look into timeit, pickle file\n",
    "    spectra[i] = convertimg(img)\n",
    "    i += 1"
   ]
  },
  {
   "cell_type": "code",
   "execution_count": 7,
   "metadata": {},
   "outputs": [
    {
     "data": {
      "text/plain": [
       "(166, 288, 432, 1)"
      ]
     },
     "execution_count": 7,
     "metadata": {},
     "output_type": "execute_result"
    }
   ],
   "source": [
    "spectra = spectra.reshape(spectra.shape[0], spectra.shape[1], spectra.shape[2], 1)\n",
    "spectra.shape"
   ]
  },
  {
   "cell_type": "code",
   "execution_count": null,
   "metadata": {},
   "outputs": [],
   "source": [
    "fi = open(\"indices.txt\", \"r\")\n",
    "num_runs = int(fi.readline())\n",
    "num_minerals = int(fi.readline())\n",
    "\n",
    "stats = []\n",
    "\n",
    "for i in range(num_runs):\n",
    "    train_set_indices = ast.literal_eval(fi.readline())\n",
    "    test_set_indices = ast.literal_eval(fi.readline())\n",
    "    dev_set_indices = ast.literal_eval(fi.readline())\n",
    "\n",
    "    for j in train_set_indices:\n",
    "        j = int(j)\n",
    "    for k in test_set_indices:\n",
    "        k = int(k)\n",
    "    for m in dev_set_indices:\n",
    "        m = int(m)\n",
    "    \n",
    "    train_set = spectra[train_set_indices, :]\n",
    "    dev_set = spectra[dev_set_indices, :]\n",
    "    test_set = spectra[test_set_indices, :]\n",
    "    \n",
    "    train_labels = y_cat[train_set_indices, :]\n",
    "    dev_labels = y_cat[dev_set_indices, :]\n",
    "    test_labels = y_cat[test_set_indices, :]\n",
    "    \n",
    "    model = Sequential()\n",
    "    #add model layers\n",
    "    model.add(Conv2D(32, kernel_size=10, strides=(6,6), activation='relu', input_shape=(spectra.shape[1],spectra.shape[2], 1))) # finer features at the first layer\n",
    "    model.add(Conv2D(32, kernel_size=3, activation='relu')) # larger features at later layer\n",
    "    model.add(Flatten())\n",
    "    \n",
    "    from tensorflow.keras import backend as K\n",
    "\n",
    "    # with a Sequential model\n",
    "    get_3rd_layer_output = K.function([model.layers[0].input],\n",
    "                                      [model.layers[3].output])\n",
    "    layer_output = get_3rd_layer_output(dev_set)\n",
    "    \n",
    "    clf = RandomForestClassifier(n_estimators=100, bootstrap=True, criterion='entropy')\n",
    "    \n",
    "    # clf.fit(train_set, train_labels)\n",
    "    clf.fit(train_set, train_labels)\n",
    "    \n",
    "    # preds = clf.predict(test_set)\n",
    "    # print(\"Accuracy:\", accuracy_score(test_labels, preds))\n",
    "    preds = clf.predict(test_set)\n",
    "#     print(\"Accuracy:\", accuracy_score(y_test, preds))\n",
    "    stats.append(accuracy_score(test_labels, preds))\n",
    "\n",
    "print(\"2D CNN + Random Forest Results:\", st.describe(stats))"
   ]
  }
 ],
 "metadata": {
  "kernelspec": {
   "display_name": "Python 3",
   "language": "python",
   "name": "python3"
  },
  "language_info": {
   "codemirror_mode": {
    "name": "ipython",
    "version": 3
   },
   "file_extension": ".py",
   "mimetype": "text/x-python",
   "name": "python",
   "nbconvert_exporter": "python",
   "pygments_lexer": "ipython3",
   "version": "3.7.3"
  }
 },
 "nbformat": 4,
 "nbformat_minor": 2
}
