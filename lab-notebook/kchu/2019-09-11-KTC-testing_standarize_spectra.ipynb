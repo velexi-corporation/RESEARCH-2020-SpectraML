{
 "cells": [
  {
   "cell_type": "markdown",
   "metadata": {},
   "source": [
    "## 2019-09-11: Testing standardize-specta - extrapolated values\n",
    "\n",
    "### Authors\n",
    "* Kevin Chu (kevin@velexi.com)\n",
    "\n",
    "### Notes\n",
    "* In this Jupyter notebook, we check that standardize spectra is correctly setting values that require extrapolation to NaN.\n"
   ]
  },
  {
   "cell_type": "markdown",
   "metadata": {},
   "source": [
    "## Preparations"
   ]
  },
  {
   "cell_type": "code",
   "execution_count": 1,
   "metadata": {},
   "outputs": [],
   "source": [
    "# --- Imports\n",
    "\n",
    "# Standard libraries\n",
    "import os\n",
    "\n",
    "# External packages\n",
    "import matplotlib.pyplot as plt\n",
    "import numpy as np\n",
    "import pandas as pd\n",
    "\n",
    "# SpectraML\n",
    "from spectra_ml import data\n",
    "from spectra_ml import io"
   ]
  },
  {
   "cell_type": "code",
   "execution_count": 2,
   "metadata": {},
   "outputs": [],
   "source": [
    "# --- Configuration Parameters\n",
    "\n",
    "# Data directories\n",
    "data_dir = os.environ['DATA_DIR']\n",
    "splib07a_dir = os.path.join(data_dir, 'ASCIIdata_splib07a')\n",
    "splib07a_standardized_dir = os.path.join(data_dir, 'ASCIIdata_splib07a.standardized')\n",
    "spectrometers_dir = os.path.join(data_dir, 'spectrometers')\n",
    "\n",
    "# Spectrometers\n",
    "spectrometers = io.load_spectrometers(spectrometers_dir, splib07a_dir)\n",
    "\n",
    "# Spectra metadata file\n",
    "metadata_path = os.path.join(splib07a_standardized_dir, 'spectra-metadata.csv')\n",
    "\n",
    "# Test spectrum\n",
    "test_spectrum_id = 8927\n",
    "spectrometer = 'ASDFR'\n",
    "\n",
    "test_spectrum_id = 6792\n",
    "spectrometer = 'BECK'\n",
    "\n",
    "test_spectrum_id = 8943\n",
    "spectrometer = 'ASDFR'\n",
    "\n",
    "test_spectrum_id = 8933\n",
    "spectrometer = 'ASDFR'"
   ]
  },
  {
   "cell_type": "code",
   "execution_count": 3,
   "metadata": {},
   "outputs": [
    {
     "name": "stdout",
     "output_type": "stream",
     "text": [
      "Raw spectrum path: /Users/kchu/1-Work/1-Serendipity-Research/projects/research/ML-Applications/SpectraML/spectra-ml/data/ASCIIdata_splib07a/ChapterM_Minerals/splib07a_Psilomelane_HS139.2B_ASDFRb_AREF.txt\n",
      "Standardized spectrum path: /Users/kchu/1-Work/1-Serendipity-Research/projects/research/ML-Applications/SpectraML/spectra-ml/data/ASCIIdata_splib07a.standardized/8927.csv\n"
     ]
    }
   ],
   "source": [
    "# --- Preparations\n",
    "\n",
    "# Load spectra metadata\n",
    "metadata = pd.read_csv(metadata_path, sep='|')\n",
    "\n",
    "# Test Spectrum\n",
    "raw_spectrum_path = os.path.join(splib07a_dir,\n",
    "    metadata[metadata['spectrum_id']==test_spectrum_id].iloc[0]['raw_data_path'])\n",
    "standardized_spectrum_path = os.path.join(splib07a_standardized_dir, '8927.csv')\n",
    "\n",
    "# Print paths\n",
    "print(\"Raw spectrum path:\", raw_spectrum_path)\n",
    "print(\"Standardized spectrum path:\", standardized_spectrum_path)"
   ]
  },
  {
   "cell_type": "markdown",
   "metadata": {},
   "source": [
    "## Read and Plot Spectra Data"
   ]
  },
  {
   "cell_type": "code",
   "execution_count": 4,
   "metadata": {},
   "outputs": [
    {
     "data": {
      "image/png": "[encoded data removed]",
      "text/plain": [
       "<Figure size 432x288 with 1 Axes>"
      ]
     },
     "metadata": {
      "needs_background": "light"
     },
     "output_type": "display_data"
    },
    {
     "data": {
      "image/png": "[encoded data removed]",
      "text/plain": [
       "<Figure size 432x288 with 1 Axes>"
      ]
     },
     "metadata": {
      "needs_background": "light"
     },
     "output_type": "display_data"
    }
   ],
   "source": [
    "# --- Read spectra data\n",
    "\n",
    "raw_spectrum = pd.read_csv(raw_spectrum_path)\n",
    "spectrometer_wavelengths = spectrometers[spectrometer]['x-axis']['wavelength']['values']\n",
    "\n",
    "standardized_spectrum = pd.read_csv(standardized_spectrum_path)\n",
    "standardized_wavelengths = standardized_spectrum.wavelength\n",
    "\n",
    "# --- Plot raw and filled-in spectra\n",
    "\n",
    "plt.figure()\n",
    "plt.subplot(2, 1, 1)\n",
    "plt.plot(spectrometer_wavelengths, raw_spectrum)\n",
    "plt.show()\n",
    "    \n",
    "plt.subplot(2, 1, 2)\n",
    "plt.plot(standardized_wavelengths, standardized_spectrum.reflectance)\n",
    "    \n",
    "plt.show()"
   ]
  },
  {
   "cell_type": "markdown",
   "metadata": {},
   "source": [
    "## Validate Spectrum Values"
   ]
  },
  {
   "cell_type": "code",
   "execution_count": 5,
   "metadata": {},
   "outputs": [
    {
     "name": "stdout",
     "output_type": "stream",
     "text": [
      "   wavelength  reflectance\n",
      "0    0.370000          NaN\n",
      "1    0.372132          NaN\n",
      "2    0.374264          NaN\n",
      "3    0.376396          NaN\n",
      "4    0.378529          NaN\n",
      "5    0.380661          NaN\n",
      "6    0.382793          NaN\n",
      "7    0.384925          NaN\n",
      "8    0.387057          NaN\n",
      "9    0.389189          NaN\n"
     ]
    }
   ],
   "source": [
    "# Check that there are NaN values are only at ends of wavelength range.\n",
    "print(standardized_spectrum[standardized_spectrum['reflectance'].isnull()])"
   ]
  }
 ],
 "metadata": {
  "kernelspec": {
   "display_name": "Python 3",
   "language": "python",
   "name": "python3"
  },
  "language_info": {
   "codemirror_mode": {
    "name": "ipython",
    "version": 3
   },
   "file_extension": ".py",
   "mimetype": "text/x-python",
   "name": "python",
   "nbconvert_exporter": "python",
   "pygments_lexer": "ipython3",
   "version": "3.7.4"
  }
 },
 "nbformat": 4,
 "nbformat_minor": 2
}
