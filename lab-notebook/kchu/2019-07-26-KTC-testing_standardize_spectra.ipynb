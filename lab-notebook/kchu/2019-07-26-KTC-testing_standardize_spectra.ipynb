{
 "cells": [
  {
   "cell_type": "markdown",
   "metadata": {},
   "source": [
    "## 2019-07-26: Testing standarize-specta\n",
    "\n",
    "### Authors\n",
    "* Kevin Chu (kevin@velexi.com)\n",
    "\n",
    "### Notes\n",
    "* In this Jupyter notebook, we check that standardize spectra is correctly filling in missing values for spectrum id=2714\n",
    "\n",
    "  - ChapterM_Minerals/splib07a_Chlorite_SMR-13.c_45-60um_BECKa_AREF.txt\n"
   ]
  },
  {
   "cell_type": "markdown",
   "metadata": {},
   "source": [
    "## Preparations"
   ]
  },
  {
   "cell_type": "code",
   "execution_count": 1,
   "metadata": {},
   "outputs": [],
   "source": [
    "# --- Imports\n",
    "\n",
    "# Standard libraries\n",
    "import os\n",
    "\n",
    "# External packages\n",
    "import matplotlib.pyplot as plt\n",
    "import numpy as np\n",
    "import pandas as pd\n",
    "\n",
    "# SpectraML\n",
    "from spectra_ml import data\n",
    "from spectra_ml import io"
   ]
  },
  {
   "cell_type": "code",
   "execution_count": 2,
   "metadata": {},
   "outputs": [],
   "source": [
    "# --- Configuration Parameters\n",
    "\n",
    "# Data directories\n",
    "data_dir = os.environ['DATA_DIR']\n",
    "splib07a_dir = os.path.join(data_dir, 'ASCIIdata_splib07a')\n",
    "splib07a_standardized_dir = os.path.join(data_dir, 'ASCIIdata_splib07a.standardized')\n",
    "spectrometers_dir = os.path.join(data_dir, 'spectrometers')\n",
    "\n",
    "# Spectrometers\n",
    "spectrometers = io.load_spectrometers(spectrometers_dir, splib07a_dir)\n",
    "\n",
    "# Test Spectrum\n",
    "raw_spectrum_path = os.path.join(splib07a_dir, 'ChapterM_Minerals', 'splib07a_Chlorite_SMR-13.c_45-60um_BECKa_AREF.txt')\n",
    "standardized_spectrum_path = os.path.join(splib07a_standardized_dir, '2714.csv')"
   ]
  },
  {
   "cell_type": "markdown",
   "metadata": {},
   "source": [
    "## Read and Plot Spectra Data"
   ]
  },
  {
   "cell_type": "code",
   "execution_count": 3,
   "metadata": {},
   "outputs": [
    {
     "data": {
      "image/png": "[encoded data removed]",
      "text/plain": [
       "<Figure size 432x288 with 1 Axes>"
      ]
     },
     "metadata": {
      "needs_background": "light"
     },
     "output_type": "display_data"
    },
    {
     "data": {
      "image/png": "[encoded data removed]",
      "text/plain": [
       "<Figure size 432x288 with 1 Axes>"
      ]
     },
     "metadata": {
      "needs_background": "light"
     },
     "output_type": "display_data"
    }
   ],
   "source": [
    "# --- Read spectra data\n",
    "\n",
    "raw_spectrum = pd.read_csv(raw_spectrum_path)\n",
    "spectrometer_wavelengths = spectrometers['BECK']['x-axis']['wavelength']['values']\n",
    "\n",
    "standardized_spectrum = pd.read_csv(standardized_spectrum_path)\n",
    "standardized_wavelengths = standardized_spectrum.wavelength\n",
    "\n",
    "# --- Plot raw and filled-in spectra\n",
    "\n",
    "plt.figure()\n",
    "plt.subplot(2, 1, 1)\n",
    "plt.plot(spectrometer_wavelengths, raw_spectrum)\n",
    "plt.show()\n",
    "    \n",
    "plt.subplot(2, 1, 2)\n",
    "plt.plot(standardized_wavelengths, standardized_spectrum.reflectance)\n",
    "    \n",
    "plt.show()"
   ]
  }
 ],
 "metadata": {
  "kernelspec": {
   "display_name": "Python 3",
   "language": "python",
   "name": "python3"
  },
  "language_info": {
   "codemirror_mode": {
    "name": "ipython",
    "version": 3
   },
   "file_extension": ".py",
   "mimetype": "text/x-python",
   "name": "python",
   "nbconvert_exporter": "python",
   "pygments_lexer": "ipython3",
   "version": "3.7.3"
  }
 },
 "nbformat": 4,
 "nbformat_minor": 2
}
